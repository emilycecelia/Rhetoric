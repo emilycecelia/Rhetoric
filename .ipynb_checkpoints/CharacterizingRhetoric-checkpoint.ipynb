{
 "cells": [
  {
   "cell_type": "code",
   "execution_count": 15,
   "metadata": {
    "collapsed": true
   },
   "outputs": [],
   "source": [
    "import pandas as pd"
   ]
  },
  {
   "cell_type": "code",
   "execution_count": 16,
   "metadata": {
    "collapsed": false
   },
   "outputs": [
    {
     "data": {
      "text/html": [
       "<div>\n",
       "<table border=\"1\" class=\"dataframe\">\n",
       "  <thead>\n",
       "    <tr style=\"text-align: right;\">\n",
       "      <th></th>\n",
       "      <th>Unnamed: 0</th>\n",
       "      <th>sent_id</th>\n",
       "      <th>token</th>\n",
       "      <th>is_stop</th>\n",
       "      <th>is_punct</th>\n",
       "    </tr>\n",
       "  </thead>\n",
       "  <tbody>\n",
       "    <tr>\n",
       "      <th>0</th>\n",
       "      <td>0</td>\n",
       "      <td>0</td>\n",
       "      <td>on</td>\n",
       "      <td>True</td>\n",
       "      <td>False</td>\n",
       "    </tr>\n",
       "    <tr>\n",
       "      <th>1</th>\n",
       "      <td>1</td>\n",
       "      <td>0</td>\n",
       "      <td>friday</td>\n",
       "      <td>False</td>\n",
       "      <td>False</td>\n",
       "    </tr>\n",
       "    <tr>\n",
       "      <th>2</th>\n",
       "      <td>2</td>\n",
       "      <td>0</td>\n",
       "      <td>evening</td>\n",
       "      <td>False</td>\n",
       "      <td>False</td>\n",
       "    </tr>\n",
       "    <tr>\n",
       "      <th>3</th>\n",
       "      <td>3</td>\n",
       "      <td>0</td>\n",
       "      <td>last</td>\n",
       "      <td>False</td>\n",
       "      <td>False</td>\n",
       "    </tr>\n",
       "    <tr>\n",
       "      <th>4</th>\n",
       "      <td>4</td>\n",
       "      <td>0</td>\n",
       "      <td>i</td>\n",
       "      <td>True</td>\n",
       "      <td>False</td>\n",
       "    </tr>\n",
       "  </tbody>\n",
       "</table>\n",
       "</div>"
      ],
      "text/plain": [
       "   Unnamed: 0  sent_id    token is_stop is_punct\n",
       "0           0        0       on    True    False\n",
       "1           1        0   friday   False    False\n",
       "2           2        0  evening   False    False\n",
       "3           3        0     last   False    False\n",
       "4           4        0        i    True    False"
      ]
     },
     "execution_count": 16,
     "metadata": {},
     "output_type": "execute_result"
    }
   ],
   "source": [
    "speech = pd.read_csv('data/parsed_churchill_blood.csv')\n",
    "speech.head()"
   ]
  },
  {
   "cell_type": "code",
   "execution_count": 17,
   "metadata": {
    "collapsed": true
   },
   "outputs": [],
   "source": [
    "from nltk import Text\n",
    "import re\n",
    "import nltk\n",
    "text = Text(speech.token.tolist())"
   ]
  },
  {
   "cell_type": "markdown",
   "metadata": {},
   "source": [
    "### What are Churchill's responses to his questions?"
   ]
  },
  {
   "cell_type": "code",
   "execution_count": 39,
   "metadata": {
    "collapsed": true
   },
   "outputs": [],
   "source": [
    "def get_tokens_as_list(df, args):\n",
    "    vals = df[args].tolist()\n",
    "    return vals\n",
    "\n",
    "def concat_vals(df, args):\n",
    "    vals = df[args].tolist()\n",
    "    return ' '.join(vals)"
   ]
  },
  {
   "cell_type": "code",
   "execution_count": 19,
   "metadata": {
    "collapsed": false
   },
   "outputs": [],
   "source": [
    "q_sent_ids = speech[ speech.token == '?' ].sent_id.tolist()\n",
    "q_tokens = speech[ speech.sent_id.isin(q_sent_ids) ]\n",
    "q = q_tokens.groupby('sent_id').apply(concat_vals, args=('token')).reset_index()"
   ]
  },
  {
   "cell_type": "code",
   "execution_count": 20,
   "metadata": {
    "collapsed": false
   },
   "outputs": [],
   "source": [
    "a_sent_ids = [i + 1 for i in q_sent_ids]\n",
    "a_tokens = speech[ speech.sent_id.isin(a_sent_ids) ]\n",
    "a = a_tokens.groupby('sent_id').apply(concat_vals, args=('token')).reset_index()"
   ]
  },
  {
   "cell_type": "code",
   "execution_count": 21,
   "metadata": {
    "collapsed": false
   },
   "outputs": [
    {
     "data": {
      "text/html": [
       "<div>\n",
       "<table border=\"1\" class=\"dataframe\">\n",
       "  <thead>\n",
       "    <tr style=\"text-align: right;\">\n",
       "      <th></th>\n",
       "      <th>0</th>\n",
       "      <th>1</th>\n",
       "      <th>2</th>\n",
       "      <th>3</th>\n",
       "    </tr>\n",
       "  </thead>\n",
       "  <tbody>\n",
       "    <tr>\n",
       "      <th>0</th>\n",
       "      <td>23</td>\n",
       "      <td>you ask , what is our policy ?</td>\n",
       "      <td>24</td>\n",
       "      <td>i say it is to wage war by land , sea , and air .</td>\n",
       "    </tr>\n",
       "    <tr>\n",
       "      <th>1</th>\n",
       "      <td>27</td>\n",
       "      <td>you ask , what is our aim ?</td>\n",
       "      <td>28</td>\n",
       "      <td>i can answer in one word .</td>\n",
       "    </tr>\n",
       "  </tbody>\n",
       "</table>\n",
       "</div>"
      ],
      "text/plain": [
       "    0                               1   2  \\\n",
       "0  23  you ask , what is our policy ?  24   \n",
       "1  27     you ask , what is our aim ?  28   \n",
       "\n",
       "                                                   3  \n",
       "0  i say it is to wage war by land , sea , and air .  \n",
       "1                         i can answer in one word .  "
      ]
     },
     "execution_count": 21,
     "metadata": {},
     "output_type": "execute_result"
    }
   ],
   "source": [
    "pd.concat([q,a], ignore_index=True, axis=1)"
   ]
  },
  {
   "cell_type": "code",
   "execution_count": 22,
   "metadata": {
    "collapsed": false
   },
   "outputs": [
    {
     "name": "stdout",
     "output_type": "stream",
     "text": [
      "Displaying 1 of 1 matches:\n",
      "hat is our aim ? i can answer in one word . it is victory . victory at all cos\n"
     ]
    }
   ],
   "source": [
    "text.concordance('word')"
   ]
  },
  {
   "cell_type": "code",
   "execution_count": 23,
   "metadata": {
    "collapsed": false
   },
   "outputs": [],
   "source": [
    "#POS\n",
    "speech['pos'] = [pos for token,pos in nltk.pos_tag(speech.token.tolist())]"
   ]
  },
  {
   "cell_type": "code",
   "execution_count": 24,
   "metadata": {
    "collapsed": false
   },
   "outputs": [
    {
     "data": {
      "text/html": [
       "<div>\n",
       "<table border=\"1\" class=\"dataframe\">\n",
       "  <thead>\n",
       "    <tr style=\"text-align: right;\">\n",
       "      <th></th>\n",
       "      <th>Unnamed: 0</th>\n",
       "      <th>sent_id</th>\n",
       "      <th>token</th>\n",
       "      <th>is_stop</th>\n",
       "      <th>is_punct</th>\n",
       "      <th>pos</th>\n",
       "    </tr>\n",
       "  </thead>\n",
       "  <tbody>\n",
       "    <tr>\n",
       "      <th>0</th>\n",
       "      <td>0</td>\n",
       "      <td>0</td>\n",
       "      <td>on</td>\n",
       "      <td>True</td>\n",
       "      <td>False</td>\n",
       "      <td>IN</td>\n",
       "    </tr>\n",
       "    <tr>\n",
       "      <th>1</th>\n",
       "      <td>1</td>\n",
       "      <td>0</td>\n",
       "      <td>friday</td>\n",
       "      <td>False</td>\n",
       "      <td>False</td>\n",
       "      <td>JJ</td>\n",
       "    </tr>\n",
       "    <tr>\n",
       "      <th>2</th>\n",
       "      <td>2</td>\n",
       "      <td>0</td>\n",
       "      <td>evening</td>\n",
       "      <td>False</td>\n",
       "      <td>False</td>\n",
       "      <td>VBG</td>\n",
       "    </tr>\n",
       "    <tr>\n",
       "      <th>3</th>\n",
       "      <td>3</td>\n",
       "      <td>0</td>\n",
       "      <td>last</td>\n",
       "      <td>False</td>\n",
       "      <td>False</td>\n",
       "      <td>JJ</td>\n",
       "    </tr>\n",
       "    <tr>\n",
       "      <th>4</th>\n",
       "      <td>4</td>\n",
       "      <td>0</td>\n",
       "      <td>i</td>\n",
       "      <td>True</td>\n",
       "      <td>False</td>\n",
       "      <td>JJ</td>\n",
       "    </tr>\n",
       "  </tbody>\n",
       "</table>\n",
       "</div>"
      ],
      "text/plain": [
       "   Unnamed: 0  sent_id    token is_stop is_punct  pos\n",
       "0           0        0       on    True    False   IN\n",
       "1           1        0   friday   False    False   JJ\n",
       "2           2        0  evening   False    False  VBG\n",
       "3           3        0     last   False    False   JJ\n",
       "4           4        0        i    True    False   JJ"
      ]
     },
     "execution_count": 24,
     "metadata": {},
     "output_type": "execute_result"
    }
   ],
   "source": [
    "# Repetition\n",
    "speech.head()"
   ]
  },
  {
   "cell_type": "code",
   "execution_count": 25,
   "metadata": {
    "collapsed": true
   },
   "outputs": [],
   "source": [
    "# Rhetorical Question"
   ]
  },
  {
   "cell_type": "markdown",
   "metadata": {},
   "source": [
    "# Intensifiers\n",
    "http://qaenglish11slcrane.blogspot.com/2011/11/blood-toil-tears-and-sweat-winston.html\n",
    "The language is full of intensifiers, including superlatives (greatest, best, most, fastest), comparatives, and exaggeration. These are all examples of how Churchill intensifies his appeal wage war. He makes it give the impression as if there is no other alternative but to fight against the Nazis keep Britain’s pride. The speaker emphasizes the importance of the war, and how it will affect the future."
   ]
  },
  {
   "cell_type": "code",
   "execution_count": 26,
   "metadata": {
    "collapsed": false
   },
   "outputs": [
    {
     "data": {
      "text/plain": [
       "True"
      ]
     },
     "execution_count": 26,
     "metadata": {},
     "output_type": "execute_result"
    }
   ],
   "source": [
    "intensifiers = ['amazingly', 'astoundingly', 'dreadfully', 'colossally', 'especially', 'exceptionally',\n",
    "                'excessively', 'extremely', 'extraordinarily', 'fantastically', 'frightfully', 'fully', \n",
    "                'incredibly', 'literally', 'mightily', 'moderately', 'most', 'outrageously', \n",
    "                'phenomenally', 'quite', 'radically', 'rather', 'real', 'really', 'remarkably', 'right', \n",
    "                'somewhat', 'strikingly', 'super', 'supremely', 'surpassingly', 'terribly', \n",
    "                'terrifically', 'too', 'totally', 'uncommonly', 'unusually', 'veritable', 'very']\n",
    "\n",
    "def is_intensifier(token):\n",
    "    return token in intensifiers\n",
    "\n",
    "is_intensifier('most')"
   ]
  },
  {
   "cell_type": "code",
   "execution_count": 50,
   "metadata": {
    "collapsed": false
   },
   "outputs": [
    {
     "data": {
      "text/plain": [
       "3"
      ]
     },
     "execution_count": 50,
     "metadata": {},
     "output_type": "execute_result"
    }
   ],
   "source": [
    "#Alliteration\n",
    "from nltk import ngrams\n",
    "\n",
    "def is_vowel(char):\n",
    "    if char in ('a','e','i','o','u','y'):\n",
    "        return True\n",
    "    return False\n",
    "\n",
    "def has_alliteration(word1, word2):\n",
    "    gram00 = word1[0]\n",
    "    gram01 = word1[1]\n",
    "    gram10 = word2[0]\n",
    "    gram11 = word2[1]\n",
    "    \n",
    "    if gram00==gram10:\n",
    "        if is_vowel(gram00):\n",
    "            return True\n",
    "        else:\n",
    "            if is_vowel(gram01) and is_vowel(gram11):\n",
    "                return True\n",
    "            elif gram01 == gram11:\n",
    "                return True\n",
    "    return False\n",
    "\n",
    "def count_alliteration(tokens):\n",
    "    allit_count = 0\n",
    "    bigrams = ngrams(tokens, 2)\n",
    "    for bigram in bigrams:\n",
    "        if has_alliteration(bigram[0],bigram[1]):\n",
    "            allit_count += 1      \n",
    "    trigrams = ngrams(tokens, 3)\n",
    "    for trigram in trigrams:\n",
    "        if has_alliteration(trigram[0],trigram[2]):\n",
    "            allit_count += 1\n",
    "    return allit_count\n",
    "\n",
    "count_alliteration(['the','thankless', 'task', 'of', 'turning','tunes'])\n",
    "            \n",
    "    "
   ]
  },
  {
   "cell_type": "code",
   "execution_count": 27,
   "metadata": {
    "collapsed": true
   },
   "outputs": [],
   "source": [
    "# Ethos\n"
   ]
  },
  {
   "cell_type": "code",
   "execution_count": 28,
   "metadata": {
    "collapsed": true
   },
   "outputs": [],
   "source": [
    "# Pathos"
   ]
  },
  {
   "cell_type": "markdown",
   "metadata": {},
   "source": [
    "# Syntax\n",
    "https://prezi.com/vlxsv864fzpc/blood-sweat-toil-and-tears/\n",
    "\n",
    "Churchill uses long elaborate sentences for most of speech, then short ones for main points."
   ]
  },
  {
   "cell_type": "code",
   "execution_count": 29,
   "metadata": {
    "collapsed": false
   },
   "outputs": [
    {
     "data": {
      "text/plain": [
       "<matplotlib.axes._subplots.AxesSubplot at 0x118e374a8>"
      ]
     },
     "execution_count": 29,
     "metadata": {},
     "output_type": "execute_result"
    },
    {
     "data": {
      "image/png": "[encoded data removed]",
      "text/plain": [
       "<matplotlib.figure.Figure at 0x119c801d0>"
      ]
     },
     "metadata": {},
     "output_type": "display_data"
    }
   ],
   "source": [
    "import matplotlib\n",
    "%matplotlib inline\n",
    "matplotlib.style.use('ggplot')\n",
    "\n",
    "speech[speech.is_punct == False].groupby('sent_id').size().plot()"
   ]
  },
  {
   "cell_type": "markdown",
   "metadata": {},
   "source": [
    "# parallels\n",
    "land, sea, and air\n",
    "bload, toil, tears"
   ]
  },
  {
   "cell_type": "code",
   "execution_count": 126,
   "metadata": {
    "collapsed": false
   },
   "outputs": [
    {
     "name": "stdout",
     "output_type": "stream",
     "text": [
      "1\n",
      "0\n",
      "1\n",
      "1\n"
     ]
    }
   ],
   "source": [
    "import re\n",
    "\n",
    "parallel_p = re.compile('(\\w+\\s,\\s){2,}((\\w+\\sand\\s\\w+)|(and\\s\\w+))')\n",
    "def contains_parallel(s):\n",
    "    m = re.search(parallel_p,s)\n",
    "    if m:\n",
    "        return 1\n",
    "    return 0\n",
    "\n",
    "print(contains_parallel('land , sea , and air'))\n",
    "print(contains_parallel('land , sea and air'))\n",
    "print(contains_parallel('i have been to land , sea , and air today'))\n",
    "print(contains_parallel('i say it is to wage war by land , sea , and air .'))"
   ]
  },
  {
   "cell_type": "code",
   "execution_count": 127,
   "metadata": {
    "collapsed": true
   },
   "outputs": [],
   "source": [
    "similarity_clauses = ['in the first place', 'not only', 'as a matter of fact', 'in like manner', 'in addition',\n",
    "                      'coupled with', 'in the same fashion', 'in the same way', 'first, second, third', \n",
    "                      'in the light of', 'not to mention', 'to say nothing of', 'equally important', \n",
    "                      'by the same token', 'again', 'equally', 'identically', \n",
    "                      'uniquely', 'like', 'too', 'moreover', 'as well as', 'together with', 'of course', \n",
    "                      'likewise', 'comparatively', 'correspondingly', 'similarly', 'furthermore', 'additionally']\n",
    "\n",
    "opposition_clauses = ['although this may be true', 'in contrast', 'different from', 'on the other hand', \n",
    "                      'on the contrary', 'at the same time', 'in spite of', 'even so', 'even though', \n",
    "                      'be that as it may', 'then again', 'above all', 'in reality', 'after all', 'but', \n",
    "                      'and still', 'unlike', 'and yet', 'while', 'albeit', 'besides', 'as much as', \n",
    "                      'even though', 'although', 'instead', 'whereas', 'despite', 'conversely', 'otherwise', \n",
    "                      'however', 'rather', 'nevertheless', 'nonetheless', 'regardless', 'notwithstanding']\n",
    "\n",
    "conditional_clauses = ['in the event that', 'granted that', 'as long as', 'so long as', 'for the purpose of', \n",
    "                       'with this intention', 'with this in mind', 'in the hope that', 'to the end that', \n",
    "                       'for fear that', 'in order to', 'seeing that', 'being that', 'in view of', 'unless', \n",
    "                       'when', 'whenever', 'while', 'because of', 'while', 'lest', 'in case', \n",
    "                       'provided that', 'given that', 'only if', 'even if', 'so that', 'so as to', 'owing to', \n",
    "                       'inasmuch as', 'due to']\n",
    "\n",
    "example_clauses = ['in other words', 'to put it differently', 'for one thing', 'as an illustration', 'in this case', \n",
    "            'for this reason', 'to put it another way', 'that is to say', 'with attention to', 'by all means', \n",
    "            'important to realize', 'another key point', 'first thing to remember', 'most compelling evidence', \n",
    "            'must be remembered', 'point often overlooked', 'to point out', 'on the positive side', \n",
    "            'on the negative side', 'with this in mind', 'notably', 'including', 'like', 'to be sure', 'namely', \n",
    "            'chiefly', 'truly', 'indeed', 'certainly', 'surely', 'markedly', 'such as', 'especially', 'explicitly', \n",
    "            'specifically', 'expressly', 'surprisingly', 'frequently', 'significantly', 'particularly', 'in fact', \n",
    "            'in general', 'in particular', 'in detail', 'for example', 'for instance', 'to demonstrate', \n",
    "            'to emphasize', 'to repeat', 'to clarify', 'to explain', 'to enumerate']\n",
    "\n",
    "result_clauses = ['as a result', 'under those circumstances', 'in that case', 'for this reason', 'in effect', \n",
    "                  'thus', 'because the', 'hence', 'consequently', 'therefore', 'thereupon', \n",
    "                  'forthwith', 'accordingly', 'henceforth']\n",
    "\n",
    "conclusion_clauses = ['as a result', 'under those circumstances', 'in that case', 'for this reason', \n",
    "                      'in effect', ', for', 'thus', 'because the', 'then', 'hence', 'consequently', 'therefore', \n",
    "                      'thereupon', 'forthwith', 'accordingly', 'henceforth']\n",
    "\n",
    "sequence_clauses = ['at the present time', 'from time to time', 'sooner or later', 'at the same time',\n",
    "                    'up to the present time', 'to begin with', 'in due time', 'as soon as', 'as long as',\n",
    "                    'in the meantime', 'in a moment', 'without delay', 'in the first place', 'all of a sudden',\n",
    "                    'at this instant', 'first', 'second ', 'immediately', 'quickly', 'finally', 'after', 'later',\n",
    "                    'last', 'until', 'till', 'since', 'then', 'before', 'hence', 'since', 'when', 'once', 'about',\n",
    "                    'next', 'now', 'formerly', 'suddenly', 'shortly', 'henceforth', 'whenever', 'eventually',\n",
    "                    'meanwhile', 'further', 'during', 'in time', 'prior to', 'forthwith', 'straightaway ',\n",
    "                    'by the time', 'whenever ', 'until now', 'now that ', 'instantly', 'presently', 'occasionally']\n",
    "\n",
    "\n",
    "def contains_clause(s, args):\n",
    "    patterns = args\n",
    "    for pattern in patterns:\n",
    "        pattern = '(^%s)|(\\s%s\\s)' % (pattern,pattern,)\n",
    "        m = re.search(pattern, s)\n",
    "        if m:\n",
    "            return 1\n",
    "    return 0"
   ]
  },
  {
   "cell_type": "code",
   "execution_count": 128,
   "metadata": {
    "collapsed": false
   },
   "outputs": [],
   "source": [
    "def identify_clauses(s):\n",
    "    similarity = contains_clause(s, similarity_clauses)#contains_similarity_clause(s)\n",
    "    opposition = contains_clause(s, opposition_clauses)\n",
    "    conditional = contains_clause(s, conditional_clauses)\n",
    "    example = contains_clause(s, example_clauses)\n",
    "    result = contains_clause(s, result_clauses)\n",
    "    conclusion = contains_clause(s, conclusion_clauses)\n",
    "    sequence = contains_clause(s, sequence_clauses)\n",
    "    \n",
    "    d = dict(has_similarity=similarity, has_opposition=opposition, has_conditional=conditional,\n",
    "            has_example=example, has_result=result, has_conclusion=conclusion, has_sequence=sequence)\n",
    "    \n",
    "    return pd.Series(d)    "
   ]
  },
  {
   "cell_type": "code",
   "execution_count": 129,
   "metadata": {
    "collapsed": true
   },
   "outputs": [],
   "source": [
    "# count pronouns\n",
    "from collections import Counter \n",
    "\n",
    "def count_pronouns(ser):\n",
    "    tokens = ser['tokens']\n",
    "    pos = ser['pos_pattern']\n",
    "    tokpos = zip(tokens,pos)\n",
    "    counter = Counter()\n",
    "    for tok,pos in tokpos:\n",
    "        if pos == 'PRP':\n",
    "            counter.update([tok])\n",
    "    return pd.Series(counter)\n",
    "    "
   ]
  },
  {
   "cell_type": "markdown",
   "metadata": {},
   "source": [
    "VERB - verbs (all tenses and modes)\n",
    "NOUN - nouns (common and proper)\n",
    "PRON - pronouns\n",
    "ADJ - adjectives\n",
    "ADV - adverbs\n",
    "ADP - adpositions (prepositions and postpositions)\n",
    "CONJ - conjunctions\n",
    "DET - determiners\n",
    "NUM - cardinal numbers\n",
    "PRT - particles or other function words\n",
    "X - other: foreign words, typos, abbreviations\n",
    ". - punctuation\n",
    "\n",
    "{'!': '.', 'A': 'ADJ', 'C': 'CONJ', 'AD': 'ADV',\\\n",
    "            'NN': 'NOUN', 'VG': 'VERB', 'COMP': 'CONJ', 'NC': 'NUM', 'VP': 'VERB', 'P': 'ADP',\\\n",
    "            'IJ': 'X', 'V': 'VERB', 'Z': 'X', 'VI': 'VERB', 'YES_NO_SENT': 'X', 'PTCL': 'PRT'}"
   ]
  },
  {
   "cell_type": "code",
   "execution_count": null,
   "metadata": {
    "collapsed": true
   },
   "outputs": [],
   "source": [
    "class Speech():\n",
    "    def __init__(self, low_string):\n",
    "        self.string = low_string\n",
    "        self.tokens = self.make_token_df()\n",
    "        self.sentences = self.make_sent_df()\n",
    "        self.metrics = self.make_metrics()\n",
    "        \n",
    "    def make_token_df(self):\n",
    "        rows = []\n",
    "        sent_id = 0\n",
    "        for sentence in sent_tokenize(speech):\n",
    "            for word in word_tokenize(sentence):\n",
    "                info = {'token':word, 'sent_id':sent_id}\n",
    "                rows.append(info)\n",
    "            sent_id += 1\n",
    "        parsed_speech = pd.DataFrame(rows)\n",
    "        parsed_speech['is_stop'] = parsed_speech.token.apply(self.is_stopword)\n",
    "        parsed_speech['is_punct'] = parsed_speech['token'].apply(self.is_punctuation\n",
    "        return parsed_speech\n",
    "        \n",
    "    def make_sent_df(self):\n",
    "        speech = self.tokens.groupby('sent_id').apply(get_tokens_as_list, args=('token'))\n",
    "        speech_tags = speech.groupby('sent_id').apply(get_tokens_as_list, args=('pos'))\n",
    "        speech_sentences = pd.concat([speech_sentences,speech_tags], axis=1).reset_index()\n",
    "        speech_sentences.columns = ['sent_id','tokens','pos_pattern']\n",
    "        speech_sentences['sentence'] = speech_sentences['tokens'].apply(' '.join)\n",
    "        speech_sentences['num_tokens'] = speech_sentences['tokens'].apply(len)\n",
    "        speech_sentences = pd.concat([speech_sentences, speech_sentences.sentence.apply(identify_clauses)], axis=1)\n",
    "        speech_sentences['has_parallel'] = speech_sentences.sentence.apply(contains_parallel)\n",
    "        pronouns = speech_sentences.apply(count_pronouns, axis=1)\n",
    "        speech_sentences = pd.concat([speech_sentences,pronouns], axis=1)\n",
    "        return speech_sentences\n",
    "    \n",
    "    def make_metrics(self):\n",
    "        metric_columns = [x for x in self.sentences.columns if x not in ['sent_id', 'tokens', 'pos_pattern', 'sentence', 'num_tokens']]\n",
    "        return self.sentences[metric_columns].sum()\n",
    "    \n",
    "    def is_stopword(self,token):\n",
    "    stops = stopwords.words('english').copy()\n",
    "    return token in stops\n",
    "\n",
    "    def is_punctuation(self,token):\n",
    "        return token in string.punctuation\n",
    "                                                                 \n",
    "    def get_tokens_as_list(self, args):\n",
    "    vals = df[args].tolist()\n",
    "    return vals\n",
    "\n",
    "    def concat_vals(self, args):\n",
    "        vals = df[args].tolist()\n",
    "        return ' '.join(vals)"
   ]
  },
  {
   "cell_type": "code",
   "execution_count": 130,
   "metadata": {
    "collapsed": false
   },
   "outputs": [],
   "source": [
    "speech_sentences = speech.groupby('sent_id').apply(get_tokens_as_list, args=('token'))\n",
    "speech_tags = speech.groupby('sent_id').apply(get_tokens_as_list, args=('pos'))\n",
    "speech_sentences = pd.concat([speech_sentences,speech_tags], axis=1).reset_index()\n",
    "speech_sentences.columns = ['sent_id','tokens','pos_pattern']\n",
    "speech_sentences['sentence'] = speech_sentences['tokens'].apply(' '.join)\n",
    "speech_sentences['num_tokens'] = speech_sentences['tokens'].apply(len)"
   ]
  },
  {
   "cell_type": "code",
   "execution_count": 131,
   "metadata": {
    "collapsed": false
   },
   "outputs": [],
   "source": [
    "speech_sentences = pd.concat([speech_sentences, speech_sentences.sentence.apply(identify_clauses)], axis=1)"
   ]
  },
  {
   "cell_type": "code",
   "execution_count": 132,
   "metadata": {
    "collapsed": false
   },
   "outputs": [],
   "source": [
    "speech_sentences['has_parallel'] = speech_sentences.sentence.apply(contains_parallel)"
   ]
  },
  {
   "cell_type": "code",
   "execution_count": 133,
   "metadata": {
    "collapsed": false
   },
   "outputs": [],
   "source": [
    "pronouns = speech_sentences.apply(count_pronouns, axis=1)\n",
    "speech_sentences = pd.concat([speech_sentences,pronouns], axis=1)"
   ]
  },
  {
   "cell_type": "code",
   "execution_count": 134,
   "metadata": {
    "collapsed": false
   },
   "outputs": [
    {
     "data": {
      "text/html": [
       "<div>\n",
       "<table border=\"1\" class=\"dataframe\">\n",
       "  <thead>\n",
       "    <tr style=\"text-align: right;\">\n",
       "      <th></th>\n",
       "      <th>sent_id</th>\n",
       "      <th>tokens</th>\n",
       "      <th>pos_pattern</th>\n",
       "      <th>sentence</th>\n",
       "      <th>num_tokens</th>\n",
       "      <th>has_conclusion</th>\n",
       "      <th>has_conditional</th>\n",
       "      <th>has_example</th>\n",
       "      <th>has_opposition</th>\n",
       "      <th>has_result</th>\n",
       "      <th>has_sequence</th>\n",
       "      <th>has_similarity</th>\n",
       "      <th>has_parallel</th>\n",
       "      <th>it</th>\n",
       "      <th>itself</th>\n",
       "      <th>us</th>\n",
       "      <th>we</th>\n",
       "      <th>you</th>\n",
       "    </tr>\n",
       "  </thead>\n",
       "  <tbody>\n",
       "    <tr>\n",
       "      <th>0</th>\n",
       "      <td>0</td>\n",
       "      <td>[on, friday, evening, last, i, received, from,...</td>\n",
       "      <td>[IN, JJ, VBG, JJ, JJ, VBD, IN, PRP$, NN, DT, N...</td>\n",
       "      <td>on friday evening last i received from his maj...</td>\n",
       "      <td>17</td>\n",
       "      <td>0</td>\n",
       "      <td>0</td>\n",
       "      <td>0</td>\n",
       "      <td>0</td>\n",
       "      <td>0</td>\n",
       "      <td>1</td>\n",
       "      <td>0</td>\n",
       "      <td>0</td>\n",
       "      <td>NaN</td>\n",
       "      <td>NaN</td>\n",
       "      <td>NaN</td>\n",
       "      <td>NaN</td>\n",
       "      <td>NaN</td>\n",
       "    </tr>\n",
       "    <tr>\n",
       "      <th>1</th>\n",
       "      <td>1</td>\n",
       "      <td>[it, was, the, evident, will, of, ', parliamen...</td>\n",
       "      <td>[PRP, VBD, DT, JJ, MD, IN, POS, NN, CC, DT, NN...</td>\n",
       "      <td>it was the evident will of ' parliament and th...</td>\n",
       "      <td>29</td>\n",
       "      <td>0</td>\n",
       "      <td>0</td>\n",
       "      <td>0</td>\n",
       "      <td>0</td>\n",
       "      <td>0</td>\n",
       "      <td>0</td>\n",
       "      <td>0</td>\n",
       "      <td>0</td>\n",
       "      <td>2.0</td>\n",
       "      <td>NaN</td>\n",
       "      <td>NaN</td>\n",
       "      <td>NaN</td>\n",
       "      <td>NaN</td>\n",
       "    </tr>\n",
       "    <tr>\n",
       "      <th>2</th>\n",
       "      <td>2</td>\n",
       "      <td>[i, have, already, completed, the, most, impor...</td>\n",
       "      <td>[NNS, VBP, RB, VBN, DT, RBS, JJ, NN, IN, DT, N...</td>\n",
       "      <td>i have already completed the most important pa...</td>\n",
       "      <td>12</td>\n",
       "      <td>0</td>\n",
       "      <td>0</td>\n",
       "      <td>0</td>\n",
       "      <td>0</td>\n",
       "      <td>0</td>\n",
       "      <td>0</td>\n",
       "      <td>0</td>\n",
       "      <td>0</td>\n",
       "      <td>NaN</td>\n",
       "      <td>NaN</td>\n",
       "      <td>NaN</td>\n",
       "      <td>NaN</td>\n",
       "      <td>NaN</td>\n",
       "    </tr>\n",
       "    <tr>\n",
       "      <th>3</th>\n",
       "      <td>3</td>\n",
       "      <td>[a, war, cabinet, has, been, formed, of, five,...</td>\n",
       "      <td>[DT, NN, NN, VBZ, VBN, VBN, IN, CD, NNS, ,, VB...</td>\n",
       "      <td>a war cabinet has been formed of five members ...</td>\n",
       "      <td>27</td>\n",
       "      <td>0</td>\n",
       "      <td>0</td>\n",
       "      <td>0</td>\n",
       "      <td>0</td>\n",
       "      <td>0</td>\n",
       "      <td>0</td>\n",
       "      <td>0</td>\n",
       "      <td>1</td>\n",
       "      <td>NaN</td>\n",
       "      <td>NaN</td>\n",
       "      <td>NaN</td>\n",
       "      <td>NaN</td>\n",
       "      <td>NaN</td>\n",
       "    </tr>\n",
       "    <tr>\n",
       "      <th>4</th>\n",
       "      <td>4</td>\n",
       "      <td>[it, was, necessary, that, this, should, be, d...</td>\n",
       "      <td>[PRP, VBD, JJ, IN, DT, MD, VB, VBN, IN, CD, JJ...</td>\n",
       "      <td>it was necessary that this should be done in o...</td>\n",
       "      <td>23</td>\n",
       "      <td>0</td>\n",
       "      <td>0</td>\n",
       "      <td>0</td>\n",
       "      <td>0</td>\n",
       "      <td>0</td>\n",
       "      <td>0</td>\n",
       "      <td>0</td>\n",
       "      <td>0</td>\n",
       "      <td>1.0</td>\n",
       "      <td>NaN</td>\n",
       "      <td>NaN</td>\n",
       "      <td>NaN</td>\n",
       "      <td>NaN</td>\n",
       "    </tr>\n",
       "  </tbody>\n",
       "</table>\n",
       "</div>"
      ],
      "text/plain": [
       "   sent_id                                             tokens  \\\n",
       "0        0  [on, friday, evening, last, i, received, from,...   \n",
       "1        1  [it, was, the, evident, will, of, ', parliamen...   \n",
       "2        2  [i, have, already, completed, the, most, impor...   \n",
       "3        3  [a, war, cabinet, has, been, formed, of, five,...   \n",
       "4        4  [it, was, necessary, that, this, should, be, d...   \n",
       "\n",
       "                                         pos_pattern  \\\n",
       "0  [IN, JJ, VBG, JJ, JJ, VBD, IN, PRP$, NN, DT, N...   \n",
       "1  [PRP, VBD, DT, JJ, MD, IN, POS, NN, CC, DT, NN...   \n",
       "2  [NNS, VBP, RB, VBN, DT, RBS, JJ, NN, IN, DT, N...   \n",
       "3  [DT, NN, NN, VBZ, VBN, VBN, IN, CD, NNS, ,, VB...   \n",
       "4  [PRP, VBD, JJ, IN, DT, MD, VB, VBN, IN, CD, JJ...   \n",
       "\n",
       "                                            sentence  num_tokens  \\\n",
       "0  on friday evening last i received from his maj...          17   \n",
       "1  it was the evident will of ' parliament and th...          29   \n",
       "2  i have already completed the most important pa...          12   \n",
       "3  a war cabinet has been formed of five members ...          27   \n",
       "4  it was necessary that this should be done in o...          23   \n",
       "\n",
       "   has_conclusion  has_conditional  has_example  has_opposition  has_result  \\\n",
       "0               0                0            0               0           0   \n",
       "1               0                0            0               0           0   \n",
       "2               0                0            0               0           0   \n",
       "3               0                0            0               0           0   \n",
       "4               0                0            0               0           0   \n",
       "\n",
       "   has_sequence  has_similarity  has_parallel   it  itself  us  we  you  \n",
       "0             1               0             0  NaN     NaN NaN NaN  NaN  \n",
       "1             0               0             0  2.0     NaN NaN NaN  NaN  \n",
       "2             0               0             0  NaN     NaN NaN NaN  NaN  \n",
       "3             0               0             1  NaN     NaN NaN NaN  NaN  \n",
       "4             0               0             0  1.0     NaN NaN NaN  NaN  "
      ]
     },
     "execution_count": 134,
     "metadata": {},
     "output_type": "execute_result"
    }
   ],
   "source": [
    "speech_sentences.head()"
   ]
  },
  {
   "cell_type": "code",
   "execution_count": 111,
   "metadata": {
    "collapsed": false
   },
   "outputs": [
    {
     "name": "stdout",
     "output_type": "stream",
     "text": [
      "Index(['sent_id', 'tokens', 'pos_pattern', 'sentence', 'num_tokens',\n",
      "       'has_conclusion', 'has_conditional', 'has_example', 'has_opposition',\n",
      "       'has_result', 'has_sequence', 'has_similarity', 'has_parallel', 'it',\n",
      "       'itself', 'us', 'we', 'you'],\n",
      "      dtype='object')\n"
     ]
    }
   ],
   "source": [
    "print(speech_sentences.columns)"
   ]
  },
  {
   "cell_type": "code",
   "execution_count": 110,
   "metadata": {
    "collapsed": false
   },
   "outputs": [
    {
     "data": {
      "text/plain": [
       "2"
      ]
     },
     "execution_count": 110,
     "metadata": {},
     "output_type": "execute_result"
    }
   ],
   "source": [
    "def count_boolean(df, col):\n",
    "    return len(speech_sentences[col][speech_sentences[col] != False])\n",
    "\n",
    "count_boolean(speech_sentences, 'has_conclusion')"
   ]
  },
  {
   "cell_type": "code",
   "execution_count": 136,
   "metadata": {
    "collapsed": false
   },
   "outputs": [],
   "source": [
    "def calculate_metrics(speech_df):\n",
    "    metric_columns = [x for x in speech_df.columns if x not in ['sent_id', 'tokens', 'pos_pattern', 'sentence', 'num_tokens']]\n",
    "    return speech_df[metric_columns].sum()"
   ]
  },
  {
   "cell_type": "code",
   "execution_count": 137,
   "metadata": {
    "collapsed": false
   },
   "outputs": [
    {
     "data": {
      "text/plain": [
       "has_conclusion     2.0\n",
       "has_conditional    1.0\n",
       "has_example        0.0\n",
       "has_opposition     3.0\n",
       "has_result         0.0\n",
       "has_sequence       9.0\n",
       "has_similarity     2.0\n",
       "has_parallel       3.0\n",
       "it                 7.0\n",
       "itself             1.0\n",
       "us                 4.0\n",
       "we                 5.0\n",
       "you                2.0\n",
       "dtype: float64"
      ]
     },
     "execution_count": 137,
     "metadata": {},
     "output_type": "execute_result"
    }
   ],
   "source": [
    "calculate_metrics(speech_sentences)"
   ]
  },
  {
   "cell_type": "code",
   "execution_count": null,
   "metadata": {
    "collapsed": true
   },
   "outputs": [],
   "source": []
  }
 ],
 "metadata": {
  "kernelspec": {
   "display_name": "Python 3",
   "language": "python",
   "name": "python3"
  },
  "language_info": {
   "codemirror_mode": {
    "name": "ipython",
    "version": 3
   },
   "file_extension": ".py",
   "mimetype": "text/x-python",
   "name": "python",
   "nbconvert_exporter": "python",
   "pygments_lexer": "ipython3",
   "version": "3.5.1"
  }
 },
 "nbformat": 4,
 "nbformat_minor": 0
}
