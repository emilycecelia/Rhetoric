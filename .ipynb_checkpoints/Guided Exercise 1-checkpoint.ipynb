{
 "cells": [
  {
   "cell_type": "markdown",
   "metadata": {},
   "source": [
    "# Guided Exercise 1\n",
    "This exercise will be using another speech by Churchill called 'We Will Fight On the Beaches'.  Listen to a bit here: https://www.youtube.com/watch?v=MkTw3_PmKtc"
   ]
  },
  {
   "cell_type": "code",
   "execution_count": null,
   "metadata": {
    "collapsed": true
   },
   "outputs": [],
   "source": [
    "from nltk import sent_tokenize, word_tokenize\n",
    "from nltk.corpus import stopwords\n",
    "import string\n",
    "import pandas as pd"
   ]
  },
  {
   "cell_type": "markdown",
   "metadata": {},
   "source": [
    "## Parse Data"
   ]
  },
  {
   "cell_type": "markdown",
   "metadata": {},
   "source": [
    "Identify the filepath of the speech.  Open the speech, read it, convert to lowercase, and store it in the variable ```speech```.\n"
   ]
  },
  {
   "cell_type": "code",
   "execution_count": null,
   "metadata": {
    "collapsed": false
   },
   "outputs": [],
   "source": [
    "fp = 'speeches/Churchill-Beaches.txt'\n",
    "speech = open(fp)"
   ]
  },
  {
   "cell_type": "markdown",
   "metadata": {},
   "source": [
    "Create an empty list called ```rows``` and an integer set to 0 called ```sent_id```.  Then for each sentence in ```speech```, tokenize the sentence and for each token in the sentence, create a dictionary with keys and values for 'token' and 'sent_id'.  Then append each dictionary to ```rows```."
   ]
  },
  {
   "cell_type": "code",
   "execution_count": null,
   "metadata": {
    "collapsed": true
   },
   "outputs": [],
   "source": []
  },
  {
   "cell_type": "markdown",
   "metadata": {},
   "source": [
    "Use the ```rows``` list to create a pandas DataFrame called ```parsed_speech```."
   ]
  },
  {
   "cell_type": "code",
   "execution_count": null,
   "metadata": {
    "collapsed": true
   },
   "outputs": [],
   "source": []
  },
  {
   "cell_type": "markdown",
   "metadata": {},
   "source": [
    "Create two new columns in ```parsed_speech```, 'is_stop' and 'is_punct', that each identify whether or not a token is a stopword or punctuation, respectively."
   ]
  },
  {
   "cell_type": "code",
   "execution_count": null,
   "metadata": {
    "collapsed": true
   },
   "outputs": [],
   "source": []
  },
  {
   "cell_type": "markdown",
   "metadata": {},
   "source": [
    "## Analysis\n",
    "Answer the following questions about the speech."
   ]
  },
  {
   "cell_type": "markdown",
   "metadata": {},
   "source": [
    "### What are the twenty most common words in the speech?"
   ]
  },
  {
   "cell_type": "code",
   "execution_count": null,
   "metadata": {
    "collapsed": true
   },
   "outputs": [],
   "source": []
  },
  {
   "cell_type": "markdown",
   "metadata": {},
   "source": [
    "### What are the ten least common words in the speech?"
   ]
  },
  {
   "cell_type": "code",
   "execution_count": null,
   "metadata": {
    "collapsed": true
   },
   "outputs": [],
   "source": []
  },
  {
   "cell_type": "markdown",
   "metadata": {},
   "source": [
    "### What is the number of tokens in the sentence with the largest number of tokens in the speech?"
   ]
  },
  {
   "cell_type": "code",
   "execution_count": null,
   "metadata": {
    "collapsed": true
   },
   "outputs": [],
   "source": []
  },
  {
   "cell_type": "markdown",
   "metadata": {},
   "source": [
    "## Function Creation\n",
    "Create a function called ```parse_speech_to_tokens``` that takes a filepath as input and returns a DataFrame with four columns: sent_id, token, is_punct, and is_stop."
   ]
  },
  {
   "cell_type": "code",
   "execution_count": 3,
   "metadata": {
    "collapsed": true
   },
   "outputs": [],
   "source": [
    "def parse_speech_to_tokens(fp):\n",
    "    \n",
    "    \n",
    "    return df"
   ]
  },
  {
   "cell_type": "markdown",
   "metadata": {},
   "source": [
    "Test your function on a new speech, FDR's Pearl Harbor speech."
   ]
  },
  {
   "cell_type": "code",
   "execution_count": null,
   "metadata": {
    "collapsed": false
   },
   "outputs": [],
   "source": [
    "fdr_fp = 'speeches/FDR-PearlHarbor.txt'\n",
    "fdr_parsed_speech = parse_speech(fdr_fp)\n",
    "fdr_parsed_speech.head()"
   ]
  },
  {
   "cell_type": "markdown",
   "metadata": {},
   "source": [
    "So that we can save our work, save the DataFrame to a file as a csv."
   ]
  },
  {
   "cell_type": "code",
   "execution_count": null,
   "metadata": {
    "collapsed": true
   },
   "outputs": [],
   "source": [
    "fdr_parsed_speech.to_csv('data/FDR-PearlHarbor_parsed.csv')"
   ]
  },
  {
   "cell_type": "markdown",
   "metadata": {},
   "source": [
    "## Restructure for Sentences\n",
    "This section will be even more guided and provide better skeletons.\n",
    "Objective: Make a dataframe where each row is a sentence in the text.  There are two approaches."
   ]
  },
  {
   "cell_type": "markdown",
   "metadata": {},
   "source": [
    "### Approach 1\n",
    "Starting with the filepath, read the file, ```sent_tokenize``` its contents, and as you iterate, create a dictionary entry for each sentence. Each dictionary should have the follow key/value pairs:\n",
    "* 'sentence': the sentence as a string\n",
    "* 'tokens': the sentence as a list of tokens\n",
    "\n",
    "Append each dictionary to the empty list ```sentences```.  Then convert the list to a DataFrame and store it in the variable ```sentence_df_1```."
   ]
  },
  {
   "cell_type": "code",
   "execution_count": null,
   "metadata": {
    "collapsed": true
   },
   "outputs": [],
   "source": [
    "#Complete this part\n",
    "\n",
    "\n",
    "\n"
   ]
  },
  {
   "cell_type": "markdown",
   "metadata": {},
   "source": [
    "### Approach 2\n",
    "   First, write a function called ```get_tokens``` that, given a DataFrame and a column name, converts the column name to a list a returns the list."
   ]
  },
  {
   "cell_type": "code",
   "execution_count": 4,
   "metadata": {
    "collapsed": true
   },
   "outputs": [],
   "source": [
    "def get_tokens(df, args):\n",
    "    tokens = df[args].tolist()\n",
    "    sentence = ' '.join(tokens)\n",
    "    return pd.Series({'tokens': tokens, 'sentence':sentence})"
   ]
  },
  {
   "cell_type": "markdown",
   "metadata": {},
   "source": [
    "Then, take the first DataFrame we made, ```parsed_speech```, and group it by the ```sent_id```.  Then use the DataFrame's ```apply``` method to apply the get_tokens function.  Assign the resulting DataFrame to the variable ```sentence_df_2```."
   ]
  },
  {
   "cell_type": "code",
   "execution_count": null,
   "metadata": {
    "collapsed": false
   },
   "outputs": [],
   "source": [
    "sentence_df_2 = parsed_speech.groupby('sent_id').apply(get_tokens, args=('token')).reset_index()\n",
    "sentence_df_2.head()"
   ]
  },
  {
   "cell_type": "markdown",
   "metadata": {},
   "source": [
    "### One More Step\n",
    "Using either ```sentence_df_1``` or ```sentence_df_2``` (but consistently moving forward), create a new column called num_tokens that stores the number of tokens in each sentence (look at the apply method and how it was used to identify stop words and punctuation)."
   ]
  },
  {
   "cell_type": "code",
   "execution_count": null,
   "metadata": {
    "collapsed": true
   },
   "outputs": [],
   "source": []
  },
  {
   "cell_type": "markdown",
   "metadata": {},
   "source": [
    "### What is the number of tokens in the sentence with the largest number of tokens in the speech?"
   ]
  },
  {
   "cell_type": "code",
   "execution_count": null,
   "metadata": {
    "collapsed": true
   },
   "outputs": [],
   "source": []
  }
 ],
 "metadata": {
  "kernelspec": {
   "display_name": "Python 3",
   "language": "python",
   "name": "python3"
  },
  "language_info": {
   "codemirror_mode": {
    "name": "ipython",
    "version": 3
   },
   "file_extension": ".py",
   "mimetype": "text/x-python",
   "name": "python",
   "nbconvert_exporter": "python",
   "pygments_lexer": "ipython3",
   "version": "3.5.1"
  }
 },
 "nbformat": 4,
 "nbformat_minor": 0
}
