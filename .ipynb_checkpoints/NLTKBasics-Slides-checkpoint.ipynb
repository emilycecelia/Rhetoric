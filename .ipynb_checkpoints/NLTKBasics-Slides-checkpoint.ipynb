{
 "cells": [
  {
   "cell_type": "markdown",
   "metadata": {
    "slideshow": {
     "slide_type": "slide"
    }
   },
   "source": [
    "# Introducing NLTK Basics"
   ]
  },
  {
   "cell_type": "markdown",
   "metadata": {
    "slideshow": {
     "slide_type": "slide"
    }
   },
   "source": [
    "<img src=\"images/churchill.jpg\" height=\"280\" width=\"280\" align=\"left\">\n",
    "### In This Worksheet \n",
    "* Introduce the NLTK Python module\n",
    "* Introduce NLTK's tokenization functions\n",
    "* Introduce the Text object"
   ]
  },
  {
   "cell_type": "markdown",
   "metadata": {
    "slideshow": {
     "slide_type": "slide"
    }
   },
   "source": [
    "## The Data\n",
    "#### Speech, Blood Toil Tears and Sweat\n",
    "<i>Sir Winston Churchill, May 13th 1940</i><br><br>\n",
    "This is Churchill's first speech as the prime minister of Great Britain.<br>\n",
    "https://www.youtube.com/watch?v=8TlkN-dcDCk"
   ]
  },
  {
   "cell_type": "code",
   "execution_count": 79,
   "metadata": {
    "collapsed": false,
    "slideshow": {
     "slide_type": "slide"
    }
   },
   "outputs": [
    {
     "data": {
      "image/jpeg": "[encoded data removed]",
      "text/html": [
       "\n",
       "        <iframe\n",
       "            width=\"400\"\n",
       "            height=\"300\"\n",
       "            src=\"https://www.youtube.com/embed/jrPoMGZ35xI\"\n",
       "            frameborder=\"0\"\n",
       "            allowfullscreen\n",
       "        ></iframe>\n",
       "        "
      ],
      "text/plain": [
       "<IPython.lib.display.YouTubeVideo at 0x116069e80>"
      ]
     },
     "execution_count": 79,
     "metadata": {},
     "output_type": "execute_result"
    }
   ],
   "source": [
    "from IPython.display import YouTubeVideo\n",
    "YouTubeVideo('jrPoMGZ35xI')"
   ]
  },
  {
   "cell_type": "markdown",
   "metadata": {
    "slideshow": {
     "slide_type": "slide"
    }
   },
   "source": [
    "## Getting the Data\n",
    "### Challenges in Acquiring Data\n",
    "* Sounds simple, can be most complex piece\n",
    "* Texts are very unstructured\n",
    "** Dialogues are worse\n",
    "* Number of texts makes copying and paste impractical at a certain point\n",
    "* Many speeches stored on HTML pages\n",
    "\n",
    "<b>Recommendation:</b> If you have to parse a web page (html) in order to get your data, try using BeautifulSoup and regular expressions"
   ]
  },
  {
   "cell_type": "code",
   "execution_count": 80,
   "metadata": {
    "collapsed": false,
    "slideshow": {
     "slide_type": "slide"
    }
   },
   "outputs": [
    {
     "name": "stdout",
     "output_type": "stream",
     "text": [
      "On Friday evening last I received from His Majesty the mission to form a new administration. It was the evident will of' Parliament and the nation that this should be conceived on the broadest possible basis and that it should include all parties.\n",
      "I have already completed the most important part of this task.\n",
      "A war cabinet has been formed of five members, representing, with the Labour, Opposition, and Liberals, the unity of the nation. It was necessary that this should be done in one single day on account of the extreme urgency and rigor of events. Other key positions were filled yesterday. I am submitting a further list to the king tonight. I hope to complete the appointment of principal ministers during tomorrow.\n",
      "The appointment of other ministers usually takes a little longer.\n",
      "\n",
      "I trust when Parliament meets again this part of my task will be completed and that the administration will be complete in all respects. I considered it in the public interest to suggest to the Speaker that the House should be summoned today. At the end of today's proceedings, the adjournment of the House will be proposed until May 21 with provision for earlier meeting if need be. Business for that will be notified to MPs at the earliest opportunity.\n",
      "I now invite the House by a resolution to record its approval of the steps taken and declare its confidence in the new government.\n",
      "The resolution:\n",
      "\"That this House welcomes the formation of a government representing the united and inflexible resolve of the nation to prosecute the war with Germany to a victorious conclusion.\"\n",
      "To form an administration of this scale and complexity is a serious undertaking in itself. But we are in the preliminary phase of one of the greatest battles in history. We are in action at many other points-in Norway and in Holland-and we have to be prepared in the Mediterranean. The air battle is continuing, and many preparations have to be made here at home.\n",
      "In this crisis I think I may be pardoned if 1 do not address the House at any length today, and I hope that any of my friends and colleagues or former colleagues who are affected by the political reconstruction will make all allowances for any lack of ceremony with which it has been necessary to act.\n",
      "I say to the House as I said to ministers who have joined this government, I have nothing to offer but blood, toil, tears, and sweat. We have before us an ordeal of the most grievous kind. We have before us many, many months of struggle and suffering.\n",
      "You ask, what is our policy? I say it is to wage war by land, sea, and air. War with all our might and with all the strength God has given us, and to wage war against a monstrous tyranny never surpassed in the dark and lamentable catalogue of human crime. That is our policy.\n",
      "You ask, what is our aim? I can answer in one word. It is victory. Victory at all costs - Victory in spite of all terrors - Victory, however long and hard the road may be, for without victory there is no survival.\n",
      "Let that be realized. No survival for the British Empire, no survival for all that the British Empire has stood for, no survival for the urge, the impulse of the ages, that mankind shall move forward toward his goal.\n",
      "I take up my task in buoyancy and hope. I feel sure that our cause will not be suffered to fail among men. I feel entitled at this juncture, at this time, to claim the aid of all and to say, \"Come then, let us go forward together with our united strength.\"\n"
     ]
    }
   ],
   "source": [
    "fp = 'speeches/Churchill-Blood.txt'\n",
    "speech = open(fp).read()\n",
    "print(speech)"
   ]
  },
  {
   "cell_type": "markdown",
   "metadata": {
    "slideshow": {
     "slide_type": "slide"
    }
   },
   "source": [
    "Generally, we want to convert a text to lowercase."
   ]
  },
  {
   "cell_type": "code",
   "execution_count": 81,
   "metadata": {
    "collapsed": false,
    "slideshow": {
     "slide_type": "fragment"
    }
   },
   "outputs": [
    {
     "name": "stdout",
     "output_type": "stream",
     "text": [
      "False\n"
     ]
    }
   ],
   "source": [
    "print('Hello' == 'hello')"
   ]
  },
  {
   "cell_type": "code",
   "execution_count": 82,
   "metadata": {
    "collapsed": false,
    "slideshow": {
     "slide_type": "fragment"
    }
   },
   "outputs": [
    {
     "name": "stdout",
     "output_type": "stream",
     "text": [
      "This speech has 3455 characters.\n"
     ]
    },
    {
     "data": {
      "text/plain": [
       "'on friday evening last i received from his majesty the mission to form a new administration. it was the evident will of\\' parliament and the nation that this should be conceived on the broadest possible basis and that it should include all parties.\\ni have already completed the most important part of this task.\\na war cabinet has been formed of five members, representing, with the labour, opposition, and liberals, the unity of the nation. it was necessary that this should be done in one single day on account of the extreme urgency and rigor of events. other key positions were filled yesterday. i am submitting a further list to the king tonight. i hope to complete the appointment of principal ministers during tomorrow.\\nthe appointment of other ministers usually takes a little longer.\\n\\ni trust when parliament meets again this part of my task will be completed and that the administration will be complete in all respects. i considered it in the public interest to suggest to the speaker that the house should be summoned today. at the end of today\\'s proceedings, the adjournment of the house will be proposed until may 21 with provision for earlier meeting if need be. business for that will be notified to mps at the earliest opportunity.\\ni now invite the house by a resolution to record its approval of the steps taken and declare its confidence in the new government.\\nthe resolution:\\n\"that this house welcomes the formation of a government representing the united and inflexible resolve of the nation to prosecute the war with germany to a victorious conclusion.\"\\nto form an administration of this scale and complexity is a serious undertaking in itself. but we are in the preliminary phase of one of the greatest battles in history. we are in action at many other points-in norway and in holland-and we have to be prepared in the mediterranean. the air battle is continuing, and many preparations have to be made here at home.\\nin this crisis i think i may be pardoned if 1 do not address the house at any length today, and i hope that any of my friends and colleagues or former colleagues who are affected by the political reconstruction will make all allowances for any lack of ceremony with which it has been necessary to act.\\ni say to the house as i said to ministers who have joined this government, i have nothing to offer but blood, toil, tears, and sweat. we have before us an ordeal of the most grievous kind. we have before us many, many months of struggle and suffering.\\nyou ask, what is our policy? i say it is to wage war by land, sea, and air. war with all our might and with all the strength god has given us, and to wage war against a monstrous tyranny never surpassed in the dark and lamentable catalogue of human crime. that is our policy.\\nyou ask, what is our aim? i can answer in one word. it is victory. victory at all costs - victory in spite of all terrors - victory, however long and hard the road may be, for without victory there is no survival.\\nlet that be realized. no survival for the british empire, no survival for all that the british empire has stood for, no survival for the urge, the impulse of the ages, that mankind shall move forward toward his goal.\\ni take up my task in buoyancy and hope. i feel sure that our cause will not be suffered to fail among men. i feel entitled at this juncture, at this time, to claim the aid of all and to say, \"come then, let us go forward together with our united strength.\"'"
      ]
     },
     "execution_count": 82,
     "metadata": {},
     "output_type": "execute_result"
    }
   ],
   "source": [
    "speech=speech.lower()\n",
    "print('This speech has %d characters.' % (len(speech)))\n",
    "speech"
   ]
  },
  {
   "cell_type": "markdown",
   "metadata": {
    "slideshow": {
     "slide_type": "slide"
    }
   },
   "source": [
    "Alright!  Text!  Now let's get right to it.  Let's use some nltk!<br>"
   ]
  },
  {
   "cell_type": "markdown",
   "metadata": {
    "slideshow": {
     "slide_type": "slide"
    }
   },
   "source": [
    "## Tokenizing the Data\n",
    "\n",
    "text -> tokens\n",
    "\n",
    "Tokens are generally sentences and/or words, but could be more specific."
   ]
  },
  {
   "cell_type": "code",
   "execution_count": 83,
   "metadata": {
    "collapsed": true,
    "slideshow": {
     "slide_type": "fragment"
    }
   },
   "outputs": [],
   "source": [
    "import nltk\n",
    "from nltk import sent_tokenize"
   ]
  },
  {
   "cell_type": "markdown",
   "metadata": {
    "slideshow": {
     "slide_type": "slide"
    }
   },
   "source": [
    "#### sent_tokenize \n",
    "The function takes two arguments: \n",
    "* text\n",
    "* language (assumed to be 'english')"
   ]
  },
  {
   "cell_type": "code",
   "execution_count": 84,
   "metadata": {
    "collapsed": false,
    "slideshow": {
     "slide_type": "fragment"
    }
   },
   "outputs": [
    {
     "name": "stdout",
     "output_type": "stream",
     "text": [
      "i have nothing to offer but blood, toil, tears and sweat. we have before us an ordeal of the most grievous kind. we have before us many, many long months of struggle and of suffering. you ask, what is our policy? i can say: it is to wage war, by sea, land and air, with all our might and with all the strength that god can give us; to wage war against a monstrous tyranny, never surpassed in the dark, lamentable catalogue of human crime. that is our policy. you ask, what is our aim? i can answer in one word: it is victory, victory at all costs, victory in spite of all terror, victory, however long and hard the road may be; for without victory, there is no survival.\n"
     ]
    }
   ],
   "source": [
    "my_sentence = 'i have nothing to offer but blood, toil, tears and sweat. we have before us an ordeal of the most grievous kind. we have before us many, many long months of struggle and of suffering. you ask, what is our policy? i can say: it is to wage war, by sea, land and air, with all our might and with all the strength that god can give us; to wage war against a monstrous tyranny, never surpassed in the dark, lamentable catalogue of human crime. that is our policy. you ask, what is our aim? i can answer in one word: it is victory, victory at all costs, victory in spite of all terror, victory, however long and hard the road may be; for without victory, there is no survival.'\n",
    "print(my_sentence)"
   ]
  },
  {
   "cell_type": "code",
   "execution_count": 85,
   "metadata": {
    "collapsed": false,
    "slideshow": {
     "slide_type": "slide"
    }
   },
   "outputs": [
    {
     "name": "stdout",
     "output_type": "stream",
     "text": [
      "SENT: i have nothing to offer but blood, toil, tears and sweat.\n",
      "SENT: we have before us an ordeal of the most grievous kind.\n",
      "SENT: we have before us many, many long months of struggle and of suffering.\n",
      "SENT: you ask, what is our policy?\n",
      "SENT: i can say: it is to wage war, by sea, land and air, with all our might and with all the strength that god can give us; to wage war against a monstrous tyranny, never surpassed in the dark, lamentable catalogue of human crime.\n",
      "SENT: that is our policy.\n",
      "SENT: you ask, what is our aim?\n",
      "SENT: i can answer in one word: it is victory, victory at all costs, victory in spite of all terror, victory, however long and hard the road may be; for without victory, there is no survival.\n"
     ]
    }
   ],
   "source": [
    "for sentence in sent_tokenize(my_sentence):\n",
    "    print('SENT:', sentence)"
   ]
  },
  {
   "cell_type": "markdown",
   "metadata": {
    "slideshow": {
     "slide_type": "slide"
    }
   },
   "source": [
    "So, let's tokenize this data by sentence!  Super easy, see below!  Notice that though the data is split up based on punctuation, the punctuation is retained in each sentence."
   ]
  },
  {
   "cell_type": "code",
   "execution_count": 86,
   "metadata": {
    "collapsed": false,
    "slideshow": {
     "slide_type": "fragment"
    }
   },
   "outputs": [
    {
     "name": "stdout",
     "output_type": "stream",
     "text": [
      "on friday evening last i received from his majesty the mission to form a new administration.\n",
      "it was the evident will of' parliament and the nation that this should be conceived on the broadest possible basis and that it should include all parties.\n",
      "i have already completed the most important part of this task.\n",
      "a war cabinet has been formed of five members, representing, with the labour, opposition, and liberals, the unity of the nation.\n",
      "it was necessary that this should be done in one single day on account of the extreme urgency and rigor of events.\n",
      "other key positions were filled yesterday.\n",
      "i am submitting a further list to the king tonight.\n",
      "i hope to complete the appointment of principal ministers during tomorrow.\n",
      "the appointment of other ministers usually takes a little longer.\n",
      "i trust when parliament meets again this part of my task will be completed and that the administration will be complete in all respects.\n",
      "i considered it in the public interest to suggest to the speaker that the house should be summoned today.\n",
      "at the end of today's proceedings, the adjournment of the house will be proposed until may 21 with provision for earlier meeting if need be.\n",
      "business for that will be notified to mps at the earliest opportunity.\n",
      "i now invite the house by a resolution to record its approval of the steps taken and declare its confidence in the new government.\n",
      "the resolution:\n",
      "\"that this house welcomes the formation of a government representing the united and inflexible resolve of the nation to prosecute the war with germany to a victorious conclusion.\"\n",
      "to form an administration of this scale and complexity is a serious undertaking in itself.\n",
      "but we are in the preliminary phase of one of the greatest battles in history.\n",
      "we are in action at many other points-in norway and in holland-and we have to be prepared in the mediterranean.\n",
      "the air battle is continuing, and many preparations have to be made here at home.\n",
      "in this crisis i think i may be pardoned if 1 do not address the house at any length today, and i hope that any of my friends and colleagues or former colleagues who are affected by the political reconstruction will make all allowances for any lack of ceremony with which it has been necessary to act.\n",
      "i say to the house as i said to ministers who have joined this government, i have nothing to offer but blood, toil, tears, and sweat.\n",
      "we have before us an ordeal of the most grievous kind.\n",
      "we have before us many, many months of struggle and suffering.\n",
      "you ask, what is our policy?\n",
      "i say it is to wage war by land, sea, and air.\n",
      "war with all our might and with all the strength god has given us, and to wage war against a monstrous tyranny never surpassed in the dark and lamentable catalogue of human crime.\n",
      "that is our policy.\n",
      "you ask, what is our aim?\n",
      "i can answer in one word.\n",
      "it is victory.\n",
      "victory at all costs - victory in spite of all terrors - victory, however long and hard the road may be, for without victory there is no survival.\n",
      "let that be realized.\n",
      "no survival for the british empire, no survival for all that the british empire has stood for, no survival for the urge, the impulse of the ages, that mankind shall move forward toward his goal.\n",
      "i take up my task in buoyancy and hope.\n",
      "i feel sure that our cause will not be suffered to fail among men.\n",
      "i feel entitled at this juncture, at this time, to claim the aid of all and to say, \"come then, let us go forward together with our united strength.\"\n"
     ]
    }
   ],
   "source": [
    "sentences = sent_tokenize(speech)\n",
    "sentence_lengths = []\n",
    "for sentence in sentences:\n",
    "    sentence_lengths.append(len(sentence))\n",
    "    print(sentence)"
   ]
  },
  {
   "cell_type": "code",
   "execution_count": 87,
   "metadata": {
    "collapsed": false,
    "slideshow": {
     "slide_type": "slide"
    }
   },
   "outputs": [
    {
     "name": "stdout",
     "output_type": "stream",
     "text": [
      "The average number of characters in a sentence is  94.97222222222223\n"
     ]
    }
   ],
   "source": [
    "print('The average number of characters in a sentence is ', \n",
    "      sum(sentence_lengths)/len(sentence_lengths))"
   ]
  },
  {
   "cell_type": "markdown",
   "metadata": {
    "slideshow": {
     "slide_type": "slide"
    }
   },
   "source": [
    "#### word_tokenize"
   ]
  },
  {
   "cell_type": "code",
   "execution_count": 88,
   "metadata": {
    "collapsed": false,
    "slideshow": {
     "slide_type": "fragment"
    }
   },
   "outputs": [
    {
     "name": "stdout",
     "output_type": "stream",
     "text": [
      "on friday evening last i received from his majesty the mission to form a new administration.\n",
      "['on', 'friday', 'evening', 'last', 'i', 'received', 'from', 'his', 'majesty', 'the', 'mission', 'to', 'form', 'a', 'new', 'administration', '.']\n",
      "\n",
      "it was the evident will of' parliament and the nation that this should be conceived on the broadest possible basis and that it should include all parties.\n",
      "['it', 'was', 'the', 'evident', 'will', 'of', \"'\", 'parliament', 'and', 'the', 'nation', 'that', 'this', 'should', 'be', 'conceived', 'on', 'the', 'broadest', 'possible', 'basis', 'and', 'that', 'it', 'should', 'include', 'all', 'parties', '.']\n",
      "\n",
      "i have already completed the most important part of this task.\n",
      "['i', 'have', 'already', 'completed', 'the', 'most', 'important', 'part', 'of', 'this', 'task', '.']\n",
      "\n",
      "a war cabinet has been formed of five members, representing, with the labour, opposition, and liberals, the unity of the nation.\n",
      "['a', 'war', 'cabinet', 'has', 'been', 'formed', 'of', 'five', 'members', ',', 'representing', ',', 'with', 'the', 'labour', ',', 'opposition', ',', 'and', 'liberals', ',', 'the', 'unity', 'of', 'the', 'nation', '.']\n",
      "\n",
      "it was necessary that this should be done in one single day on account of the extreme urgency and rigor of events.\n",
      "['it', 'was', 'necessary', 'that', 'this', 'should', 'be', 'done', 'in', 'one', 'single', 'day', 'on', 'account', 'of', 'the', 'extreme', 'urgency', 'and', 'rigor', 'of', 'events', '.']\n",
      "\n",
      "other key positions were filled yesterday.\n",
      "['other', 'key', 'positions', 'were', 'filled', 'yesterday', '.']\n",
      "\n",
      "i am submitting a further list to the king tonight.\n",
      "['i', 'am', 'submitting', 'a', 'further', 'list', 'to', 'the', 'king', 'tonight', '.']\n",
      "\n",
      "i hope to complete the appointment of principal ministers during tomorrow.\n",
      "['i', 'hope', 'to', 'complete', 'the', 'appointment', 'of', 'principal', 'ministers', 'during', 'tomorrow', '.']\n",
      "\n",
      "the appointment of other ministers usually takes a little longer.\n",
      "['the', 'appointment', 'of', 'other', 'ministers', 'usually', 'takes', 'a', 'little', 'longer', '.']\n",
      "\n",
      "i trust when parliament meets again this part of my task will be completed and that the administration will be complete in all respects.\n",
      "['i', 'trust', 'when', 'parliament', 'meets', 'again', 'this', 'part', 'of', 'my', 'task', 'will', 'be', 'completed', 'and', 'that', 'the', 'administration', 'will', 'be', 'complete', 'in', 'all', 'respects', '.']\n",
      "\n",
      "i considered it in the public interest to suggest to the speaker that the house should be summoned today.\n",
      "['i', 'considered', 'it', 'in', 'the', 'public', 'interest', 'to', 'suggest', 'to', 'the', 'speaker', 'that', 'the', 'house', 'should', 'be', 'summoned', 'today', '.']\n",
      "\n",
      "at the end of today's proceedings, the adjournment of the house will be proposed until may 21 with provision for earlier meeting if need be.\n",
      "['at', 'the', 'end', 'of', 'today', \"'s\", 'proceedings', ',', 'the', 'adjournment', 'of', 'the', 'house', 'will', 'be', 'proposed', 'until', 'may', '21', 'with', 'provision', 'for', 'earlier', 'meeting', 'if', 'need', 'be', '.']\n",
      "\n",
      "business for that will be notified to mps at the earliest opportunity.\n",
      "['business', 'for', 'that', 'will', 'be', 'notified', 'to', 'mps', 'at', 'the', 'earliest', 'opportunity', '.']\n",
      "\n",
      "i now invite the house by a resolution to record its approval of the steps taken and declare its confidence in the new government.\n",
      "['i', 'now', 'invite', 'the', 'house', 'by', 'a', 'resolution', 'to', 'record', 'its', 'approval', 'of', 'the', 'steps', 'taken', 'and', 'declare', 'its', 'confidence', 'in', 'the', 'new', 'government', '.']\n",
      "\n",
      "the resolution:\n",
      "\"that this house welcomes the formation of a government representing the united and inflexible resolve of the nation to prosecute the war with germany to a victorious conclusion.\"\n",
      "['the', 'resolution', ':', \"''\", 'that', 'this', 'house', 'welcomes', 'the', 'formation', 'of', 'a', 'government', 'representing', 'the', 'united', 'and', 'inflexible', 'resolve', 'of', 'the', 'nation', 'to', 'prosecute', 'the', 'war', 'with', 'germany', 'to', 'a', 'victorious', 'conclusion', '.', \"''\"]\n",
      "\n",
      "to form an administration of this scale and complexity is a serious undertaking in itself.\n",
      "['to', 'form', 'an', 'administration', 'of', 'this', 'scale', 'and', 'complexity', 'is', 'a', 'serious', 'undertaking', 'in', 'itself', '.']\n",
      "\n",
      "but we are in the preliminary phase of one of the greatest battles in history.\n",
      "['but', 'we', 'are', 'in', 'the', 'preliminary', 'phase', 'of', 'one', 'of', 'the', 'greatest', 'battles', 'in', 'history', '.']\n",
      "\n",
      "we are in action at many other points-in norway and in holland-and we have to be prepared in the mediterranean.\n",
      "['we', 'are', 'in', 'action', 'at', 'many', 'other', 'points-in', 'norway', 'and', 'in', 'holland-and', 'we', 'have', 'to', 'be', 'prepared', 'in', 'the', 'mediterranean', '.']\n",
      "\n",
      "the air battle is continuing, and many preparations have to be made here at home.\n",
      "['the', 'air', 'battle', 'is', 'continuing', ',', 'and', 'many', 'preparations', 'have', 'to', 'be', 'made', 'here', 'at', 'home', '.']\n",
      "\n",
      "in this crisis i think i may be pardoned if 1 do not address the house at any length today, and i hope that any of my friends and colleagues or former colleagues who are affected by the political reconstruction will make all allowances for any lack of ceremony with which it has been necessary to act.\n",
      "['in', 'this', 'crisis', 'i', 'think', 'i', 'may', 'be', 'pardoned', 'if', '1', 'do', 'not', 'address', 'the', 'house', 'at', 'any', 'length', 'today', ',', 'and', 'i', 'hope', 'that', 'any', 'of', 'my', 'friends', 'and', 'colleagues', 'or', 'former', 'colleagues', 'who', 'are', 'affected', 'by', 'the', 'political', 'reconstruction', 'will', 'make', 'all', 'allowances', 'for', 'any', 'lack', 'of', 'ceremony', 'with', 'which', 'it', 'has', 'been', 'necessary', 'to', 'act', '.']\n",
      "\n",
      "i say to the house as i said to ministers who have joined this government, i have nothing to offer but blood, toil, tears, and sweat.\n",
      "['i', 'say', 'to', 'the', 'house', 'as', 'i', 'said', 'to', 'ministers', 'who', 'have', 'joined', 'this', 'government', ',', 'i', 'have', 'nothing', 'to', 'offer', 'but', 'blood', ',', 'toil', ',', 'tears', ',', 'and', 'sweat', '.']\n",
      "\n",
      "we have before us an ordeal of the most grievous kind.\n",
      "['we', 'have', 'before', 'us', 'an', 'ordeal', 'of', 'the', 'most', 'grievous', 'kind', '.']\n",
      "\n",
      "we have before us many, many months of struggle and suffering.\n",
      "['we', 'have', 'before', 'us', 'many', ',', 'many', 'months', 'of', 'struggle', 'and', 'suffering', '.']\n",
      "\n",
      "you ask, what is our policy?\n",
      "['you', 'ask', ',', 'what', 'is', 'our', 'policy', '?']\n",
      "\n",
      "i say it is to wage war by land, sea, and air.\n",
      "['i', 'say', 'it', 'is', 'to', 'wage', 'war', 'by', 'land', ',', 'sea', ',', 'and', 'air', '.']\n",
      "\n",
      "war with all our might and with all the strength god has given us, and to wage war against a monstrous tyranny never surpassed in the dark and lamentable catalogue of human crime.\n",
      "['war', 'with', 'all', 'our', 'might', 'and', 'with', 'all', 'the', 'strength', 'god', 'has', 'given', 'us', ',', 'and', 'to', 'wage', 'war', 'against', 'a', 'monstrous', 'tyranny', 'never', 'surpassed', 'in', 'the', 'dark', 'and', 'lamentable', 'catalogue', 'of', 'human', 'crime', '.']\n",
      "\n",
      "that is our policy.\n",
      "['that', 'is', 'our', 'policy', '.']\n",
      "\n",
      "you ask, what is our aim?\n",
      "['you', 'ask', ',', 'what', 'is', 'our', 'aim', '?']\n",
      "\n",
      "i can answer in one word.\n",
      "['i', 'can', 'answer', 'in', 'one', 'word', '.']\n",
      "\n",
      "it is victory.\n",
      "['it', 'is', 'victory', '.']\n",
      "\n",
      "victory at all costs - victory in spite of all terrors - victory, however long and hard the road may be, for without victory there is no survival.\n",
      "['victory', 'at', 'all', 'costs', '-', 'victory', 'in', 'spite', 'of', 'all', 'terrors', '-', 'victory', ',', 'however', 'long', 'and', 'hard', 'the', 'road', 'may', 'be', ',', 'for', 'without', 'victory', 'there', 'is', 'no', 'survival', '.']\n",
      "\n",
      "let that be realized.\n",
      "['let', 'that', 'be', 'realized', '.']\n",
      "\n",
      "no survival for the british empire, no survival for all that the british empire has stood for, no survival for the urge, the impulse of the ages, that mankind shall move forward toward his goal.\n",
      "['no', 'survival', 'for', 'the', 'british', 'empire', ',', 'no', 'survival', 'for', 'all', 'that', 'the', 'british', 'empire', 'has', 'stood', 'for', ',', 'no', 'survival', 'for', 'the', 'urge', ',', 'the', 'impulse', 'of', 'the', 'ages', ',', 'that', 'mankind', 'shall', 'move', 'forward', 'toward', 'his', 'goal', '.']\n",
      "\n",
      "i take up my task in buoyancy and hope.\n",
      "['i', 'take', 'up', 'my', 'task', 'in', 'buoyancy', 'and', 'hope', '.']\n",
      "\n",
      "i feel sure that our cause will not be suffered to fail among men.\n",
      "['i', 'feel', 'sure', 'that', 'our', 'cause', 'will', 'not', 'be', 'suffered', 'to', 'fail', 'among', 'men', '.']\n",
      "\n",
      "i feel entitled at this juncture, at this time, to claim the aid of all and to say, \"come then, let us go forward together with our united strength.\"\n",
      "['i', 'feel', 'entitled', 'at', 'this', 'juncture', ',', 'at', 'this', 'time', ',', 'to', 'claim', 'the', 'aid', 'of', 'all', 'and', 'to', 'say', ',', '``', 'come', 'then', ',', 'let', 'us', 'go', 'forward', 'together', 'with', 'our', 'united', 'strength', '.', \"''\"]\n",
      "\n"
     ]
    }
   ],
   "source": [
    "from nltk import word_tokenize\n",
    "\n",
    "for sentence in sentences:\n",
    "    print(sentence)\n",
    "    print(word_tokenize(sentence))\n",
    "    print()"
   ]
  },
  {
   "cell_type": "markdown",
   "metadata": {
    "slideshow": {
     "slide_type": "slide"
    }
   },
   "source": [
    "For now, though, let's convert the entire speech into one list of tokens."
   ]
  },
  {
   "cell_type": "code",
   "execution_count": 89,
   "metadata": {
    "collapsed": false,
    "slideshow": {
     "slide_type": "fragment"
    }
   },
   "outputs": [
    {
     "name": "stdout",
     "output_type": "stream",
     "text": [
      "There are 698 words in this speech.\n"
     ]
    }
   ],
   "source": [
    "words = word_tokenize(speech)\n",
    "print('There are %d words in this speech.' % (len(words)))"
   ]
  },
  {
   "cell_type": "markdown",
   "metadata": {
    "slideshow": {
     "slide_type": "slide"
    }
   },
   "source": [
    "## Turning Data into a Text\n",
    "<b>nltk.Text</b> is an object that takes a list of tokens and makes certain functions available to it:\n",
    "* .common_context()\n",
    "* .concordance()\n",
    "* .count()\n",
    "* .dispersion_plot()\n",
    "* .plot()\n",
    "* .similar()\n",
    "* .vocab()"
   ]
  },
  {
   "cell_type": "code",
   "execution_count": 90,
   "metadata": {
    "collapsed": false,
    "slideshow": {
     "slide_type": "slide"
    }
   },
   "outputs": [
    {
     "name": "stdout",
     "output_type": "stream",
     "text": [
      "<Text: on friday evening last i received from his...>\n"
     ]
    }
   ],
   "source": [
    "from nltk import Text\n",
    "\n",
    "text = Text(words)\n",
    "print(text)"
   ]
  },
  {
   "cell_type": "markdown",
   "metadata": {
    "slideshow": {
     "slide_type": "fragment"
    }
   },
   "source": [
    "You <i>must</i> give a tokenized word list.  If you give just the string version of the speech, you will get a character split going."
   ]
  },
  {
   "cell_type": "code",
   "execution_count": 91,
   "metadata": {
    "collapsed": false,
    "slideshow": {
     "slide_type": "fragment"
    }
   },
   "outputs": [
    {
     "name": "stdout",
     "output_type": "stream",
     "text": [
      "<Text: h e l l o   m y...>\n"
     ]
    }
   ],
   "source": [
    "ex = Text('Hello my name is Emily.'.lower())\n",
    "print(ex)"
   ]
  },
  {
   "cell_type": "markdown",
   "metadata": {
    "slideshow": {
     "slide_type": "slide"
    }
   },
   "source": [
    "### What are the most common words in my text?"
   ]
  },
  {
   "cell_type": "code",
   "execution_count": 92,
   "metadata": {
    "collapsed": false,
    "slideshow": {
     "slide_type": "fragment"
    }
   },
   "outputs": [
    {
     "data": {
      "text/plain": [
       "2"
      ]
     },
     "execution_count": 92,
     "metadata": {},
     "output_type": "execute_result"
    }
   ],
   "source": [
    "#How often does a certain word occur?\n",
    "text.count('british')"
   ]
  },
  {
   "cell_type": "markdown",
   "metadata": {
    "slideshow": {
     "slide_type": "slide"
    }
   },
   "source": [
    "But what if I want to discover the counts of all of the words and find significant ones?\n",
    "\n",
    "First off, I can just plot my vocabulary with <b>Text.plot()</b>."
   ]
  },
  {
   "cell_type": "code",
   "execution_count": 93,
   "metadata": {
    "collapsed": true,
    "slideshow": {
     "slide_type": "slide"
    }
   },
   "outputs": [],
   "source": [
    "import matplotlib\n",
    "from matplotlib import pyplot as plt\n",
    "\n",
    "%matplotlib inline\n",
    "matplotlib.style.use('ggplot')"
   ]
  },
  {
   "cell_type": "code",
   "execution_count": 94,
   "metadata": {
    "collapsed": false,
    "slideshow": {
     "slide_type": "slide"
    }
   },
   "outputs": [
    {
     "data": {
      "image/png": "[encoded data removed]",
      "text/plain": [
       "<matplotlib.figure.Figure at 0x114de41d0>"
      ]
     },
     "metadata": {},
     "output_type": "display_data"
    }
   ],
   "source": [
    "plt.figure(figsize=(15,7))\n",
    "\n",
    "text.plot()"
   ]
  },
  {
   "cell_type": "markdown",
   "metadata": {
    "slideshow": {
     "slide_type": "slide"
    }
   },
   "source": [
    "Not terribly useful:\n",
    "* not very readable\n",
    "* does tell that there are some extremely high frequency words\n",
    "* then most words only appear 1 or 2 times throughout the text"
   ]
  },
  {
   "cell_type": "markdown",
   "metadata": {
    "slideshow": {
     "slide_type": "slide"
    }
   },
   "source": [
    "### Text.vocab()\n",
    "will create a FreqDist object that holds basically a dictionary of tokens and counts *(but this dictionary is special)*."
   ]
  },
  {
   "cell_type": "code",
   "execution_count": 95,
   "metadata": {
    "collapsed": false,
    "slideshow": {
     "slide_type": "fragment"
    }
   },
   "outputs": [
    {
     "name": "stdout",
     "output_type": "stream",
     "text": [
      "<FreqDist with 293 samples and 698 outcomes>\n",
      "dict_keys(['fail', 'opportunity', 'have', 'yesterday', 'am', 'terrors', 'if', 'battles', 'up', 'prepared', 'until', 'received', 'and', 'survival', 'forward', 'with', 'single', 'pardoned', 'greatest', 'serious', 'mankind', 'policy', 'events', 'part', 'has', 'entitled', 'filled', 'hope', 'among', 'preparations', 'surpassed', 'at', 'friday', 'without', 'you', 'juncture', 'tyranny', 'will', '-', 'friends', 'notified', 'during', 'key', 'continuing', 'nation', 'it', '1', 'against', 'important', 'his', 'sea', 'political', 'day', 'earlier', 'united', 'positions', 'holland-and', \"'\", 'phase', 'longer', 'home', 'provision', 'proposed', 'or', 'today', 'resolve', 'sweat', 'most', 'respects', 'might', 'unity', 'urge', 'urgency', 'stood', 'other', 'task', 'months', 'end', 'should', 'not', 'public', 'principal', 'norway', '``', 'take', 'mps', 'that', ',', 'already', 'ministers', 'crime', 'war', 'welcomes', 'takes', 'meeting', 'can', 'mediterranean', 'aid', 'ceremony', 'say', 'opposition', 'do', 'approval', 'may', 'house', 'battle', 'cabinet', 'long', 'in', 'resolution', 'but', 'colleagues', 'little', 'joined', 'strength', 'basis', 'now', \"'s\", 'there', 'suffering', 'formation', 'here', 'usually', 'conceived', 'parties', 'affected', 'buoyancy', 'points-in', 'tomorrow', 'toil', 'on', 'mission', 'lack', 'ages', 'considered', 'history', 'victorious', 'be', 'its', 'victory', 'which', 'extreme', 'representing', 'preliminary', 'monstrous', '?', 'are', 'make', 'offer', 'new', 'prosecute', 'the', 'earliest', 'we', 'claim', 'no', 'conclusion', 'possible', 'air', 'said', 'further', 'this', 'goal', 'evening', 'taken', 'my', 'summoned', 'british', 'speaker', 'many', 'an', 'spite', 'costs', 'scale', 'broadest', 'been', 'feel', 'done', 'never', 'cause', 'road', 'let', 'king', 'allowances', 'land', 'tonight', 'toward', 'together', 'business', 'shall', 'five', 'members', 'hard', 'ordeal', '.', 'word', 'trust', 'catalogue', 'proceedings', 'struggle', 'parliament', 'formed', 'reconstruction', 'all', 'ask', 'is', 'liberals', 'majesty', 'realized', 'then', 'declare', 'appointment', 'given', 'who', 'adjournment', 'move', 'wage', 'form', 'submitting', 'lamentable', 'act', '21', 'think', 'dark', 'a', 'meets', 'for', 'account', 'include', 'rigor', 'was', 'necessary', 'when', 'time', 'empire', 'suggest', 'were', 'men', 'to', 'confidence', 'last', 'again', 'any', 'crisis', 'suffered', 'completed', 'interest', 'before', 'impulse', 'as', \"''\", 'human', 'germany', 'complete', 'itself', 'labour', 'grievous', 'one', 'answer', 'evident', 'kind', 'steps', 'administration', 'however', 'need', 'complexity', 'former', 'record', 'go', 'sure', 'what', 'address', 'nothing', 'invite', 'by', 'action', 'length', 'come', 'made', 'inflexible', 'tears', 'of', 'aim', ':', 'i', 'blood', 'undertaking', 'our', 'list', 'from', 'government', 'god', 'us'])\n",
      "Count of grievous: 1\n"
     ]
    }
   ],
   "source": [
    "print(text.vocab())\n",
    "print(text.vocab().keys())\n",
    "print('Count of grievous:',text.vocab()['grievous'])"
   ]
  },
  {
   "cell_type": "markdown",
   "metadata": {
    "slideshow": {
     "slide_type": "slide"
    }
   },
   "source": [
    "Simple diversity measurement:\n",
    "\n",
    "#### number of unique words : number of total words"
   ]
  },
  {
   "cell_type": "code",
   "execution_count": 96,
   "metadata": {
    "collapsed": false,
    "slideshow": {
     "slide_type": "fragment"
    }
   },
   "outputs": [
    {
     "name": "stdout",
     "output_type": "stream",
     "text": [
      "0.4197707736389685\n"
     ]
    }
   ],
   "source": [
    "diversity = len(text.vocab())/len(text.tokens)\n",
    "print(diversity)"
   ]
  },
  {
   "cell_type": "markdown",
   "metadata": {
    "slideshow": {
     "slide_type": "slide"
    }
   },
   "source": [
    "Moving on, we just mention that his FreqDist object is no mere dictionary...\n",
    "\n",
    "This FreqDist object will grab most common values for us!"
   ]
  },
  {
   "cell_type": "code",
   "execution_count": 97,
   "metadata": {
    "collapsed": false,
    "slideshow": {
     "slide_type": "fragment"
    }
   },
   "outputs": [
    {
     "data": {
      "text/plain": [
       "[('the', 45),\n",
       " ('.', 34),\n",
       " (',', 28),\n",
       " ('of', 25),\n",
       " ('and', 21),\n",
       " ('to', 21),\n",
       " ('i', 18),\n",
       " ('in', 15),\n",
       " ('be', 14),\n",
       " ('that', 13),\n",
       " ('this', 10),\n",
       " ('all', 9),\n",
       " ('a', 9),\n",
       " ('at', 8),\n",
       " ('is', 8),\n",
       " ('for', 8),\n",
       " ('have', 7),\n",
       " ('with', 7),\n",
       " ('will', 7),\n",
       " ('it', 7),\n",
       " ('house', 6),\n",
       " ('our', 6),\n",
       " ('war', 5),\n",
       " ('victory', 5),\n",
       " ('we', 5),\n",
       " ('survival', 4),\n",
       " ('has', 4),\n",
       " ('should', 4),\n",
       " ('no', 4),\n",
       " ('many', 4),\n",
       " ('us', 4),\n",
       " ('hope', 3),\n",
       " ('nation', 3),\n",
       " ('today', 3),\n",
       " ('other', 3),\n",
       " ('task', 3),\n",
       " ('ministers', 3),\n",
       " ('say', 3),\n",
       " ('may', 3),\n",
       " ('on', 3),\n",
       " ('are', 3),\n",
       " ('my', 3),\n",
       " ('any', 3),\n",
       " (\"''\", 3),\n",
       " ('one', 3),\n",
       " ('administration', 3),\n",
       " ('by', 3),\n",
       " ('government', 3),\n",
       " ('if', 2),\n",
       " ('forward', 2),\n",
       " ('policy', 2),\n",
       " ('part', 2),\n",
       " ('you', 2),\n",
       " ('-', 2),\n",
       " ('his', 2),\n",
       " ('united', 2),\n",
       " ('most', 2),\n",
       " ('not', 2),\n",
       " ('resolution', 2),\n",
       " ('but', 2),\n",
       " ('colleagues', 2),\n",
       " ('strength', 2),\n",
       " ('its', 2),\n",
       " ('representing', 2),\n",
       " ('?', 2),\n",
       " ('new', 2),\n",
       " ('air', 2),\n",
       " ('british', 2),\n",
       " ('an', 2),\n",
       " ('been', 2),\n",
       " ('feel', 2),\n",
       " ('let', 2),\n",
       " ('parliament', 2),\n",
       " ('ask', 2),\n",
       " ('appointment', 2),\n",
       " ('who', 2),\n",
       " ('wage', 2),\n",
       " ('form', 2),\n",
       " ('was', 2),\n",
       " ('necessary', 2),\n",
       " ('empire', 2),\n",
       " ('completed', 2),\n",
       " ('before', 2),\n",
       " ('complete', 2),\n",
       " ('what', 2),\n",
       " ('fail', 1),\n",
       " ('opportunity', 1),\n",
       " ('yesterday', 1),\n",
       " ('am', 1),\n",
       " ('terrors', 1),\n",
       " ('battles', 1),\n",
       " ('up', 1),\n",
       " ('prepared', 1),\n",
       " ('until', 1),\n",
       " ('received', 1),\n",
       " ('single', 1),\n",
       " ('pardoned', 1),\n",
       " ('greatest', 1),\n",
       " ('serious', 1),\n",
       " ('mankind', 1),\n",
       " ('events', 1),\n",
       " ('entitled', 1),\n",
       " ('filled', 1),\n",
       " ('among', 1),\n",
       " ('preparations', 1),\n",
       " ('surpassed', 1),\n",
       " ('friday', 1),\n",
       " ('without', 1),\n",
       " ('juncture', 1),\n",
       " ('tyranny', 1),\n",
       " ('friends', 1),\n",
       " ('notified', 1),\n",
       " ('during', 1),\n",
       " ('key', 1),\n",
       " ('continuing', 1),\n",
       " ('1', 1),\n",
       " ('against', 1),\n",
       " ('important', 1),\n",
       " ('sea', 1),\n",
       " ('political', 1),\n",
       " ('day', 1),\n",
       " ('earlier', 1),\n",
       " ('positions', 1),\n",
       " ('holland-and', 1),\n",
       " (\"'\", 1),\n",
       " ('phase', 1),\n",
       " ('longer', 1),\n",
       " ('home', 1),\n",
       " ('provision', 1),\n",
       " ('proposed', 1),\n",
       " ('or', 1),\n",
       " ('resolve', 1),\n",
       " ('sweat', 1),\n",
       " ('respects', 1),\n",
       " ('might', 1),\n",
       " ('unity', 1),\n",
       " ('urge', 1),\n",
       " ('urgency', 1),\n",
       " ('stood', 1),\n",
       " ('months', 1),\n",
       " ('end', 1),\n",
       " ('public', 1),\n",
       " ('principal', 1),\n",
       " ('norway', 1),\n",
       " ('``', 1),\n",
       " ('take', 1),\n",
       " ('mps', 1),\n",
       " ('already', 1),\n",
       " ('crime', 1),\n",
       " ('welcomes', 1),\n",
       " ('takes', 1),\n",
       " ('meeting', 1),\n",
       " ('can', 1),\n",
       " ('mediterranean', 1),\n",
       " ('aid', 1),\n",
       " ('ceremony', 1),\n",
       " ('opposition', 1),\n",
       " ('do', 1),\n",
       " ('approval', 1),\n",
       " ('battle', 1),\n",
       " ('cabinet', 1),\n",
       " ('long', 1),\n",
       " ('little', 1),\n",
       " ('joined', 1),\n",
       " ('basis', 1),\n",
       " ('now', 1),\n",
       " (\"'s\", 1),\n",
       " ('there', 1),\n",
       " ('suffering', 1),\n",
       " ('formation', 1),\n",
       " ('here', 1),\n",
       " ('usually', 1),\n",
       " ('conceived', 1),\n",
       " ('parties', 1),\n",
       " ('affected', 1),\n",
       " ('buoyancy', 1),\n",
       " ('points-in', 1),\n",
       " ('tomorrow', 1),\n",
       " ('toil', 1),\n",
       " ('mission', 1),\n",
       " ('lack', 1),\n",
       " ('ages', 1),\n",
       " ('considered', 1),\n",
       " ('history', 1),\n",
       " ('victorious', 1),\n",
       " ('which', 1),\n",
       " ('extreme', 1),\n",
       " ('preliminary', 1),\n",
       " ('monstrous', 1),\n",
       " ('make', 1),\n",
       " ('offer', 1),\n",
       " ('prosecute', 1),\n",
       " ('earliest', 1),\n",
       " ('claim', 1),\n",
       " ('conclusion', 1),\n",
       " ('possible', 1),\n",
       " ('said', 1),\n",
       " ('further', 1),\n",
       " ('goal', 1),\n",
       " ('evening', 1),\n",
       " ('taken', 1),\n",
       " ('summoned', 1),\n",
       " ('speaker', 1),\n",
       " ('spite', 1),\n",
       " ('costs', 1),\n",
       " ('scale', 1),\n",
       " ('broadest', 1),\n",
       " ('done', 1),\n",
       " ('never', 1),\n",
       " ('cause', 1),\n",
       " ('road', 1),\n",
       " ('king', 1),\n",
       " ('allowances', 1),\n",
       " ('land', 1),\n",
       " ('tonight', 1),\n",
       " ('toward', 1),\n",
       " ('together', 1),\n",
       " ('business', 1),\n",
       " ('shall', 1),\n",
       " ('five', 1),\n",
       " ('members', 1),\n",
       " ('hard', 1),\n",
       " ('ordeal', 1),\n",
       " ('word', 1),\n",
       " ('trust', 1),\n",
       " ('catalogue', 1),\n",
       " ('proceedings', 1),\n",
       " ('struggle', 1),\n",
       " ('formed', 1),\n",
       " ('reconstruction', 1),\n",
       " ('liberals', 1),\n",
       " ('majesty', 1),\n",
       " ('realized', 1),\n",
       " ('then', 1),\n",
       " ('declare', 1),\n",
       " ('given', 1),\n",
       " ('adjournment', 1),\n",
       " ('move', 1),\n",
       " ('submitting', 1),\n",
       " ('lamentable', 1),\n",
       " ('act', 1),\n",
       " ('21', 1),\n",
       " ('think', 1),\n",
       " ('dark', 1),\n",
       " ('meets', 1),\n",
       " ('account', 1),\n",
       " ('include', 1),\n",
       " ('rigor', 1),\n",
       " ('when', 1),\n",
       " ('time', 1),\n",
       " ('suggest', 1),\n",
       " ('were', 1),\n",
       " ('men', 1),\n",
       " ('confidence', 1),\n",
       " ('last', 1),\n",
       " ('again', 1),\n",
       " ('crisis', 1),\n",
       " ('suffered', 1),\n",
       " ('interest', 1),\n",
       " ('impulse', 1),\n",
       " ('as', 1),\n",
       " ('human', 1),\n",
       " ('germany', 1),\n",
       " ('itself', 1),\n",
       " ('labour', 1),\n",
       " ('grievous', 1),\n",
       " ('answer', 1),\n",
       " ('evident', 1),\n",
       " ('kind', 1),\n",
       " ('steps', 1),\n",
       " ('however', 1),\n",
       " ('need', 1),\n",
       " ('complexity', 1),\n",
       " ('former', 1),\n",
       " ('record', 1),\n",
       " ('go', 1),\n",
       " ('sure', 1),\n",
       " ('address', 1),\n",
       " ('nothing', 1),\n",
       " ('invite', 1),\n",
       " ('action', 1),\n",
       " ('length', 1),\n",
       " ('come', 1),\n",
       " ('made', 1),\n",
       " ('inflexible', 1),\n",
       " ('tears', 1),\n",
       " ('aim', 1),\n",
       " (':', 1),\n",
       " ('blood', 1),\n",
       " ('undertaking', 1),\n",
       " ('list', 1),\n",
       " ('from', 1),\n",
       " ('god', 1)]"
      ]
     },
     "execution_count": 97,
     "metadata": {},
     "output_type": "execute_result"
    }
   ],
   "source": [
    "text.vocab().most_common()"
   ]
  },
  {
   "cell_type": "code",
   "execution_count": 98,
   "metadata": {
    "collapsed": false,
    "slideshow": {
     "slide_type": "slide"
    }
   },
   "outputs": [
    {
     "data": {
      "text/plain": [
       "[('the', 45),\n",
       " ('.', 34),\n",
       " (',', 28),\n",
       " ('of', 25),\n",
       " ('and', 21),\n",
       " ('to', 21),\n",
       " ('i', 18),\n",
       " ('in', 15),\n",
       " ('be', 14),\n",
       " ('that', 13)]"
      ]
     },
     "execution_count": 98,
     "metadata": {},
     "output_type": "execute_result"
    }
   ],
   "source": [
    "text.vocab().most_common(10)"
   ]
  },
  {
   "cell_type": "markdown",
   "metadata": {
    "slideshow": {
     "slide_type": "slide"
    }
   },
   "source": [
    "### Problems...\n",
    "* 'the' is a top word\n",
    "* some words are not significant to interpreting our text\n",
    "* NLTK  has a default list of stopwords that we can use for English!"
   ]
  },
  {
   "cell_type": "code",
   "execution_count": 99,
   "metadata": {
    "collapsed": false,
    "slideshow": {
     "slide_type": "fragment"
    }
   },
   "outputs": [
    {
     "name": "stdout",
     "output_type": "stream",
     "text": [
      "['i', 'me', 'my', 'myself', 'we', 'our', 'ours', 'ourselves', 'you', 'your', 'yours', 'yourself', 'yourselves', 'he', 'him', 'his', 'himself', 'she', 'her', 'hers', 'herself', 'it', 'its', 'itself', 'they', 'them', 'their', 'theirs', 'themselves', 'what', 'which', 'who', 'whom', 'this', 'that', 'these', 'those', 'am', 'is', 'are', 'was', 'were', 'be', 'been', 'being', 'have', 'has', 'had', 'having', 'do', 'does', 'did', 'doing', 'a', 'an', 'the', 'and', 'but', 'if', 'or', 'because', 'as', 'until', 'while', 'of', 'at', 'by', 'for', 'with', 'about', 'against', 'between', 'into', 'through', 'during', 'before', 'after', 'above', 'below', 'to', 'from', 'up', 'down', 'in', 'out', 'on', 'off', 'over', 'under', 'again', 'further', 'then', 'once', 'here', 'there', 'when', 'where', 'why', 'how', 'all', 'any', 'both', 'each', 'few', 'more', 'most', 'other', 'some', 'such', 'no', 'nor', 'not', 'only', 'own', 'same', 'so', 'than', 'too', 'very', 's', 't', 'can', 'will', 'just', 'don', 'should', 'now', 'd', 'll', 'm', 'o', 're', 've', 'y', 'ain', 'aren', 'couldn', 'didn', 'doesn', 'hadn', 'hasn', 'haven', 'isn', 'ma', 'mightn', 'mustn', 'needn', 'shan', 'shouldn', 'wasn', 'weren', 'won', 'wouldn']\n"
     ]
    }
   ],
   "source": [
    "from nltk.corpus import stopwords\n",
    "\n",
    "stops = stopwords.words('english').copy()\n",
    "print(stops)"
   ]
  },
  {
   "cell_type": "code",
   "execution_count": 100,
   "metadata": {
    "collapsed": false,
    "slideshow": {
     "slide_type": "slide"
    }
   },
   "outputs": [
    {
     "data": {
      "text/plain": [
       "[('.', 34),\n",
       " (',', 28),\n",
       " ('house', 6),\n",
       " ('victory', 5),\n",
       " ('war', 5),\n",
       " ('survival', 4),\n",
       " ('many', 4),\n",
       " ('us', 4),\n",
       " ('hope', 3),\n",
       " ('nation', 3)]"
      ]
     },
     "execution_count": 100,
     "metadata": {},
     "output_type": "execute_result"
    }
   ],
   "source": [
    "no_stop_tokens = [word for word in text.tokens if word not in stops]\n",
    "text_no_stops = Text(no_stop_tokens)\n",
    "text_no_stops.vocab().most_common(10)"
   ]
  },
  {
   "cell_type": "markdown",
   "metadata": {
    "slideshow": {
     "slide_type": "slide"
    }
   },
   "source": [
    "Let's add punctuation to our 'stop words', aka, tokens that can be ignored."
   ]
  },
  {
   "cell_type": "code",
   "execution_count": 101,
   "metadata": {
    "collapsed": false,
    "slideshow": {
     "slide_type": "fragment"
    }
   },
   "outputs": [
    {
     "name": "stdout",
     "output_type": "stream",
     "text": [
      "!\"#$%&'()*+,-./:;<=>?@[\\]^_`{|}~\n"
     ]
    },
    {
     "data": {
      "text/plain": [
       "[('house', 6),\n",
       " ('victory', 5),\n",
       " ('war', 5),\n",
       " ('survival', 4),\n",
       " ('many', 4),\n",
       " ('us', 4),\n",
       " ('hope', 3),\n",
       " ('nation', 3),\n",
       " ('task', 3),\n",
       " ('ministers', 3)]"
      ]
     },
     "execution_count": 101,
     "metadata": {},
     "output_type": "execute_result"
    }
   ],
   "source": [
    "import string\n",
    "print(string.punctuation)\n",
    "\n",
    "stops.extend(list(string.punctuation))\n",
    "no_stop_tokens = [word for word in text.tokens if word not in stops]\n",
    "text_no_stops = Text(no_stop_tokens)\n",
    "text_no_stops.vocab().most_common(10)"
   ]
  },
  {
   "cell_type": "markdown",
   "metadata": {
    "slideshow": {
     "slide_type": "slide"
    }
   },
   "source": [
    "Oh!  And we can easily plot this!\n",
    "\n",
    "<b>Fun notebook tip:</b> The plots all use matplotlib.  IPython Notebook gives you the option to display plots inline, which most prefer.  You can do so with '%matplotlib inline'.  You can also make plots prettier with matplotlib.style.use('ggplot')."
   ]
  },
  {
   "cell_type": "code",
   "execution_count": 102,
   "metadata": {
    "collapsed": false,
    "slideshow": {
     "slide_type": "slide"
    }
   },
   "outputs": [
    {
     "data": {
      "image/png": "[encoded data removed]",
      "text/plain": [
       "<matplotlib.figure.Figure at 0x116737d68>"
      ]
     },
     "metadata": {},
     "output_type": "display_data"
    }
   ],
   "source": [
    "plt.figure(figsize=(15,7))\n",
    "\n",
    "text_no_stops.vocab().plot(50, cumulative=True, title='Cumulative Distribution of Vocabulary')"
   ]
  },
  {
   "cell_type": "markdown",
   "metadata": {
    "slideshow": {
     "slide_type": "slide"
    }
   },
   "source": [
    "### How do I learn more about the seemingly significant words in my text?\n",
    "Back to the Text object, there are several methods that allow us to learn more about the role of a word in a text. "
   ]
  },
  {
   "cell_type": "markdown",
   "metadata": {
    "slideshow": {
     "slide_type": "slide"
    }
   },
   "source": [
    "### Where do my top words appear?\n",
    "The <b>Text.concordance()</b> method allows us to see a word as it appears in the text.  Let's look at some of the top words in our text to see how they appear."
   ]
  },
  {
   "cell_type": "code",
   "execution_count": 103,
   "metadata": {
    "collapsed": false,
    "slideshow": {
     "slide_type": "slide"
    }
   },
   "outputs": [
    {
     "name": "stdout",
     "output_type": "stream",
     "text": [
      "Displaying 6 of 6 matches:\n",
      "t to suggest to the speaker that the house should be summoned today . at the en\n",
      "proceedings , the adjournment of the house will be proposed until may 21 with p\n",
      "liest opportunity . i now invite the house by a resolution to record its approv\n",
      "ment . the resolution : '' that this house welcomes the formation of a governme\n",
      " be pardoned if 1 do not address the house at any length today , and i hope tha\n",
      "been necessary to act . i say to the house as i said to ministers who have join\n"
     ]
    }
   ],
   "source": [
    "text.concordance('house')"
   ]
  },
  {
   "cell_type": "code",
   "execution_count": 104,
   "metadata": {
    "collapsed": false,
    "slideshow": {
     "slide_type": "slide"
    }
   },
   "outputs": [
    {
     "name": "stdout",
     "output_type": "stream",
     "text": [
      "Displaying 5 of 5 matches:\n",
      " ? i can answer in one word . it is victory . victory at all costs - victory in\n",
      "nswer in one word . it is victory . victory at all costs - victory in spite of \n",
      "is victory . victory at all costs - victory in spite of all terrors - victory ,\n",
      "- victory in spite of all terrors - victory , however long and hard the road ma\n",
      " hard the road may be , for without victory there is no survival . let that be \n"
     ]
    }
   ],
   "source": [
    "text.concordance('victory')"
   ]
  },
  {
   "cell_type": "code",
   "execution_count": 105,
   "metadata": {
    "collapsed": false,
    "scrolled": true,
    "slideshow": {
     "slide_type": "slide"
    }
   },
   "outputs": [
    {
     "name": "stdout",
     "output_type": "stream",
     "text": [
      "Displaying 5 of 5 matches:\n",
      " most important part of this task . a war cabinet has been formed of five membe\n",
      "esolve of the nation to prosecute the war with germany to a victorious conclusi\n",
      "t is our policy ? i say it is to wage war by land , sea , and air . war with al\n",
      "to wage war by land , sea , and air . war with all our might and with all the s\n",
      "rength god has given us , and to wage war against a monstrous tyranny never sur\n"
     ]
    }
   ],
   "source": [
    "text.concordance('war')"
   ]
  },
  {
   "cell_type": "markdown",
   "metadata": {
    "slideshow": {
     "slide_type": "slide"
    }
   },
   "source": [
    "We can also see when these words appear in the text to get an idea of their sequence and relationships using the <b>Text.dispersion_plot()</b> method."
   ]
  },
  {
   "cell_type": "code",
   "execution_count": 106,
   "metadata": {
    "collapsed": false,
    "slideshow": {
     "slide_type": "fragment"
    }
   },
   "outputs": [
    {
     "data": {
      "image/png": "[encoded data removed]",
      "text/plain": [
       "<matplotlib.figure.Figure at 0x114d2ae10>"
      ]
     },
     "metadata": {},
     "output_type": "display_data"
    }
   ],
   "source": [
    "plt.figure(figsize=(15,7))\n",
    "\n",
    "text.dispersion_plot(['house','victory','war'])"
   ]
  },
  {
   "cell_type": "markdown",
   "metadata": {
    "slideshow": {
     "slide_type": "slide"
    }
   },
   "source": [
    "### What words are used in similar ways?\n",
    "#### Contexts\n",
    "In nltk, the 'context' of a word signifies the words that surround it when it occurs.\n",
    "For learning purposes, let's call concordance on 'house' and then see how our context lines up."
   ]
  },
  {
   "cell_type": "code",
   "execution_count": 107,
   "metadata": {
    "collapsed": false,
    "slideshow": {
     "slide_type": "fragment"
    }
   },
   "outputs": [
    {
     "name": "stdout",
     "output_type": "stream",
     "text": [
      "Displaying 6 of 6 matches:\n",
      "t to suggest to the speaker that the house should be summoned today . at the en\n",
      "proceedings , the adjournment of the house will be proposed until may 21 with p\n",
      "liest opportunity . i now invite the house by a resolution to record its approv\n",
      "ment . the resolution : '' that this house welcomes the formation of a governme\n",
      " be pardoned if 1 do not address the house at any length today , and i hope tha\n",
      "been necessary to act . i say to the house as i said to ministers who have join\n"
     ]
    }
   ],
   "source": [
    "text.concordance('house')"
   ]
  },
  {
   "cell_type": "code",
   "execution_count": 108,
   "metadata": {
    "collapsed": false,
    "slideshow": {
     "slide_type": "slide"
    }
   },
   "outputs": [
    {
     "data": {
      "text/plain": [
       "FreqDist({('the', 'as'): 1,\n",
       "          ('the', 'at'): 1,\n",
       "          ('the', 'by'): 1,\n",
       "          ('the', 'should'): 1,\n",
       "          ('the', 'will'): 1,\n",
       "          ('this', 'welcomes'): 1})"
      ]
     },
     "execution_count": 108,
     "metadata": {},
     "output_type": "execute_result"
    }
   ],
   "source": [
    "contexts = nltk.ContextIndex(text.tokens)\n",
    "contexts._word_to_contexts['house']"
   ]
  },
  {
   "cell_type": "markdown",
   "metadata": {
    "slideshow": {
     "slide_type": "slide"
    }
   },
   "source": [
    "The <b>Text.similar()</b> method can help us find words that might not appear as frequently as our word, but they appear in a similar context and thus might be related."
   ]
  },
  {
   "cell_type": "code",
   "execution_count": 109,
   "metadata": {
    "collapsed": false,
    "slideshow": {
     "slide_type": "fragment"
    }
   },
   "outputs": [
    {
     "name": "stdout",
     "output_type": "stream",
     "text": [
      "evident administration\n"
     ]
    }
   ],
   "source": [
    "text.similar('house')"
   ]
  },
  {
   "cell_type": "code",
   "execution_count": 110,
   "metadata": {
    "collapsed": false,
    "slideshow": {
     "slide_type": "slide"
    }
   },
   "outputs": [
    {
     "name": "stdout",
     "output_type": "stream",
     "text": [
      "Displaying 3 of 3 matches:\n",
      "                                administration . it was the evident will of ' \n",
      " will be completed and that the administration will be complete in all respect\n",
      "ious conclusion . '' to form an administration of this scale and complexity is\n",
      "None\n",
      "\n",
      "dict_items([(('new', '.'), 1), (('the', 'will'), 1), (('an', 'of'), 1)])\n"
     ]
    }
   ],
   "source": [
    "print(text.concordance('administration'))\n",
    "print()\n",
    "print(contexts._word_to_contexts['administration'].items())"
   ]
  },
  {
   "cell_type": "code",
   "execution_count": 111,
   "metadata": {
    "collapsed": false,
    "slideshow": {
     "slide_type": "slide"
    }
   },
   "outputs": [
    {
     "name": "stdout",
     "output_type": "stream",
     "text": [
      "Displaying 1 of 1 matches:\n",
      "m a new administration . it was the evident will of ' parliament and the nation\n",
      "None\n",
      "\n",
      "dict_items([(('the', 'will'), 1)])\n"
     ]
    }
   ],
   "source": [
    "print(text.concordance('evident'))\n",
    "print()\n",
    "print(contexts._word_to_contexts['evident'].items())"
   ]
  },
  {
   "cell_type": "markdown",
   "metadata": {
    "slideshow": {
     "slide_type": "slide"
    }
   },
   "source": [
    "Similar command doesn't always tell you something useful  \n",
    "<br><br>\n",
    "#### ('the','will')\n",
    "is a <b>great</b> example of a huge challenge in natural language processing \n",
    "* <i>Will</i> can be a noun or a verb.  "
   ]
  },
  {
   "cell_type": "markdown",
   "metadata": {
    "slideshow": {
     "slide_type": "slide"
    }
   },
   "source": [
    "Another method that uses context is <b>Text.common_contexts()</b>.  This is sort of the inverse of Text.similar().  common_contexts will return the common context of a list of words."
   ]
  },
  {
   "cell_type": "code",
   "execution_count": 112,
   "metadata": {
    "collapsed": false,
    "slideshow": {
     "slide_type": "fragment"
    }
   },
   "outputs": [
    {
     "name": "stdout",
     "output_type": "stream",
     "text": [
      "the_will\n"
     ]
    }
   ],
   "source": [
    "text.common_contexts(['evident','house'])"
   ]
  },
  {
   "cell_type": "code",
   "execution_count": 113,
   "metadata": {
    "collapsed": false,
    "slideshow": {
     "slide_type": "fragment"
    }
   },
   "outputs": [
    {
     "name": "stdout",
     "output_type": "stream",
     "text": [
      "the_will\n"
     ]
    }
   ],
   "source": [
    "text.common_contexts(['evident','house','administration'])"
   ]
  },
  {
   "cell_type": "markdown",
   "metadata": {
    "slideshow": {
     "slide_type": "slide"
    }
   },
   "source": [
    "### What are some significant phrases I should know?\n",
    "<br>\n",
    "#### Collocations \n",
    "are expressions of multiple words which commonly co-occur.  \n",
    "\n",
    "Text.collocations() will look for words that commonly occur in the same window, skipping stop words (thanks!).  The default window size is 2. "
   ]
  },
  {
   "cell_type": "code",
   "execution_count": 114,
   "metadata": {
    "collapsed": false,
    "slideshow": {
     "slide_type": "fragment"
    }
   },
   "outputs": [
    {
     "name": "stdout",
     "output_type": "stream",
     "text": [
      "british empire; wage war\n"
     ]
    }
   ],
   "source": [
    "text.collocations()"
   ]
  },
  {
   "cell_type": "markdown",
   "metadata": {
    "slideshow": {
     "slide_type": "slide"
    }
   },
   "source": [
    "Crazy!  We immediately get two incredibly relevant bigrams out of this.  We can extend the window to get more information."
   ]
  },
  {
   "cell_type": "code",
   "execution_count": 115,
   "metadata": {
    "collapsed": false,
    "slideshow": {
     "slide_type": "slide"
    }
   },
   "outputs": [
    {
     "name": "stdout",
     "output_type": "stream",
     "text": [
      "many months; british empire; appointment ministers; form\n",
      "administration; part task; wage war\n"
     ]
    }
   ],
   "source": [
    "text.collocations(window_size=4)"
   ]
  },
  {
   "cell_type": "code",
   "execution_count": 116,
   "metadata": {
    "collapsed": false,
    "slideshow": {
     "slide_type": "slide"
    }
   },
   "outputs": [
    {
     "name": "stdout",
     "output_type": "stream",
     "text": [
      "friends colleagues; many months; many struggle; british empire;\n",
      "victory costs; appointment ministers; form administration; part task;\n",
      "survival british; wage war; house today; victory victory\n"
     ]
    }
   ],
   "source": [
    "text.collocations(window_size=6)"
   ]
  },
  {
   "cell_type": "markdown",
   "metadata": {
    "slideshow": {
     "slide_type": "fragment"
    }
   },
   "source": [
    "<a href=\"http://www.history.com/this-day-in-history/churchill-announces-i-have-nothing-to-offer-but-blood-toil-tears-and-sweat\">History.com summarizes the speech as such:</a><br>\n",
    "<i>On this day in 1940, as Winston Churchill takes the helm as <b>Great Britain</b>’s new prime minister, he assures Parliament that his new policy will consist of nothing less than “to <b>wage war</b>, by sea, land and air, with all our might and with all the strength that God can give us; to wage war against a monstrous tyranny, never surpassed in the dark, lamentable catalogue of human crime.”</i>\n",
    "\n",
    "How do we line up?"
   ]
  },
  {
   "cell_type": "markdown",
   "metadata": {
    "slideshow": {
     "slide_type": "slide"
    }
   },
   "source": [
    "## What Can We Quickly Learn?\n",
    "If given a new text, not even just a speech, we can quickly try to get a good sense of what is in that text.  Let's try doing this really quickly with another one of Churchill's speeches, \"We Shall Fight On the Beaches.\""
   ]
  },
  {
   "cell_type": "code",
   "execution_count": 117,
   "metadata": {
    "collapsed": true,
    "slideshow": {
     "slide_type": "slide"
    }
   },
   "outputs": [],
   "source": [
    "fp = 'speeches/Churchill-Beaches.txt'\n",
    "speech = open(fp).read().lower()\n",
    "words = word_tokenize(speech)\n",
    "text = Text(words)"
   ]
  },
  {
   "cell_type": "code",
   "execution_count": 118,
   "metadata": {
    "collapsed": false,
    "slideshow": {
     "slide_type": "slide"
    }
   },
   "outputs": [
    {
     "name": "stdout",
     "output_type": "stream",
     "text": [
      "Diversity of words score: 0.45714285714285713\n"
     ]
    }
   ],
   "source": [
    "print('Diversity of words score:', len(text.vocab())/len(text.tokens))"
   ]
  },
  {
   "cell_type": "code",
   "execution_count": 119,
   "metadata": {
    "collapsed": false,
    "slideshow": {
     "slide_type": "slide"
    }
   },
   "outputs": [
    {
     "name": "stdout",
     "output_type": "stream",
     "text": [
      "shall fight; growing strength; defend island; fight growing\n"
     ]
    }
   ],
   "source": [
    "text.collocations(window_size=6)"
   ]
  },
  {
   "cell_type": "code",
   "execution_count": 120,
   "metadata": {
    "collapsed": false,
    "slideshow": {
     "slide_type": "slide"
    }
   },
   "outputs": [
    {
     "data": {
      "text/plain": [
       "[('shall', 12),\n",
       " ('fight', 7),\n",
       " ('defend', 3),\n",
       " ('island', 3),\n",
       " ('seas', 2),\n",
       " ('growing', 2),\n",
       " ('strength', 2),\n",
       " ('british', 2),\n",
       " ('made', 2),\n",
       " ('necessary', 2)]"
      ]
     },
     "execution_count": 120,
     "metadata": {},
     "output_type": "execute_result"
    }
   ],
   "source": [
    "words_no_stops = [word for word in text.tokens if word not in stops]\n",
    "text_no_stops = Text(words_no_stops)\n",
    "text_no_stops.vocab().most_common(10)"
   ]
  },
  {
   "cell_type": "code",
   "execution_count": 121,
   "metadata": {
    "collapsed": false,
    "slideshow": {
     "slide_type": "slide"
    }
   },
   "outputs": [
    {
     "data": {
      "image/png": "[encoded data removed]",
      "text/plain": [
       "<matplotlib.figure.Figure at 0x115ca24e0>"
      ]
     },
     "metadata": {},
     "output_type": "display_data"
    }
   ],
   "source": [
    "plt.figure(figsize=(15,7))\n",
    "\n",
    "text_no_stops.vocab().plot(50, cumulative=True, title='Cumulative Distribution of Vocabulary')"
   ]
  },
  {
   "cell_type": "code",
   "execution_count": 122,
   "metadata": {
    "collapsed": false,
    "slideshow": {
     "slide_type": "slide"
    }
   },
   "outputs": [
    {
     "data": {
      "image/png": "[encoded data removed]",
      "text/plain": [
       "<matplotlib.figure.Figure at 0x111692cf8>"
      ]
     },
     "metadata": {},
     "output_type": "display_data"
    }
   ],
   "source": [
    "plt.figure(figsize=(15,7))\n",
    "\n",
    "top_words = [word for word,count in text_no_stops.vocab().most_common(10)]\n",
    "text.dispersion_plot(top_words)"
   ]
  }
 ],
 "metadata": {
  "celltoolbar": "Slideshow",
  "kernelspec": {
   "display_name": "Python 3",
   "language": "python",
   "name": "python3"
  },
  "language_info": {
   "codemirror_mode": {
    "name": "ipython",
    "version": 3
   },
   "file_extension": ".py",
   "mimetype": "text/x-python",
   "name": "python",
   "nbconvert_exporter": "python",
   "pygments_lexer": "ipython3",
   "version": "3.5.1"
  },
  "livereveal": {
   "start_slideshow_at": "selected",
   "theme": "moon",
   "transition": "zoom"
  }
 },
 "nbformat": 4,
 "nbformat_minor": 0
}
