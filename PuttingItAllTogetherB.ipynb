{
 "cells": [
  {
   "cell_type": "markdown",
   "metadata": {},
   "source": [
    "Import the libraries/packages we will need."
   ]
  },
  {
   "cell_type": "code",
   "execution_count": 146,
   "metadata": {
    "collapsed": true
   },
   "outputs": [],
   "source": [
    "####Imports\n",
    "import nltk\n",
    "from nltk.corpus import stopwords\n",
    "import re\n",
    "from collections import Counter\n",
    "import string\n",
    "import pandas as pd\n",
    "import os"
   ]
  },
  {
   "cell_type": "markdown",
   "metadata": {},
   "source": [
    "## Variables"
   ]
  },
  {
   "cell_type": "markdown",
   "metadata": {},
   "source": [
    "### Part of Speech Map\n",
    "mapping specific UPenn tags to more general groups."
   ]
  },
  {
   "cell_type": "code",
   "execution_count": 147,
   "metadata": {
    "collapsed": true
   },
   "outputs": [],
   "source": [
    "####Variables\n",
    "pos_map = {\n",
    "    'CC':'Misc',\n",
    "    'CD':'Adjective',\n",
    "    'DT':'Determiner',\n",
    "    'EX':'Existential',\n",
    "    'FW':'Foreign',\n",
    "    'IN':'Misc',\n",
    "    'JJ':'Adjective',\n",
    "    'JJR':'Adjective',\n",
    "    'JJS':'Adjective',\n",
    "    'MD':'Verb',\n",
    "    'NN':'Noun',\n",
    "    'NNS':'Noun',\n",
    "    'NNP':'Noun',\n",
    "    'NNPS':'Noun',\n",
    "    'PDT':'Determiner',\n",
    "    'POS':'Misc',\n",
    "    'PRP':'Pronoun',\n",
    "    'PRP$':'Pronoun',\n",
    "    'RB':'Adverb',\n",
    "    'RBR':'Adverb',\n",
    "    'RBS':'Adverb',\n",
    "    'RP':'Adverb',\n",
    "    'SYM':'Misc',\n",
    "    'TO':'Misc',\n",
    "    'UH':'Misc',\n",
    "    'VB':'Verb',\n",
    "    'VBZ':'Verb',\n",
    "    'VBP':'Verb',\n",
    "    'VBD':'Verb',\n",
    "    'VBN':'Verb',\n",
    "    'VBG':'Verb',\n",
    "    'WDT':'Determiner',\n",
    "    'WP':'Pronoun',\n",
    "    'WP$':'Pronoun',\n",
    "    'WRB':'Adverb',\n",
    "    '.':'.',\n",
    "    ',':'.',\n",
    "    ':':'.',\n",
    "    '(':'Misc',\n",
    "    ')':'Misc',\n",
    "    \"''\":'Misc',\n",
    "    \"``\":'Misc',\n",
    "    '$':'Misc',\n",
    "}"
   ]
  },
  {
   "cell_type": "markdown",
   "metadata": {},
   "source": [
    "## Clauses/Word Groups\n",
    "Used to detect clause types, intensifiers, and pronouns."
   ]
  },
  {
   "cell_type": "code",
   "execution_count": 148,
   "metadata": {
    "collapsed": true
   },
   "outputs": [],
   "source": [
    "intensifiers = ['amazingly', 'astoundingly', 'dreadfully', 'colossally', 'especially', 'exceptionally',\n",
    "                'excessively', 'extremely', 'extraordinarily', 'fantastically', 'frightfully', 'fully', \n",
    "                'incredibly', 'literally', 'mightily', 'moderately', 'most', 'outrageously', \n",
    "                'phenomenally', 'quite', 'radically', 'rather', 'real', 'really', 'remarkably', 'right', \n",
    "                'somewhat', 'strikingly', 'super', 'supremely', 'surpassingly', 'terribly', \n",
    "                'terrifically', 'too', 'totally', 'uncommonly', 'unusually', 'veritable', 'very']\n",
    "    \n",
    "pronouns = ['ourselves', 'she', 'themselves', 'you', 'ours', 'it', 'yourself', 'yourselves', \n",
    "                'itself', 'my', 'hers', 'her', 'theirs', 'we', 'i', 'me', 'myself', 'your', 'yours', \n",
    "                'them', 'our', 'himself', 'his', 'their', 'they', 'mine', 'herself', 'us', 'its', 'he', 'him']\n",
    "    \n",
    "similarity_clauses = ['in the first place', 'not only', 'as a matter of fact', 'in like manner', 'in addition',\n",
    "                      'coupled with', 'in the same fashion', 'in the same way', 'first, second, third', \n",
    "                      'in the light of', 'not to mention', 'to say nothing of', 'equally important', \n",
    "                      'by the same token', 'again', 'equally', 'identically', \n",
    "                      'uniquely', 'like', 'too', 'moreover', 'as well as', 'together with', 'of course', \n",
    "                      'likewise', 'comparatively', 'correspondingly', 'similarly', 'furthermore', 'additionally']\n",
    "\n",
    "opposition_clauses = ['although this may be true', 'in contrast', 'different from', 'on the other hand', \n",
    "                          'on the contrary', 'at the same time', 'in spite of', 'even so', 'even though', \n",
    "                          'be that as it may', 'then again', 'above all', 'in reality', 'after all', 'but', \n",
    "                          'and still', 'unlike', 'and yet', 'while', 'albeit', 'besides', 'as much as', \n",
    "                          'even though', 'although', 'instead', 'whereas', 'despite', 'conversely', 'otherwise', \n",
    "                          'however', 'rather', 'nevertheless', 'nonetheless', 'regardless', 'notwithstanding']\n",
    "\n",
    "conditional_clauses = ['in the event that', 'granted that', 'as long as', 'so long as', 'for the purpose of', \n",
    "                           'with this intention', 'with this in mind', 'in the hope that', 'to the end that', \n",
    "                           'for fear that', 'in order to', 'seeing that', 'being that', 'in view of', 'unless', \n",
    "                           'when', 'whenever', 'while', 'because of', 'while', 'lest', 'in case', \n",
    "                           'provided that', 'given that', 'only if', 'even if', 'so that', 'so as to', 'owing to', \n",
    "                           'inasmuch as', 'due to']\n",
    "\n",
    "example_clauses = ['in other words', 'to put it differently', 'for one thing', 'as an illustration', 'in this case', \n",
    "                'for this reason', 'to put it another way', 'that is to say', 'with attention to', 'by all means', \n",
    "                'important to realize', 'another key point', 'first thing to remember', 'most compelling evidence', \n",
    "                'must be remembered', 'point often overlooked', 'to point out', 'on the positive side', \n",
    "                'on the negative side', 'with this in mind', 'notably', 'including', 'like', 'to be sure', 'namely', \n",
    "                'chiefly', 'truly', 'indeed', 'certainly', 'surely', 'markedly', 'such as', 'especially', 'explicitly', \n",
    "                'specifically', 'expressly', 'surprisingly', 'frequently', 'significantly', 'particularly', 'in fact', \n",
    "                'in general', 'in particular', 'in detail', 'for example', 'for instance', 'to demonstrate', \n",
    "                'to emphasize', 'to repeat', 'to clarify', 'to explain', 'to enumerate']\n",
    "\n",
    "result_clauses = ['as a result', 'under those circumstances', 'in that case', 'for this reason', 'in effect', \n",
    "                      'thus', 'because the', 'hence', 'consequently', 'therefore', 'thereupon', \n",
    "                      'forthwith', 'accordingly', 'henceforth']\n",
    "\n",
    "conclusion_clauses = ['as a result', 'under those circumstances', 'in that case', 'for this reason', \n",
    "                          'in effect', ', for', 'thus', 'because the', 'then', 'hence', 'consequently', 'therefore', \n",
    "                          'thereupon', 'forthwith', 'accordingly', 'henceforth']\n",
    "\n",
    "sequence_clauses = ['at the present time', 'from time to time', 'sooner or later', 'at the same time',\n",
    "                        'up to the present time', 'to begin with', 'in due time', 'as soon as', 'as long as',\n",
    "                        'in the meantime', 'in a moment', 'without delay', 'in the first place', 'all of a sudden',\n",
    "                        'at this instant', 'first', 'second ', 'immediately', 'quickly', 'finally', 'after', 'later',\n",
    "                        'last', 'until', 'till', 'since', 'then', 'before', 'hence', 'since', 'when', 'once', 'about',\n",
    "                        'next', 'now', 'formerly', 'suddenly', 'shortly', 'henceforth', 'whenever', 'eventually',\n",
    "                        'meanwhile', 'further', 'during', 'in time', 'prior to', 'forthwith', 'straightaway ',\n",
    "                        'by the time', 'whenever ', 'until now', 'now that ', 'instantly', 'presently', 'occasionally']"
   ]
  },
  {
   "cell_type": "markdown",
   "metadata": {},
   "source": [
    "## Functions"
   ]
  },
  {
   "cell_type": "markdown",
   "metadata": {},
   "source": [
    "### Utilities\n",
    "Functions we will use to check token attributes"
   ]
  },
  {
   "cell_type": "code",
   "execution_count": 149,
   "metadata": {
    "collapsed": true
   },
   "outputs": [],
   "source": [
    "####Utilities\n",
    "def is_stopword(token):\n",
    "    stops = stopwords.words('english').copy()\n",
    "    return token in stops\n",
    "\n",
    "def is_punctuation(token):\n",
    "    return token in string.punctuation\n",
    "\n",
    "def is_vowel(char):\n",
    "    if char in ('a','e','i','o','u','y'):\n",
    "        return True\n",
    "    return False"
   ]
  },
  {
   "cell_type": "markdown",
   "metadata": {},
   "source": [
    "### Rhetorical Devices"
   ]
  },
  {
   "cell_type": "markdown",
   "metadata": {},
   "source": [
    "### Rhetorical Question"
   ]
  },
  {
   "cell_type": "code",
   "execution_count": 150,
   "metadata": {
    "collapsed": true
   },
   "outputs": [],
   "source": [
    "####Rhetorical Devices\n",
    "\n",
    "##Rhetorical Question\n",
    "def is_rhetorical(sent):\n",
    "    if sent.endswith('?'):\n",
    "        return 1\n",
    "    return 0"
   ]
  },
  {
   "cell_type": "markdown",
   "metadata": {},
   "source": [
    "### Epitrophe"
   ]
  },
  {
   "cell_type": "code",
   "execution_count": 151,
   "metadata": {
    "collapsed": true
   },
   "outputs": [],
   "source": [
    "##Epitrophe\n",
    "#takes tokens\n",
    "def has_epitrophe(tokens):\n",
    "    epitrophe_instances = []\n",
    "\n",
    "    word_dist = Counter(tokens)\n",
    "    repeated_words = [word for word,count in word_dist.items() if count > 1]\n",
    "    \n",
    "    trigrams = nltk.ngrams(tokens,3)\n",
    "    for word in repeated_words:\n",
    "        anchor = None\n",
    "        for trigram in trigrams:\n",
    "            if trigram[1] == word:\n",
    "                tags = nltk.pos_tag(trigram)\n",
    "                if anchor:\n",
    "                    if tags[0][1] == anchor[0][1]:\n",
    "                        epitrophe_instances.append((tuple([word for word,pos in anchor]), trigram))\n",
    "                else:\n",
    "                    anchor = tags\n",
    "    return len(epitrophe_instances)  "
   ]
  },
  {
   "cell_type": "markdown",
   "metadata": {},
   "source": [
    "### Alliteration"
   ]
  },
  {
   "cell_type": "code",
   "execution_count": 152,
   "metadata": {
    "collapsed": true
   },
   "outputs": [],
   "source": [
    "##Alliteration\n",
    "def has_alliteration(word1, word2):\n",
    "    gram00 = word1[0]\n",
    "    gram10 = word2[0]\n",
    "    \n",
    "    if gram00==gram10:\n",
    "        if is_vowel(gram00):\n",
    "            return True\n",
    "        else:\n",
    "            if len(word1) > 1 and len(word2) > 1:\n",
    "                gram01 = word1[1]\n",
    "                gram11 = word2[1]\n",
    "                if is_vowel(gram01) and is_vowel(gram11):\n",
    "                    return (word1, word2)\n",
    "                elif gram01 == gram11:\n",
    "                    return (word1, word2)\n",
    "    return None"
   ]
  },
  {
   "cell_type": "code",
   "execution_count": 164,
   "metadata": {
    "collapsed": true
   },
   "outputs": [],
   "source": [
    "#takes tokens\n",
    "def count_alliteration(tokens):\n",
    "    allit_instances = []\n",
    "    #ignore stopwords\n",
    "    tokens = [token for token in tokens if not(is_punctuation(token) or is_stopword(token))]\n",
    "    \n",
    "    bigrams = nltk.ngrams(tokens,2)\n",
    "    for one,two in bigrams:\n",
    "        if has_alliteration(one,two):\n",
    "            allit_instances.append((one,two))\n",
    "    trigrams = nltk.ngrams(tokens,3)\n",
    "    for one,two,three in trigrams:\n",
    "        #the not avoids double counting\n",
    "        if has_alliteration(one,three) and not has_alliteration(one,two):\n",
    "            allit_instances.append((one,two,three))\n",
    "    return len(allit_instances)"
   ]
  },
  {
   "cell_type": "markdown",
   "metadata": {},
   "source": [
    "### Clause Check"
   ]
  },
  {
   "cell_type": "code",
   "execution_count": 153,
   "metadata": {
    "collapsed": true
   },
   "outputs": [],
   "source": [
    "####Clauses\n",
    "#Note: certain clauses are in multiple lists, thus there will be double counting\n",
    "def contains_patterns(sent, pattern_list):\n",
    "    for pattern in pattern_list:\n",
    "        pattern = '(^%s)|(\\s%s\\s)' % (pattern,pattern,)\n",
    "        m = re.search(pattern, sent)\n",
    "        if m:\n",
    "            return 1\n",
    "    return 0"
   ]
  },
  {
   "cell_type": "markdown",
   "metadata": {},
   "source": [
    "### Pronoun Distributions"
   ]
  },
  {
   "cell_type": "code",
   "execution_count": 154,
   "metadata": {
    "collapsed": false
   },
   "outputs": [],
   "source": [
    "####Pronouns\n",
    "#takes tokens\n",
    "def count_pronouns(tokens):\n",
    "        pronoun_dict = Counter()\n",
    "        pronoun_tokens = [token for token in tokens if token in pronouns]\n",
    "        pronoun_dict.update(pronoun_tokens)\n",
    "        return pronoun_dict"
   ]
  },
  {
   "cell_type": "markdown",
   "metadata": {},
   "source": [
    "## Sentence metrics\n",
    "Check for rhetorical devices, clauses, distributions of pronouns and parts of speech, and return in a dictionary."
   ]
  },
  {
   "cell_type": "code",
   "execution_count": 155,
   "metadata": {
    "collapsed": true
   },
   "outputs": [],
   "source": [
    "def evaluate_sentence(sent):\n",
    "    tokens = nltk.word_tokenize(sent)\n",
    "    \n",
    "    #Rhetorical Devices\n",
    "    rhetoric = is_rhetorical(sent)\n",
    "    epitrophe = has_epitrophe(tokens)\n",
    "    alliteration = count_alliteration(tokens)\n",
    "    \n",
    "    #Clauses\n",
    "    similarity = contains_patterns(sent, similarity_clauses)\n",
    "    opposition = contains_patterns(sent, opposition_clauses)\n",
    "    conditional = contains_patterns(sent, conditional_clauses)\n",
    "    example = contains_patterns(sent, example_clauses)\n",
    "    result = contains_patterns(sent, result_clauses)\n",
    "    conclusion = contains_patterns(sent, result_clauses)\n",
    "    sequence = contains_patterns(sent, sequence_clauses)\n",
    "    \n",
    "    #Distributions\n",
    "    pronoun_dist = count_pronouns(tokens)\n",
    "    #pos_highlevel_dist = # \n",
    "    #pronouns_dist = #\n",
    "    \n",
    "    attr_dict = {\n",
    "        'sentence_counts':\n",
    "            {'rhetoric_count': rhetoric,\n",
    "            'epitrophe_count': epitrophe,\n",
    "            'alliteration_count': alliteration,\n",
    "            'similarity_count': similarity,\n",
    "            'opposition_count': opposition,\n",
    "            'conditional_count': conditional,\n",
    "            'example_count': example,\n",
    "            'result_count': result,\n",
    "            'conclusion_count': conclusion,\n",
    "            'sequence_count': sequence},\n",
    "        'sentence_length': len(tokens),\n",
    "        'pronoun_dist':pronoun_dist,\n",
    "    }\n",
    "    \n",
    "    return attr_dict"
   ]
  },
  {
   "cell_type": "markdown",
   "metadata": {},
   "source": [
    "## Evaluate Speech\n",
    "Collect metrics from each sentence. To normalize, divide some by number of tokens, some by number of sentences, depending on which is mor related to opportunity for occurrence."
   ]
  },
  {
   "cell_type": "code",
   "execution_count": 156,
   "metadata": {
    "collapsed": false
   },
   "outputs": [],
   "source": [
    "def evaluate_speech(speech_str):\n",
    "    speech = speech_str.lower()\n",
    "    \n",
    "    #Distributions\n",
    "    pronoun_dist = Counter()\n",
    "    for pronoun in pronouns:\n",
    "            pronoun_dist.setdefault(pronoun,0)\n",
    "            \n",
    "    #Sent Average\n",
    "    sentence_lengths = []\n",
    "            \n",
    "    #Token features\n",
    "    speech_tokens = nltk.word_tokenize(speech)\n",
    "    tokens_no_stop = [token for token in speech_tokens if not (is_stopword(token) or is_punctuation(token))]\n",
    "    num_tokens = len(tokens_no_stop)\n",
    "    num_unique_tokens = len(set(tokens_no_stop))\n",
    "    diversity = num_unique_tokens/num_tokens\n",
    "    avg_token_length = sum([len(token) for token in tokens_no_stop])/num_tokens\n",
    "    \n",
    "    #Sentence features\n",
    "    sentence_attrs = []\n",
    "    for sentence in nltk.sent_tokenize(speech):\n",
    "        attrs = evaluate_sentence(sentence)\n",
    "        sentence_attrs.append(attrs['sentence_counts'])\n",
    "        pronoun_dist.update(attrs['pronoun_dist'])\n",
    "        sentence_lengths.append(attrs['sentence_length'])\n",
    "        \n",
    "    sentence_attrs = pd.DataFrame(sentence_attrs)\n",
    "    sentence_features = sentence_attrs.sum()/num_tokens\n",
    "\n",
    "    sentence_features['sentence_length'] = sum(sentence_lengths)/len(sentence_lengths)\n",
    "    sentence_features['diversity'] = diversity\n",
    "    sentence_features['token_length'] = avg_token_length\n",
    "    sentence_features['num_tokens'] = len(speech_tokens)\n",
    "    pronoun_proportions = pd.Series(pronoun_dist)/len(speech_tokens)\n",
    "    sentence_features = sentence_features.append(pronoun_proportions)\n",
    "    \n",
    "    return sentence_features\n",
    "    "
   ]
  },
  {
   "cell_type": "code",
   "execution_count": 157,
   "metadata": {
    "collapsed": false
   },
   "outputs": [
    {
     "data": {
      "text/plain": [
       "alliteration_count      0.075601\n",
       "conclusion_count        0.000000\n",
       "conditional_count       0.003436\n",
       "epitrophe_count         0.041237\n",
       "example_count           0.000000\n",
       "opposition_count        0.010309\n",
       "result_count            0.000000\n",
       "rhetoric_count          0.006873\n",
       "sequence_count          0.027491\n",
       "similarity_count        0.006873\n",
       "sentence_length        19.388889\n",
       "diversity               0.773196\n",
       "token_length            6.271478\n",
       "num_tokens            698.000000\n",
       "he                      0.000000\n",
       "her                     0.000000\n",
       "hers                    0.000000\n",
       "herself                 0.000000\n",
       "him                     0.000000\n",
       "himself                 0.000000\n",
       "his                     0.002865\n",
       "i                       0.025788\n",
       "it                      0.010029\n",
       "its                     0.002865\n",
       "itself                  0.001433\n",
       "me                      0.000000\n",
       "mine                    0.000000\n",
       "my                      0.004298\n",
       "myself                  0.000000\n",
       "our                     0.008596\n",
       "ours                    0.000000\n",
       "ourselves               0.000000\n",
       "she                     0.000000\n",
       "their                   0.000000\n",
       "theirs                  0.000000\n",
       "them                    0.000000\n",
       "themselves              0.000000\n",
       "they                    0.000000\n",
       "us                      0.005731\n",
       "we                      0.007163\n",
       "you                     0.002865\n",
       "your                    0.000000\n",
       "yours                   0.000000\n",
       "yourself                0.000000\n",
       "yourselves              0.000000\n",
       "dtype: float64"
      ]
     },
     "execution_count": 157,
     "metadata": {},
     "output_type": "execute_result"
    }
   ],
   "source": [
    "fp = 'speeches/Churchill-Blood.txt'\n",
    "speech = open(fp).read().lower()\n",
    "s = evaluate_speech(speech)\n",
    "s"
   ]
  },
  {
   "cell_type": "code",
   "execution_count": 158,
   "metadata": {
    "collapsed": false
   },
   "outputs": [
    {
     "name": "stdout",
     "output_type": "stream",
     "text": [
      "Wilson SafeDem\n",
      "Churchill Beaches\n",
      "Churchill FinestHour\n",
      "FDR PearlHarbor\n",
      "Henry LibertyDeath\n",
      "Lincoln Gettysburg\n",
      "Pericles Sepulcher\n",
      "Urban Infidels\n",
      "WillConq BeYe\n"
     ]
    }
   ],
   "source": [
    "speech_meta = ['speaker','name']\n",
    "speech_metrics = []\n",
    "for fn in os.listdir('speeches/CallToWar/'):\n",
    "    if fn.endswith('.txt'):\n",
    "        print(speaker,name)\n",
    "        speaker,name=fn.rstrip('.txt').split('-')\n",
    "        fp = 'speeches/CallToWar/' + fn\n",
    "        text = open(fp).read().lower()\n",
    "        metrics = evaluate_speech(text)\n",
    "        metrics['name'] = name\n",
    "        metrics['speaker'] = speaker\n",
    "        speech_metrics.append(metrics)\n",
    "metrics_df = pd.DataFrame(speech_metrics)\n",
    "\n",
    "#df.to_csv('data/speech_metrics.csv')"
   ]
  },
  {
   "cell_type": "code",
   "execution_count": 159,
   "metadata": {
    "collapsed": true
   },
   "outputs": [],
   "source": [
    "import numpy as np\n",
    "from sklearn.cluster import KMeans\n",
    "import matplotlib\n",
    "from matplotlib import pyplot as plt\n",
    "import math\n",
    "%matplotlib inline\n",
    "matplotlib.style.use('ggplot')\n",
    "\n",
    "devices_cols = ['alliteration_count', 'conclusion_count', 'conditional_count', 'epitrophe_count', 'example_count',\n",
    "           'opposition_count', 'result_count', 'rhetoric_count', 'sequence_count', 'similarity_count']\n",
    "\n",
    "counts_cols = ['sentence_length', 'token_length']\n",
    "\n",
    "pronoun_cols = pronouns\n",
    "                \n",
    "other_dist = ['diversity']\n",
    "\n",
    "def cluster_speeches(df, x_cols, y_cols, k, vizcoldict):\n",
    "    X = df[x_cols].fillna(0).as_matrix()\n",
    "    est = KMeans(n_clusters=k)\n",
    "    est.fit(X)\n",
    "    \n",
    "    members = tuple(zip(df[y_cols].as_matrix(),est.labels_))\n",
    "    centers = pd.DataFrame(est.cluster_centers_, columns=x_cols)\n",
    "    \n",
    "    cluster_results = []\n",
    "    results = {}\n",
    "    for info,cluster in members:\n",
    "        info_dict = dict(zip(y_cols,info))\n",
    "        info_dict['cluster'] = cluster\n",
    "        cluster_results.append(info_dict)\n",
    "        results[cluster] = results.get(cluster, []) + [tuple(info)]\n",
    "        \n",
    "    cluster_results = pd.DataFrame(cluster_results)\n",
    "    results = pd.Series(results).to_frame(name='members')\n",
    "    results = pd.merge(results,centers, how='inner', left_index=True, right_index=True)\n",
    "\n",
    "    fig, axes = plt.subplots(figsize=(15,15),nrows=math.ceil(len(vizcoldict)/2), ncols=2)\n",
    "    for i,item in enumerate(vizcoldict.items()):\n",
    "        name,col_set = item\n",
    "        plot = results[col_set].transpose().plot.bar(ax=axes[i//2,i%2], title='Clusters Across ' + name)\n",
    "    plt.tight_layout()\n",
    "    plt.show()\n",
    "    \n",
    "    #plot = results[x_cols].transpose().plot.bar()\n",
    "    return cluster_results, results, plot"
   ]
  },
  {
   "cell_type": "code",
   "execution_count": 160,
   "metadata": {
    "collapsed": false
   },
   "outputs": [
    {
     "data": {
      "image/png": "[encoded data removed]",
      "text/plain": [
       "<matplotlib.figure.Figure at 0x11bc2a7b8>"
      ]
     },
     "metadata": {},
     "output_type": "display_data"
    }
   ],
   "source": [
    "groups = {'Rhetorical Devices':devices_cols, 'Token Counts':counts_cols, \n",
    "          'Pronoun Dist':pronoun_cols, 'Diversity': other_dist}\n",
    "war_clusters = cluster_speeches(metrics_df, devices_cols+counts_cols+pronoun_cols + other_dist, ['speaker','name'], 3, groups)"
   ]
  },
  {
   "cell_type": "code",
   "execution_count": 161,
   "metadata": {
    "collapsed": false
   },
   "outputs": [
    {
     "data": {
      "text/html": [
       "<div>\n",
       "<table border=\"1\" class=\"dataframe\">\n",
       "  <thead>\n",
       "    <tr style=\"text-align: right;\">\n",
       "      <th></th>\n",
       "      <th>cluster</th>\n",
       "      <th>name</th>\n",
       "      <th>speaker</th>\n",
       "    </tr>\n",
       "  </thead>\n",
       "  <tbody>\n",
       "    <tr>\n",
       "      <th>0</th>\n",
       "      <td>1</td>\n",
       "      <td>Beaches</td>\n",
       "      <td>Churchill</td>\n",
       "    </tr>\n",
       "    <tr>\n",
       "      <th>1</th>\n",
       "      <td>2</td>\n",
       "      <td>FinestHour</td>\n",
       "      <td>Churchill</td>\n",
       "    </tr>\n",
       "    <tr>\n",
       "      <th>2</th>\n",
       "      <td>0</td>\n",
       "      <td>PearlHarbor</td>\n",
       "      <td>FDR</td>\n",
       "    </tr>\n",
       "    <tr>\n",
       "      <th>3</th>\n",
       "      <td>0</td>\n",
       "      <td>LibertyDeath</td>\n",
       "      <td>Henry</td>\n",
       "    </tr>\n",
       "    <tr>\n",
       "      <th>4</th>\n",
       "      <td>2</td>\n",
       "      <td>Gettysburg</td>\n",
       "      <td>Lincoln</td>\n",
       "    </tr>\n",
       "    <tr>\n",
       "      <th>5</th>\n",
       "      <td>2</td>\n",
       "      <td>Sepulcher</td>\n",
       "      <td>Pericles</td>\n",
       "    </tr>\n",
       "    <tr>\n",
       "      <th>6</th>\n",
       "      <td>0</td>\n",
       "      <td>Infidels</td>\n",
       "      <td>Urban</td>\n",
       "    </tr>\n",
       "    <tr>\n",
       "      <th>7</th>\n",
       "      <td>2</td>\n",
       "      <td>BeYe</td>\n",
       "      <td>WillConq</td>\n",
       "    </tr>\n",
       "    <tr>\n",
       "      <th>8</th>\n",
       "      <td>2</td>\n",
       "      <td>SafeDem</td>\n",
       "      <td>Wilson</td>\n",
       "    </tr>\n",
       "  </tbody>\n",
       "</table>\n",
       "</div>"
      ],
      "text/plain": [
       "   cluster          name    speaker\n",
       "0        1       Beaches  Churchill\n",
       "1        2    FinestHour  Churchill\n",
       "2        0   PearlHarbor        FDR\n",
       "3        0  LibertyDeath      Henry\n",
       "4        2    Gettysburg    Lincoln\n",
       "5        2     Sepulcher   Pericles\n",
       "6        0      Infidels      Urban\n",
       "7        2          BeYe   WillConq\n",
       "8        2       SafeDem     Wilson"
      ]
     },
     "execution_count": 161,
     "metadata": {},
     "output_type": "execute_result"
    }
   ],
   "source": [
    "war_clusters[0]"
   ]
  },
  {
   "cell_type": "code",
   "execution_count": 162,
   "metadata": {
    "collapsed": false
   },
   "outputs": [
    {
     "data": {
      "text/html": [
       "<div>\n",
       "<table border=\"1\" class=\"dataframe\">\n",
       "  <thead>\n",
       "    <tr style=\"text-align: right;\">\n",
       "      <th></th>\n",
       "      <th>sentence_length</th>\n",
       "      <th>token_length</th>\n",
       "    </tr>\n",
       "  </thead>\n",
       "  <tbody>\n",
       "    <tr>\n",
       "      <th>0</th>\n",
       "      <td>21.391795</td>\n",
       "      <td>6.096160</td>\n",
       "    </tr>\n",
       "    <tr>\n",
       "      <th>1</th>\n",
       "      <td>50.000000</td>\n",
       "      <td>5.685315</td>\n",
       "    </tr>\n",
       "    <tr>\n",
       "      <th>2</th>\n",
       "      <td>31.766539</td>\n",
       "      <td>6.112538</td>\n",
       "    </tr>\n",
       "  </tbody>\n",
       "</table>\n",
       "</div>"
      ],
      "text/plain": [
       "   sentence_length  token_length\n",
       "0        21.391795      6.096160\n",
       "1        50.000000      5.685315\n",
       "2        31.766539      6.112538"
      ]
     },
     "execution_count": 162,
     "metadata": {},
     "output_type": "execute_result"
    }
   ],
   "source": [
    "war_clusters[1][counts_cols]"
   ]
  },
  {
   "cell_type": "code",
   "execution_count": null,
   "metadata": {
    "collapsed": true
   },
   "outputs": [],
   "source": []
  },
  {
   "cell_type": "code",
   "execution_count": 163,
   "metadata": {
    "collapsed": false
   },
   "outputs": [
    {
     "data": {
      "text/html": [
       "<div>\n",
       "<table border=\"1\" class=\"dataframe\">\n",
       "  <thead>\n",
       "    <tr style=\"text-align: right;\">\n",
       "      <th></th>\n",
       "      <th>speaker</th>\n",
       "      <th>sentence_length</th>\n",
       "      <th>token_length</th>\n",
       "      <th>num_tokens</th>\n",
       "      <th>alliteration_count</th>\n",
       "    </tr>\n",
       "  </thead>\n",
       "  <tbody>\n",
       "    <tr>\n",
       "      <th>0</th>\n",
       "      <td>Churchill</td>\n",
       "      <td>50.000000</td>\n",
       "      <td>5.685315</td>\n",
       "      <td>350.0</td>\n",
       "      <td>0.069930</td>\n",
       "    </tr>\n",
       "    <tr>\n",
       "      <th>1</th>\n",
       "      <td>Churchill</td>\n",
       "      <td>30.379747</td>\n",
       "      <td>6.330558</td>\n",
       "      <td>4800.0</td>\n",
       "      <td>0.080313</td>\n",
       "    </tr>\n",
       "    <tr>\n",
       "      <th>2</th>\n",
       "      <td>FDR</td>\n",
       "      <td>22.230769</td>\n",
       "      <td>6.519164</td>\n",
       "      <td>578.0</td>\n",
       "      <td>0.038328</td>\n",
       "    </tr>\n",
       "    <tr>\n",
       "      <th>3</th>\n",
       "      <td>Henry</td>\n",
       "      <td>18.560000</td>\n",
       "      <td>5.938547</td>\n",
       "      <td>1392.0</td>\n",
       "      <td>0.040968</td>\n",
       "    </tr>\n",
       "    <tr>\n",
       "      <th>4</th>\n",
       "      <td>Lincoln</td>\n",
       "      <td>31.000000</td>\n",
       "      <td>5.565891</td>\n",
       "      <td>310.0</td>\n",
       "      <td>0.100775</td>\n",
       "    </tr>\n",
       "    <tr>\n",
       "      <th>5</th>\n",
       "      <td>Pericles</td>\n",
       "      <td>31.494737</td>\n",
       "      <td>5.976903</td>\n",
       "      <td>2992.0</td>\n",
       "      <td>0.080411</td>\n",
       "    </tr>\n",
       "    <tr>\n",
       "      <th>6</th>\n",
       "      <td>Urban</td>\n",
       "      <td>23.384615</td>\n",
       "      <td>5.830769</td>\n",
       "      <td>1520.0</td>\n",
       "      <td>0.056410</td>\n",
       "    </tr>\n",
       "    <tr>\n",
       "      <th>7</th>\n",
       "      <td>WillConq</td>\n",
       "      <td>27.608696</td>\n",
       "      <td>6.016667</td>\n",
       "      <td>635.0</td>\n",
       "      <td>0.091667</td>\n",
       "    </tr>\n",
       "    <tr>\n",
       "      <th>8</th>\n",
       "      <td>Wilson</td>\n",
       "      <td>38.349515</td>\n",
       "      <td>6.672673</td>\n",
       "      <td>3950.0</td>\n",
       "      <td>0.088889</td>\n",
       "    </tr>\n",
       "  </tbody>\n",
       "</table>\n",
       "</div>"
      ],
      "text/plain": [
       "     speaker  sentence_length  token_length  num_tokens  alliteration_count\n",
       "0  Churchill        50.000000      5.685315       350.0            0.069930\n",
       "1  Churchill        30.379747      6.330558      4800.0            0.080313\n",
       "2        FDR        22.230769      6.519164       578.0            0.038328\n",
       "3      Henry        18.560000      5.938547      1392.0            0.040968\n",
       "4    Lincoln        31.000000      5.565891       310.0            0.100775\n",
       "5   Pericles        31.494737      5.976903      2992.0            0.080411\n",
       "6      Urban        23.384615      5.830769      1520.0            0.056410\n",
       "7   WillConq        27.608696      6.016667       635.0            0.091667\n",
       "8     Wilson        38.349515      6.672673      3950.0            0.088889"
      ]
     },
     "execution_count": 163,
     "metadata": {},
     "output_type": "execute_result"
    }
   ],
   "source": [
    "metrics_df[['speaker','sentence_length', 'token_length', 'num_tokens','alliteration_count']]"
   ]
  },
  {
   "cell_type": "code",
   "execution_count": 165,
   "metadata": {
    "collapsed": false
   },
   "outputs": [
    {
     "data": {
      "image/png": "[encoded data removed]",
      "text/plain": [
       "<matplotlib.figure.Figure at 0x11bd66c18>"
      ]
     },
     "metadata": {},
     "output_type": "display_data"
    }
   ],
   "source": [
    "war_clusters_2 = cluster_speeches(metrics_df, devices_cols+counts_cols+pronoun_cols + other_dist, ['speaker','name'], 2, groups)"
   ]
  },
  {
   "cell_type": "code",
   "execution_count": 166,
   "metadata": {
    "collapsed": false
   },
   "outputs": [
    {
     "data": {
      "text/html": [
       "<div>\n",
       "<table border=\"1\" class=\"dataframe\">\n",
       "  <thead>\n",
       "    <tr style=\"text-align: right;\">\n",
       "      <th></th>\n",
       "      <th>cluster</th>\n",
       "      <th>name</th>\n",
       "      <th>speaker</th>\n",
       "    </tr>\n",
       "  </thead>\n",
       "  <tbody>\n",
       "    <tr>\n",
       "      <th>0</th>\n",
       "      <td>1</td>\n",
       "      <td>Beaches</td>\n",
       "      <td>Churchill</td>\n",
       "    </tr>\n",
       "    <tr>\n",
       "      <th>1</th>\n",
       "      <td>0</td>\n",
       "      <td>FinestHour</td>\n",
       "      <td>Churchill</td>\n",
       "    </tr>\n",
       "    <tr>\n",
       "      <th>2</th>\n",
       "      <td>0</td>\n",
       "      <td>PearlHarbor</td>\n",
       "      <td>FDR</td>\n",
       "    </tr>\n",
       "    <tr>\n",
       "      <th>3</th>\n",
       "      <td>0</td>\n",
       "      <td>LibertyDeath</td>\n",
       "      <td>Henry</td>\n",
       "    </tr>\n",
       "    <tr>\n",
       "      <th>4</th>\n",
       "      <td>0</td>\n",
       "      <td>Gettysburg</td>\n",
       "      <td>Lincoln</td>\n",
       "    </tr>\n",
       "    <tr>\n",
       "      <th>5</th>\n",
       "      <td>0</td>\n",
       "      <td>Sepulcher</td>\n",
       "      <td>Pericles</td>\n",
       "    </tr>\n",
       "    <tr>\n",
       "      <th>6</th>\n",
       "      <td>0</td>\n",
       "      <td>Infidels</td>\n",
       "      <td>Urban</td>\n",
       "    </tr>\n",
       "    <tr>\n",
       "      <th>7</th>\n",
       "      <td>0</td>\n",
       "      <td>BeYe</td>\n",
       "      <td>WillConq</td>\n",
       "    </tr>\n",
       "    <tr>\n",
       "      <th>8</th>\n",
       "      <td>0</td>\n",
       "      <td>SafeDem</td>\n",
       "      <td>Wilson</td>\n",
       "    </tr>\n",
       "  </tbody>\n",
       "</table>\n",
       "</div>"
      ],
      "text/plain": [
       "   cluster          name    speaker\n",
       "0        1       Beaches  Churchill\n",
       "1        0    FinestHour  Churchill\n",
       "2        0   PearlHarbor        FDR\n",
       "3        0  LibertyDeath      Henry\n",
       "4        0    Gettysburg    Lincoln\n",
       "5        0     Sepulcher   Pericles\n",
       "6        0      Infidels      Urban\n",
       "7        0          BeYe   WillConq\n",
       "8        0       SafeDem     Wilson"
      ]
     },
     "execution_count": 166,
     "metadata": {},
     "output_type": "execute_result"
    }
   ],
   "source": [
    "war_clusters_2[0]"
   ]
  },
  {
   "cell_type": "code",
   "execution_count": null,
   "metadata": {
    "collapsed": true
   },
   "outputs": [],
   "source": []
  }
 ],
 "metadata": {
  "kernelspec": {
   "display_name": "Python 3",
   "language": "python",
   "name": "python3"
  },
  "language_info": {
   "codemirror_mode": {
    "name": "ipython",
    "version": 3
   },
   "file_extension": ".py",
   "mimetype": "text/x-python",
   "name": "python",
   "nbconvert_exporter": "python",
   "pygments_lexer": "ipython3",
   "version": "3.5.1"
  }
 },
 "nbformat": 4,
 "nbformat_minor": 0
}
