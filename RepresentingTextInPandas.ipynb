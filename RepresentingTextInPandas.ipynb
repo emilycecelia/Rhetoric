{
 "cells": [
  {
   "cell_type": "markdown",
   "metadata": {},
   "source": [
    "# Representing Text In Pandas\n",
    "<img src=\"images/churchill2.jpg\" height=\"280\" width=\"280\" align=\"left\">\n",
    "<center>\n",
    "<h3>In This Worksheet</h3> We will use what we learned about parsing text in nltk to parse a speech into a pandas DataFrame so that we can maintain knowledge about words as we use different nltk tools.\n",
    "<h3>The Data</h3> <strong>Speech, Blood Toil Tears and Sweat</strong><br><i>Sir Winston Churchill, May 13th 1940</i><br>\n",
    "This is Churchill's first speech as the prime minister of Great Britain.<br>\n",
    "https://www.youtube.com/watch?v=8TlkN-dcDCk\n",
    "</center>"
   ]
  },
  {
   "cell_type": "markdown",
   "metadata": {},
   "source": [
    "## Brief Intro to DataFrames\n",
    "In case you are not familiar with pandas ("
   ]
  }
 ],
 "metadata": {
  "kernelspec": {
   "display_name": "Python 3",
   "language": "python",
   "name": "python3"
  },
  "language_info": {
   "codemirror_mode": {
    "name": "ipython",
    "version": 3
   },
   "file_extension": ".py",
   "mimetype": "text/x-python",
   "name": "python",
   "nbconvert_exporter": "python",
   "pygments_lexer": "ipython3",
   "version": "3.5.1"
  }
 },
 "nbformat": 4,
 "nbformat_minor": 0
}
