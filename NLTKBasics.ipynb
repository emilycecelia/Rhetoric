{
 "cells": [
  {
   "cell_type": "markdown",
   "metadata": {},
   "source": [
    "# Introducing NLTK Basics\n",
    "<img src=\"images/churchill.jpg\" height=\"280\" width=\"280\" align=\"left\">\n",
    "<center>\n",
    "<h3>In This Worksheet</h3> We will introduce the nltk Python module and some of its most basic but very useful operations.  <br>We will also introduce aspects of the pandas module to help us keep track of our data and quickly manipulate it.\n",
    "<h3>The Data</h3> <strong>Speech, Blood Toil Tears and Sweat</strong><br><i>Sir Winston Churchill, May 13th 1940</i><br>\n",
    "This is Churchill's first speech as the prime minister of Great Britain.<br>\n",
    "https://www.youtube.com/watch?v=8TlkN-dcDCk\n",
    "</center>"
   ]
  },
  {
   "cell_type": "markdown",
   "metadata": {},
   "source": [
    "## Getting the Data\n",
    "First step is always to acquire the data.  This is looking very simple here, but in reality, this can be one of the hardest parts of the process, depending on how many text you want to parse and what kind of text.  If a text has one speaker, then you can easily copy and paste.  But is that text stored in a simple file, or is the speech displayed on a web page?  \n",
    "\n",
    "<b>Recommendation:</b> If you have to parse a web page (html) in order to get your data, try using BeautifulSoup and regular expressions"
   ]
  },
  {
   "cell_type": "code",
   "execution_count": 51,
   "metadata": {
    "collapsed": false
   },
   "outputs": [],
   "source": [
    "fp = 'speeches/Churchill-Blood.txt'\n",
    "speech = open(fp).read()"
   ]
  },
  {
   "cell_type": "markdown",
   "metadata": {},
   "source": [
    "Most of the time, we will just want to convert a text to lowercase for ease of use purposes.  In Python, 'Hello' != 'hello', since 'H' != 'h', and that could mess up some of our counts ahead."
   ]
  },
  {
   "cell_type": "code",
   "execution_count": 53,
   "metadata": {
    "collapsed": false
   },
   "outputs": [
    {
     "name": "stdout",
     "output_type": "stream",
     "text": [
      "This speech has 3455 characters.\n"
     ]
    },
    {
     "data": {
      "text/plain": [
       "'on friday evening last i received from his majesty the mission to form a new administration. it was the evident will of\\' parliament and the nation that this should be conceived on the broadest possible basis and that it should include all parties.\\ni have already completed the most important part of this task.\\na war cabinet has been formed of five members, representing, with the labour, opposition, and liberals, the unity of the nation. it was necessary that this should be done in one single day on account of the extreme urgency and rigor of events. other key positions were filled yesterday. i am submitting a further list to the king tonight. i hope to complete the appointment of principal ministers during tomorrow.\\nthe appointment of other ministers usually takes a little longer.\\n\\ni trust when parliament meets again this part of my task will be completed and that the administration will be complete in all respects. i considered it in the public interest to suggest to the speaker that the house should be summoned today. at the end of today\\'s proceedings, the adjournment of the house will be proposed until may 21 with provision for earlier meeting if need be. business for that will be notified to mps at the earliest opportunity.\\ni now invite the house by a resolution to record its approval of the steps taken and declare its confidence in the new government.\\nthe resolution:\\n\"that this house welcomes the formation of a government representing the united and inflexible resolve of the nation to prosecute the war with germany to a victorious conclusion.\"\\nto form an administration of this scale and complexity is a serious undertaking in itself. but we are in the preliminary phase of one of the greatest battles in history. we are in action at many other points-in norway and in holland-and we have to be prepared in the mediterranean. the air battle is continuing, and many preparations have to be made here at home.\\nin this crisis i think i may be pardoned if 1 do not address the house at any length today, and i hope that any of my friends and colleagues or former colleagues who are affected by the political reconstruction will make all allowances for any lack of ceremony with which it has been necessary to act.\\ni say to the house as i said to ministers who have joined this government, i have nothing to offer but blood, toil, tears, and sweat. we have before us an ordeal of the most grievous kind. we have before us many, many months of struggle and suffering.\\nyou ask, what is our policy? i say it is to wage war by land, sea, and air. war with all our might and with all the strength god has given us, and to wage war against a monstrous tyranny never surpassed in the dark and lamentable catalogue of human crime. that is our policy.\\nyou ask, what is our aim? i can answer in one word. it is victory. victory at all costs - victory in spite of all terrors - victory, however long and hard the road may be, for without victory there is no survival.\\nlet that be realized. no survival for the british empire, no survival for all that the british empire has stood for, no survival for the urge, the impulse of the ages, that mankind shall move forward toward his goal.\\ni take up my task in buoyancy and hope. i feel sure that our cause will not be suffered to fail among men. i feel entitled at this juncture, at this time, to claim the aid of all and to say, \"come then, let us go forward together with our united strength.\"'"
      ]
     },
     "execution_count": 53,
     "metadata": {},
     "output_type": "execute_result"
    }
   ],
   "source": [
    "speech=speech.lower()\n",
    "print('This speech has %d characters.' % (len(speech)))\n",
    "speech"
   ]
  },
  {
   "cell_type": "markdown",
   "metadata": {},
   "source": [
    "Alright!  Text!  Now let's get right to it.  Let's use some nltk!<br>\n",
    "<strong>Presentation- introduce parsing concepts</strong>"
   ]
  },
  {
   "cell_type": "markdown",
   "metadata": {},
   "source": [
    "## Tokenizing the Data\n",
    "\n",
    "One of the first things we likely want to do is break our speech up into sentences.  That way, we can take this thought by thought as we process the data.  So let's import... <b>sent_tokenize</b>"
   ]
  },
  {
   "cell_type": "code",
   "execution_count": 3,
   "metadata": {
    "collapsed": true
   },
   "outputs": [],
   "source": [
    "from nltk import sent_tokenize"
   ]
  },
  {
   "cell_type": "markdown",
   "metadata": {},
   "source": [
    "<b>sent_tokenize</b> allows us to take a text and break it up.  The function takes two arguemnts: text and language, though it assumes the language is english unless told otherwise.\n",
    "\n",
    "Nltk's help function will tell you that it uses the .PunktSentenceTokenizer to parse the data for a given language.  If one uses the help function on nltk.PunktSentenceTokenizer, you find that it breaks up sentences by punctuation: PUNCTUATION = (';', ':', ',', '.', '!', '?')"
   ]
  },
  {
   "cell_type": "code",
   "execution_count": 54,
   "metadata": {
    "collapsed": false
   },
   "outputs": [
    {
     "name": "stdout",
     "output_type": "stream",
     "text": [
      "Help on function sent_tokenize in module nltk.tokenize:\n",
      "\n",
      "sent_tokenize(text, language='english')\n",
      "    Return a sentence-tokenized copy of *text*,\n",
      "    using NLTK's recommended sentence tokenizer\n",
      "    (currently :class:`.PunktSentenceTokenizer`\n",
      "    for the specified language).\n",
      "    \n",
      "    :param text: text to split into sentences\n",
      "    :param language: the model name in the Punkt corpus\n",
      "\n"
     ]
    }
   ],
   "source": [
    "help(sent_tokenize)"
   ]
  },
  {
   "cell_type": "markdown",
   "metadata": {},
   "source": [
    "So, let's tokenize this data by sentence!  Super easy, see below!  Notice that though the data is split up based on punctuation, the punctuation is retained in each sentence."
   ]
  },
  {
   "cell_type": "code",
   "execution_count": 61,
   "metadata": {
    "collapsed": false
   },
   "outputs": [
    {
     "name": "stdout",
     "output_type": "stream",
     "text": [
      "on friday evening last i received from his majesty the mission to form a new administration.\n",
      "it was the evident will of' parliament and the nation that this should be conceived on the broadest possible basis and that it should include all parties.\n",
      "i have already completed the most important part of this task.\n",
      "a war cabinet has been formed of five members, representing, with the labour, opposition, and liberals, the unity of the nation.\n",
      "it was necessary that this should be done in one single day on account of the extreme urgency and rigor of events.\n",
      "other key positions were filled yesterday.\n",
      "i am submitting a further list to the king tonight.\n",
      "i hope to complete the appointment of principal ministers during tomorrow.\n",
      "the appointment of other ministers usually takes a little longer.\n",
      "i trust when parliament meets again this part of my task will be completed and that the administration will be complete in all respects.\n",
      "i considered it in the public interest to suggest to the speaker that the house should be summoned today.\n",
      "at the end of today's proceedings, the adjournment of the house will be proposed until may 21 with provision for earlier meeting if need be.\n",
      "business for that will be notified to mps at the earliest opportunity.\n",
      "i now invite the house by a resolution to record its approval of the steps taken and declare its confidence in the new government.\n",
      "the resolution:\n",
      "\"that this house welcomes the formation of a government representing the united and inflexible resolve of the nation to prosecute the war with germany to a victorious conclusion.\"\n",
      "to form an administration of this scale and complexity is a serious undertaking in itself.\n",
      "but we are in the preliminary phase of one of the greatest battles in history.\n",
      "we are in action at many other points-in norway and in holland-and we have to be prepared in the mediterranean.\n",
      "the air battle is continuing, and many preparations have to be made here at home.\n",
      "in this crisis i think i may be pardoned if 1 do not address the house at any length today, and i hope that any of my friends and colleagues or former colleagues who are affected by the political reconstruction will make all allowances for any lack of ceremony with which it has been necessary to act.\n",
      "i say to the house as i said to ministers who have joined this government, i have nothing to offer but blood, toil, tears, and sweat.\n",
      "we have before us an ordeal of the most grievous kind.\n",
      "we have before us many, many months of struggle and suffering.\n",
      "you ask, what is our policy?\n",
      "i say it is to wage war by land, sea, and air.\n",
      "war with all our might and with all the strength god has given us, and to wage war against a monstrous tyranny never surpassed in the dark and lamentable catalogue of human crime.\n",
      "that is our policy.\n",
      "you ask, what is our aim?\n",
      "i can answer in one word.\n",
      "it is victory.\n",
      "victory at all costs - victory in spite of all terrors - victory, however long and hard the road may be, for without victory there is no survival.\n",
      "let that be realized.\n",
      "no survival for the british empire, no survival for all that the british empire has stood for, no survival for the urge, the impulse of the ages, that mankind shall move forward toward his goal.\n",
      "i take up my task in buoyancy and hope.\n",
      "i feel sure that our cause will not be suffered to fail among men.\n",
      "i feel entitled at this juncture, at this time, to claim the aid of all and to say, \"come then, let us go forward together with our united strength.\"\n"
     ]
    }
   ],
   "source": [
    "sentences = sent_tokenize(speech)\n",
    "sentence_lengths = []\n",
    "for sentence in sentences:\n",
    "    sentence_lengths.append(len(sentence))\n",
    "    print(sentence)"
   ]
  },
  {
   "cell_type": "code",
   "execution_count": 64,
   "metadata": {
    "collapsed": false
   },
   "outputs": [
    {
     "name": "stdout",
     "output_type": "stream",
     "text": [
      "The average number of characters in a sentence is  94.97222222222223\n"
     ]
    }
   ],
   "source": [
    "print('The average number of characters in a sentence is ', sum(sentence_lengths)/len(sentence_lengths))"
   ]
  },
  {
   "cell_type": "markdown",
   "metadata": {},
   "source": [
    "Alright, sentences are important, no doubt.  But the <i>real</i> power is in the words!  So how do we pull words out of a text?  With <b>word_tokenize</b>! (Duh)"
   ]
  },
  {
   "cell_type": "code",
   "execution_count": 66,
   "metadata": {
    "collapsed": false
   },
   "outputs": [
    {
     "name": "stdout",
     "output_type": "stream",
     "text": [
      "['on', 'friday', 'evening', 'last', 'i', 'received', 'from', 'his', 'majesty', 'the', 'mission', 'to', 'form', 'a', 'new', 'administration', '.']\n",
      "\n",
      "['it', 'was', 'the', 'evident', 'will', 'of', \"'\", 'parliament', 'and', 'the', 'nation', 'that', 'this', 'should', 'be', 'conceived', 'on', 'the', 'broadest', 'possible', 'basis', 'and', 'that', 'it', 'should', 'include', 'all', 'parties', '.']\n",
      "\n",
      "['i', 'have', 'already', 'completed', 'the', 'most', 'important', 'part', 'of', 'this', 'task', '.']\n",
      "\n",
      "['a', 'war', 'cabinet', 'has', 'been', 'formed', 'of', 'five', 'members', ',', 'representing', ',', 'with', 'the', 'labour', ',', 'opposition', ',', 'and', 'liberals', ',', 'the', 'unity', 'of', 'the', 'nation', '.']\n",
      "\n",
      "['it', 'was', 'necessary', 'that', 'this', 'should', 'be', 'done', 'in', 'one', 'single', 'day', 'on', 'account', 'of', 'the', 'extreme', 'urgency', 'and', 'rigor', 'of', 'events', '.']\n",
      "\n",
      "['other', 'key', 'positions', 'were', 'filled', 'yesterday', '.']\n",
      "\n",
      "['i', 'am', 'submitting', 'a', 'further', 'list', 'to', 'the', 'king', 'tonight', '.']\n",
      "\n",
      "['i', 'hope', 'to', 'complete', 'the', 'appointment', 'of', 'principal', 'ministers', 'during', 'tomorrow', '.']\n",
      "\n",
      "['the', 'appointment', 'of', 'other', 'ministers', 'usually', 'takes', 'a', 'little', 'longer', '.']\n",
      "\n",
      "['i', 'trust', 'when', 'parliament', 'meets', 'again', 'this', 'part', 'of', 'my', 'task', 'will', 'be', 'completed', 'and', 'that', 'the', 'administration', 'will', 'be', 'complete', 'in', 'all', 'respects', '.']\n",
      "\n",
      "['i', 'considered', 'it', 'in', 'the', 'public', 'interest', 'to', 'suggest', 'to', 'the', 'speaker', 'that', 'the', 'house', 'should', 'be', 'summoned', 'today', '.']\n",
      "\n",
      "['at', 'the', 'end', 'of', 'today', \"'s\", 'proceedings', ',', 'the', 'adjournment', 'of', 'the', 'house', 'will', 'be', 'proposed', 'until', 'may', '21', 'with', 'provision', 'for', 'earlier', 'meeting', 'if', 'need', 'be', '.']\n",
      "\n",
      "['business', 'for', 'that', 'will', 'be', 'notified', 'to', 'mps', 'at', 'the', 'earliest', 'opportunity', '.']\n",
      "\n",
      "['i', 'now', 'invite', 'the', 'house', 'by', 'a', 'resolution', 'to', 'record', 'its', 'approval', 'of', 'the', 'steps', 'taken', 'and', 'declare', 'its', 'confidence', 'in', 'the', 'new', 'government', '.']\n",
      "\n",
      "['the', 'resolution', ':', \"''\", 'that', 'this', 'house', 'welcomes', 'the', 'formation', 'of', 'a', 'government', 'representing', 'the', 'united', 'and', 'inflexible', 'resolve', 'of', 'the', 'nation', 'to', 'prosecute', 'the', 'war', 'with', 'germany', 'to', 'a', 'victorious', 'conclusion', '.', \"''\"]\n",
      "\n",
      "['to', 'form', 'an', 'administration', 'of', 'this', 'scale', 'and', 'complexity', 'is', 'a', 'serious', 'undertaking', 'in', 'itself', '.']\n",
      "\n",
      "['but', 'we', 'are', 'in', 'the', 'preliminary', 'phase', 'of', 'one', 'of', 'the', 'greatest', 'battles', 'in', 'history', '.']\n",
      "\n",
      "['we', 'are', 'in', 'action', 'at', 'many', 'other', 'points-in', 'norway', 'and', 'in', 'holland-and', 'we', 'have', 'to', 'be', 'prepared', 'in', 'the', 'mediterranean', '.']\n",
      "\n",
      "['the', 'air', 'battle', 'is', 'continuing', ',', 'and', 'many', 'preparations', 'have', 'to', 'be', 'made', 'here', 'at', 'home', '.']\n",
      "\n",
      "['in', 'this', 'crisis', 'i', 'think', 'i', 'may', 'be', 'pardoned', 'if', '1', 'do', 'not', 'address', 'the', 'house', 'at', 'any', 'length', 'today', ',', 'and', 'i', 'hope', 'that', 'any', 'of', 'my', 'friends', 'and', 'colleagues', 'or', 'former', 'colleagues', 'who', 'are', 'affected', 'by', 'the', 'political', 'reconstruction', 'will', 'make', 'all', 'allowances', 'for', 'any', 'lack', 'of', 'ceremony', 'with', 'which', 'it', 'has', 'been', 'necessary', 'to', 'act', '.']\n",
      "\n",
      "['i', 'say', 'to', 'the', 'house', 'as', 'i', 'said', 'to', 'ministers', 'who', 'have', 'joined', 'this', 'government', ',', 'i', 'have', 'nothing', 'to', 'offer', 'but', 'blood', ',', 'toil', ',', 'tears', ',', 'and', 'sweat', '.']\n",
      "\n",
      "['we', 'have', 'before', 'us', 'an', 'ordeal', 'of', 'the', 'most', 'grievous', 'kind', '.']\n",
      "\n",
      "['we', 'have', 'before', 'us', 'many', ',', 'many', 'months', 'of', 'struggle', 'and', 'suffering', '.']\n",
      "\n",
      "['you', 'ask', ',', 'what', 'is', 'our', 'policy', '?']\n",
      "\n",
      "['i', 'say', 'it', 'is', 'to', 'wage', 'war', 'by', 'land', ',', 'sea', ',', 'and', 'air', '.']\n",
      "\n",
      "['war', 'with', 'all', 'our', 'might', 'and', 'with', 'all', 'the', 'strength', 'god', 'has', 'given', 'us', ',', 'and', 'to', 'wage', 'war', 'against', 'a', 'monstrous', 'tyranny', 'never', 'surpassed', 'in', 'the', 'dark', 'and', 'lamentable', 'catalogue', 'of', 'human', 'crime', '.']\n",
      "\n",
      "['that', 'is', 'our', 'policy', '.']\n",
      "\n",
      "['you', 'ask', ',', 'what', 'is', 'our', 'aim', '?']\n",
      "\n",
      "['i', 'can', 'answer', 'in', 'one', 'word', '.']\n",
      "\n",
      "['it', 'is', 'victory', '.']\n",
      "\n",
      "['victory', 'at', 'all', 'costs', '-', 'victory', 'in', 'spite', 'of', 'all', 'terrors', '-', 'victory', ',', 'however', 'long', 'and', 'hard', 'the', 'road', 'may', 'be', ',', 'for', 'without', 'victory', 'there', 'is', 'no', 'survival', '.']\n",
      "\n",
      "['let', 'that', 'be', 'realized', '.']\n",
      "\n",
      "['no', 'survival', 'for', 'the', 'british', 'empire', ',', 'no', 'survival', 'for', 'all', 'that', 'the', 'british', 'empire', 'has', 'stood', 'for', ',', 'no', 'survival', 'for', 'the', 'urge', ',', 'the', 'impulse', 'of', 'the', 'ages', ',', 'that', 'mankind', 'shall', 'move', 'forward', 'toward', 'his', 'goal', '.']\n",
      "\n",
      "['i', 'take', 'up', 'my', 'task', 'in', 'buoyancy', 'and', 'hope', '.']\n",
      "\n",
      "['i', 'feel', 'sure', 'that', 'our', 'cause', 'will', 'not', 'be', 'suffered', 'to', 'fail', 'among', 'men', '.']\n",
      "\n",
      "['i', 'feel', 'entitled', 'at', 'this', 'juncture', ',', 'at', 'this', 'time', ',', 'to', 'claim', 'the', 'aid', 'of', 'all', 'and', 'to', 'say', ',', '``', 'come', 'then', ',', 'let', 'us', 'go', 'forward', 'together', 'with', 'our', 'united', 'strength', '.', \"''\"]\n",
      "\n"
     ]
    }
   ],
   "source": [
    "from nltk import word_tokenize\n",
    "\n",
    "for sentence in sentences:\n",
    "    print(word_tokenize(sentence))\n",
    "    print()"
   ]
  },
  {
   "cell_type": "markdown",
   "metadata": {},
   "source": [
    "For now, though, let's convert the entire speech into one list of tokens."
   ]
  },
  {
   "cell_type": "code",
   "execution_count": 70,
   "metadata": {
    "collapsed": false
   },
   "outputs": [
    {
     "name": "stdout",
     "output_type": "stream",
     "text": [
      "There are 698 words in this speech.\n"
     ]
    }
   ],
   "source": [
    "words = word_tokenize(speech)\n",
    "print('There are %d words in this speech.' % (len(words)))"
   ]
  },
  {
   "cell_type": "markdown",
   "metadata": {},
   "source": [
    "## Turning Data into a Text\n",
    "<b>nltk.Text</b> is an object that takes a list of tokens and makes certain functions available to it.  We will create a Text object and then step through each of these functions (not necessarily in this order):\n",
    "* .common_context()\n",
    "* .concordance()\n",
    "* .count()\n",
    "* .dispersion_plot()\n",
    "* .plot()\n",
    "* .similar()\n",
    "* .vocab()\n",
    "\n",
    "First let's just initialize our Text object.  We can hand it our tokenized words list."
   ]
  },
  {
   "cell_type": "code",
   "execution_count": 72,
   "metadata": {
    "collapsed": true
   },
   "outputs": [],
   "source": [
    "from nltk import Text\n",
    "\n",
    "text = Text(words)"
   ]
  },
  {
   "cell_type": "markdown",
   "metadata": {},
   "source": [
    "You <i>must</i> give a tokenized word list.  If you give just the string version of the speech, you will get a character split going."
   ]
  },
  {
   "cell_type": "code",
   "execution_count": 76,
   "metadata": {
    "collapsed": false
   },
   "outputs": [
    {
     "name": "stdout",
     "output_type": "stream",
     "text": [
      "<Text: h e l l o   m y...>\n"
     ]
    }
   ],
   "source": [
    "ex = Text('Hello my name is Emily.'.lower())\n",
    "print(ex)"
   ]
  },
  {
   "cell_type": "markdown",
   "metadata": {},
   "source": [
    "Now to the good stuff!\n",
    "### What are the most common words in my text?"
   ]
  },
  {
   "cell_type": "markdown",
   "metadata": {},
   "source": [
    "Getting the number of time a word appears in a text is easy.  It acts just like the count method for a Python list."
   ]
  },
  {
   "cell_type": "code",
   "execution_count": 150,
   "metadata": {
    "collapsed": false
   },
   "outputs": [
    {
     "data": {
      "text/plain": [
       "2"
      ]
     },
     "execution_count": 150,
     "metadata": {},
     "output_type": "execute_result"
    }
   ],
   "source": [
    "text.count('british')"
   ]
  },
  {
   "cell_type": "markdown",
   "metadata": {},
   "source": [
    "But what if I want to discover the counts of all of the words and find significant ones?\n",
    "\n",
    "First off, I can just plot my vocabulary with <b>Text.plot()</b>."
   ]
  },
  {
   "cell_type": "code",
   "execution_count": 161,
   "metadata": {
    "collapsed": false
   },
   "outputs": [
    {
     "data": {
      "image/png": "[encoded data removed]",
      "text/plain": [
       "<matplotlib.figure.Figure at 0x11f306780>"
      ]
     },
     "metadata": {},
     "output_type": "display_data"
    }
   ],
   "source": [
    "import matplotlib\n",
    "from matplotlib import pyplot as plt\n",
    "\n",
    "%matplotlib inline\n",
    "matplotlib.style.use('ggplot')\n",
    "\n",
    "plt.figure(figsize=(15,7))\n",
    "\n",
    "text.plot()"
   ]
  },
  {
   "cell_type": "markdown",
   "metadata": {},
   "source": [
    "This is not very readable, though.  It does tell me that I have some extremely high frequency words, and then most words only appear 1 or 2 times throughout the text. \n",
    "\n",
    "If I want to get more into the words and counts themselves, <b>Text.vocab()</b> will create a FreqDist object that holds basically a dictionary of tokens and counts (but this dictionary is special)."
   ]
  },
  {
   "cell_type": "code",
   "execution_count": 85,
   "metadata": {
    "collapsed": false
   },
   "outputs": [
    {
     "name": "stdout",
     "output_type": "stream",
     "text": [
      "<FreqDist with 293 samples and 698 outcomes>\n",
      "dict_keys(['grievous', 'i', 'terrors', 'five', 'history', 'submitting', 'respects', 'monstrous', 'ceremony', 'if', 'little', 'greatest', 'holland-and', 'shall', 'tonight', 'welcomes', 'urge', 'house', 'cause', 'my', 'interest', 'tyranny', 'kind', 'majesty', 'given', 'new', 'make', 'were', 'the', 'stood', 'move', 'public', 'address', 'events', 'former', 'of', 'against', 'spite', 'today', 'sweat', 'with', 'time', 'complete', 'adjournment', 'home', 'go', 'mission', 'many', '.', 'ages', 'air', \"'s\", 'points-in', 'necessary', 'may', 'business', 'juncture', 'labour', 'friday', 'at', 'serious', 'broadest', 'do', 'hope', 'liberals', 'our', 'not', 'nation', 'list', 'possible', ',', 'reconstruction', 'invite', 'word', 'king', 'earliest', 'phase', 'which', 'representing', 'administration', 'aim', 'or', 'form', 'continuing', 'during', 'you', 'germany', 'crisis', 'goal', 'lack', 'will', 'offer', 'most', 'any', 'never', 'on', 'victory', 'am', 'declare', 'this', 'last', 'survival', 'urgency', 'mediterranean', 'before', 'suffered', 'lamentable', 'we', 'length', 'prepared', 'action', 'ask', 'that', 'all', 'when', 'takes', \"''\", 'resolution', 'here', 'tomorrow', 'speaker', 'are', 'opportunity', 'affected', 'prosecute', 'basis', 'conclusion', 'joined', 'was', 'blood', 'months', 'toward', ':', 'have', 'include', 'crime', 'take', 'rigor', 'toil', 'positions', 'already', 'nothing', 'received', 'earlier', 'approval', 'key', 'a', 'made', 'as', '?', 'has', 'sea', 'surpassed', 'allowances', '``', 'one', 'proceedings', 'empire', 'extreme', 'undertaking', 'account', 'government', 'what', 'who', 'yesterday', 'is', 'be', \"'\", 'no', 'friends', 'norway', 'human', 'conceived', 'hard', 'say', 'realized', 'policy', 'political', 'in', 'evening', 'long', 'principal', 'catalogue', 'steps', 'let', 'end', 'us', 'struggle', 'british', 'united', 'considered', 'costs', 'men', 'parliament', 'notified', 'battles', 'without', 'then', 'trust', '21', 'feel', 'confidence', 'answer', '-', 'aid', 'up', 'god', 'cabinet', 'meeting', 'parties', 'suggest', 'it', 'there', 'among', 'think', 'from', 'come', 'record', 'can', 'claim', 'war', 'ministers', 'important', 'resolve', 'an', 'proposed', 'tears', 'fail', 'together', 'usually', 'need', 'members', 'sure', 'victorious', 'entitled', 'said', 'wage', '1', 'been', 'pardoned', 'taken', 'evident', 'suffering', 'single', 'however', 'but', 'strength', 'meets', 'buoyancy', 'now', 'until', 'act', 'mankind', 'scale', 'forward', 'preliminary', 'his', 'by', 'opposition', 'road', 'complexity', 'to', 'ordeal', 'completed', 'formed', 'further', 'task', 'day', 'unity', 'impulse', 'itself', 'filled', 'provision', 'might', 'battle', 'again', 'formation', 'and', 'colleagues', 'part', 'land', 'summoned', 'other', 'dark', 'preparations', 'its', 'should', 'for', 'appointment', 'longer', 'done', 'mps', 'inflexible'])\n",
      "Count of grievous: 1\n"
     ]
    }
   ],
   "source": [
    "print(text.vocab())\n",
    "print(text.vocab().keys())\n",
    "print('Count of grievous:',text.vocab()['grievous'])"
   ]
  },
  {
   "cell_type": "markdown",
   "metadata": {},
   "source": [
    "In order to get an idea of how diverse the text's vocabulary is, we can do a simple calculation of the ratio of number of unique words to the number of total words."
   ]
  },
  {
   "cell_type": "code",
   "execution_count": 159,
   "metadata": {
    "collapsed": false
   },
   "outputs": [
    {
     "name": "stdout",
     "output_type": "stream",
     "text": [
      "0.4197707736389685\n"
     ]
    }
   ],
   "source": [
    "diversity = len(text.vocab())/len(text.tokens)\n",
    "print(diversity)"
   ]
  },
  {
   "cell_type": "markdown",
   "metadata": {},
   "source": [
    "Moving on, we just mention that his FreqDist object is no mere dictionary...\n",
    "\n",
    "This FreqDist object will grab most common values for us!"
   ]
  },
  {
   "cell_type": "code",
   "execution_count": 88,
   "metadata": {
    "collapsed": false
   },
   "outputs": [
    {
     "data": {
      "text/plain": [
       "[('the', 45),\n",
       " ('.', 34),\n",
       " (',', 28),\n",
       " ('of', 25),\n",
       " ('to', 21),\n",
       " ('and', 21),\n",
       " ('i', 18),\n",
       " ('in', 15),\n",
       " ('be', 14),\n",
       " ('that', 13),\n",
       " ('this', 10),\n",
       " ('all', 9),\n",
       " ('a', 9),\n",
       " ('at', 8),\n",
       " ('is', 8),\n",
       " ('for', 8),\n",
       " ('with', 7),\n",
       " ('will', 7),\n",
       " ('have', 7),\n",
       " ('it', 7),\n",
       " ('house', 6),\n",
       " ('our', 6),\n",
       " ('victory', 5),\n",
       " ('we', 5),\n",
       " ('war', 5),\n",
       " ('many', 4),\n",
       " ('survival', 4),\n",
       " ('has', 4),\n",
       " ('no', 4),\n",
       " ('us', 4),\n",
       " ('should', 4),\n",
       " ('my', 3),\n",
       " ('today', 3),\n",
       " ('may', 3),\n",
       " ('hope', 3),\n",
       " ('nation', 3),\n",
       " ('administration', 3),\n",
       " ('any', 3),\n",
       " ('on', 3),\n",
       " (\"''\", 3),\n",
       " ('are', 3),\n",
       " ('one', 3),\n",
       " ('government', 3),\n",
       " ('say', 3),\n",
       " ('ministers', 3),\n",
       " ('by', 3),\n",
       " ('task', 3),\n",
       " ('other', 3),\n",
       " ('if', 2),\n",
       " ('new', 2),\n",
       " ('complete', 2),\n",
       " ('air', 2),\n",
       " ('necessary', 2),\n",
       " ('not', 2),\n",
       " ('representing', 2),\n",
       " ('form', 2),\n",
       " ('you', 2),\n",
       " ('most', 2),\n",
       " ('before', 2),\n",
       " ('ask', 2),\n",
       " ('resolution', 2),\n",
       " ('was', 2),\n",
       " ('?', 2),\n",
       " ('empire', 2),\n",
       " ('what', 2),\n",
       " ('who', 2),\n",
       " ('policy', 2),\n",
       " ('let', 2),\n",
       " ('british', 2),\n",
       " ('united', 2),\n",
       " ('parliament', 2),\n",
       " ('feel', 2),\n",
       " ('-', 2),\n",
       " ('an', 2),\n",
       " ('wage', 2),\n",
       " ('been', 2),\n",
       " ('but', 2),\n",
       " ('strength', 2),\n",
       " ('forward', 2),\n",
       " ('his', 2),\n",
       " ('completed', 2),\n",
       " ('colleagues', 2),\n",
       " ('part', 2),\n",
       " ('its', 2),\n",
       " ('appointment', 2),\n",
       " ('grievous', 1),\n",
       " ('terrors', 1),\n",
       " ('five', 1),\n",
       " ('history', 1),\n",
       " ('submitting', 1),\n",
       " ('respects', 1),\n",
       " ('monstrous', 1),\n",
       " ('ceremony', 1),\n",
       " ('little', 1),\n",
       " ('greatest', 1),\n",
       " ('holland-and', 1),\n",
       " ('shall', 1),\n",
       " ('tonight', 1),\n",
       " ('welcomes', 1),\n",
       " ('urge', 1),\n",
       " ('cause', 1),\n",
       " ('interest', 1),\n",
       " ('tyranny', 1),\n",
       " ('kind', 1),\n",
       " ('majesty', 1),\n",
       " ('given', 1),\n",
       " ('make', 1),\n",
       " ('were', 1),\n",
       " ('stood', 1),\n",
       " ('move', 1),\n",
       " ('public', 1),\n",
       " ('address', 1),\n",
       " ('events', 1),\n",
       " ('former', 1),\n",
       " ('against', 1),\n",
       " ('spite', 1),\n",
       " ('sweat', 1),\n",
       " ('time', 1),\n",
       " ('adjournment', 1),\n",
       " ('home', 1),\n",
       " ('go', 1),\n",
       " ('mission', 1),\n",
       " ('ages', 1),\n",
       " (\"'s\", 1),\n",
       " ('points-in', 1),\n",
       " ('business', 1),\n",
       " ('juncture', 1),\n",
       " ('labour', 1),\n",
       " ('friday', 1),\n",
       " ('serious', 1),\n",
       " ('broadest', 1),\n",
       " ('do', 1),\n",
       " ('liberals', 1),\n",
       " ('list', 1),\n",
       " ('possible', 1),\n",
       " ('reconstruction', 1),\n",
       " ('invite', 1),\n",
       " ('word', 1),\n",
       " ('king', 1),\n",
       " ('earliest', 1),\n",
       " ('phase', 1),\n",
       " ('which', 1),\n",
       " ('aim', 1),\n",
       " ('or', 1),\n",
       " ('continuing', 1),\n",
       " ('during', 1),\n",
       " ('germany', 1),\n",
       " ('crisis', 1),\n",
       " ('goal', 1),\n",
       " ('lack', 1),\n",
       " ('offer', 1),\n",
       " ('never', 1),\n",
       " ('am', 1),\n",
       " ('declare', 1),\n",
       " ('last', 1),\n",
       " ('urgency', 1),\n",
       " ('mediterranean', 1),\n",
       " ('suffered', 1),\n",
       " ('lamentable', 1),\n",
       " ('length', 1),\n",
       " ('prepared', 1),\n",
       " ('action', 1),\n",
       " ('when', 1),\n",
       " ('takes', 1),\n",
       " ('here', 1),\n",
       " ('tomorrow', 1),\n",
       " ('speaker', 1),\n",
       " ('opportunity', 1),\n",
       " ('affected', 1),\n",
       " ('prosecute', 1),\n",
       " ('basis', 1),\n",
       " ('conclusion', 1),\n",
       " ('joined', 1),\n",
       " ('blood', 1),\n",
       " ('months', 1),\n",
       " ('toward', 1),\n",
       " (':', 1),\n",
       " ('include', 1),\n",
       " ('crime', 1),\n",
       " ('take', 1),\n",
       " ('rigor', 1),\n",
       " ('toil', 1),\n",
       " ('positions', 1),\n",
       " ('already', 1),\n",
       " ('nothing', 1),\n",
       " ('received', 1),\n",
       " ('earlier', 1),\n",
       " ('approval', 1),\n",
       " ('key', 1),\n",
       " ('made', 1),\n",
       " ('as', 1),\n",
       " ('sea', 1),\n",
       " ('surpassed', 1),\n",
       " ('allowances', 1),\n",
       " ('``', 1),\n",
       " ('proceedings', 1),\n",
       " ('extreme', 1),\n",
       " ('undertaking', 1),\n",
       " ('account', 1),\n",
       " ('yesterday', 1),\n",
       " (\"'\", 1),\n",
       " ('friends', 1),\n",
       " ('norway', 1),\n",
       " ('human', 1),\n",
       " ('conceived', 1),\n",
       " ('hard', 1),\n",
       " ('realized', 1),\n",
       " ('political', 1),\n",
       " ('evening', 1),\n",
       " ('long', 1),\n",
       " ('principal', 1),\n",
       " ('catalogue', 1),\n",
       " ('steps', 1),\n",
       " ('end', 1),\n",
       " ('struggle', 1),\n",
       " ('considered', 1),\n",
       " ('costs', 1),\n",
       " ('men', 1),\n",
       " ('notified', 1),\n",
       " ('battles', 1),\n",
       " ('without', 1),\n",
       " ('then', 1),\n",
       " ('trust', 1),\n",
       " ('21', 1),\n",
       " ('confidence', 1),\n",
       " ('answer', 1),\n",
       " ('aid', 1),\n",
       " ('up', 1),\n",
       " ('god', 1),\n",
       " ('cabinet', 1),\n",
       " ('meeting', 1),\n",
       " ('parties', 1),\n",
       " ('suggest', 1),\n",
       " ('there', 1),\n",
       " ('among', 1),\n",
       " ('think', 1),\n",
       " ('from', 1),\n",
       " ('come', 1),\n",
       " ('record', 1),\n",
       " ('can', 1),\n",
       " ('claim', 1),\n",
       " ('important', 1),\n",
       " ('resolve', 1),\n",
       " ('proposed', 1),\n",
       " ('tears', 1),\n",
       " ('fail', 1),\n",
       " ('together', 1),\n",
       " ('usually', 1),\n",
       " ('need', 1),\n",
       " ('members', 1),\n",
       " ('sure', 1),\n",
       " ('victorious', 1),\n",
       " ('entitled', 1),\n",
       " ('said', 1),\n",
       " ('1', 1),\n",
       " ('pardoned', 1),\n",
       " ('taken', 1),\n",
       " ('evident', 1),\n",
       " ('suffering', 1),\n",
       " ('single', 1),\n",
       " ('however', 1),\n",
       " ('meets', 1),\n",
       " ('buoyancy', 1),\n",
       " ('now', 1),\n",
       " ('until', 1),\n",
       " ('act', 1),\n",
       " ('mankind', 1),\n",
       " ('scale', 1),\n",
       " ('preliminary', 1),\n",
       " ('opposition', 1),\n",
       " ('road', 1),\n",
       " ('complexity', 1),\n",
       " ('ordeal', 1),\n",
       " ('formed', 1),\n",
       " ('further', 1),\n",
       " ('day', 1),\n",
       " ('unity', 1),\n",
       " ('impulse', 1),\n",
       " ('itself', 1),\n",
       " ('filled', 1),\n",
       " ('provision', 1),\n",
       " ('might', 1),\n",
       " ('battle', 1),\n",
       " ('again', 1),\n",
       " ('formation', 1),\n",
       " ('land', 1),\n",
       " ('summoned', 1),\n",
       " ('dark', 1),\n",
       " ('preparations', 1),\n",
       " ('longer', 1),\n",
       " ('done', 1),\n",
       " ('mps', 1),\n",
       " ('inflexible', 1)]"
      ]
     },
     "execution_count": 88,
     "metadata": {},
     "output_type": "execute_result"
    }
   ],
   "source": [
    "text.vocab().most_common()"
   ]
  },
  {
   "cell_type": "code",
   "execution_count": 89,
   "metadata": {
    "collapsed": false
   },
   "outputs": [
    {
     "data": {
      "text/plain": [
       "[('the', 45),\n",
       " ('.', 34),\n",
       " (',', 28),\n",
       " ('of', 25),\n",
       " ('to', 21),\n",
       " ('and', 21),\n",
       " ('i', 18),\n",
       " ('in', 15),\n",
       " ('be', 14),\n",
       " ('that', 13)]"
      ]
     },
     "execution_count": 89,
     "metadata": {},
     "output_type": "execute_result"
    }
   ],
   "source": [
    "text.vocab().most_common(10)"
   ]
  },
  {
   "cell_type": "markdown",
   "metadata": {},
   "source": [
    "One annoying thing here is that we get 'the' as a top word... we don't want to separate all of these words that we don't really consider significant to the meaning of our text.  Nltk has a default list of stopwords that we can use for English!"
   ]
  },
  {
   "cell_type": "code",
   "execution_count": 91,
   "metadata": {
    "collapsed": false
   },
   "outputs": [
    {
     "name": "stdout",
     "output_type": "stream",
     "text": [
      "['i', 'me', 'my', 'myself', 'we', 'our', 'ours', 'ourselves', 'you', 'your', 'yours', 'yourself', 'yourselves', 'he', 'him', 'his', 'himself', 'she', 'her', 'hers', 'herself', 'it', 'its', 'itself', 'they', 'them', 'their', 'theirs', 'themselves', 'what', 'which', 'who', 'whom', 'this', 'that', 'these', 'those', 'am', 'is', 'are', 'was', 'were', 'be', 'been', 'being', 'have', 'has', 'had', 'having', 'do', 'does', 'did', 'doing', 'a', 'an', 'the', 'and', 'but', 'if', 'or', 'because', 'as', 'until', 'while', 'of', 'at', 'by', 'for', 'with', 'about', 'against', 'between', 'into', 'through', 'during', 'before', 'after', 'above', 'below', 'to', 'from', 'up', 'down', 'in', 'out', 'on', 'off', 'over', 'under', 'again', 'further', 'then', 'once', 'here', 'there', 'when', 'where', 'why', 'how', 'all', 'any', 'both', 'each', 'few', 'more', 'most', 'other', 'some', 'such', 'no', 'nor', 'not', 'only', 'own', 'same', 'so', 'than', 'too', 'very', 's', 't', 'can', 'will', 'just', 'don', 'should', 'now']\n"
     ]
    }
   ],
   "source": [
    "from nltk.corpus import stopwords\n",
    "\n",
    "stops = stopwords.words('english').copy()\n",
    "print(stops)"
   ]
  },
  {
   "cell_type": "code",
   "execution_count": 92,
   "metadata": {
    "collapsed": false
   },
   "outputs": [
    {
     "data": {
      "text/plain": [
       "[('.', 34),\n",
       " (',', 28),\n",
       " ('house', 6),\n",
       " ('victory', 5),\n",
       " ('war', 5),\n",
       " ('many', 4),\n",
       " ('survival', 4),\n",
       " ('us', 4),\n",
       " ('today', 3),\n",
       " ('hope', 3)]"
      ]
     },
     "execution_count": 92,
     "metadata": {},
     "output_type": "execute_result"
    }
   ],
   "source": [
    "no_stop_tokens = [word for word in text.tokens if word not in stops]\n",
    "text_no_stops = Text(no_stop_tokens)\n",
    "text_no_stops.vocab().most_common(10)"
   ]
  },
  {
   "cell_type": "markdown",
   "metadata": {},
   "source": [
    "Let's add punctuation to our 'stop words', aka, tokens that can be ignored."
   ]
  },
  {
   "cell_type": "code",
   "execution_count": 96,
   "metadata": {
    "collapsed": false
   },
   "outputs": [
    {
     "name": "stdout",
     "output_type": "stream",
     "text": [
      "!\"#$%&'()*+,-./:;<=>?@[\\]^_`{|}~\n"
     ]
    },
    {
     "data": {
      "text/plain": [
       "[('house', 6),\n",
       " ('victory', 5),\n",
       " ('war', 5),\n",
       " ('many', 4),\n",
       " ('survival', 4),\n",
       " ('us', 4),\n",
       " ('today', 3),\n",
       " ('hope', 3),\n",
       " ('nation', 3),\n",
       " ('administration', 3)]"
      ]
     },
     "execution_count": 96,
     "metadata": {},
     "output_type": "execute_result"
    }
   ],
   "source": [
    "import string\n",
    "print(string.punctuation)\n",
    "\n",
    "stops.extend(list(string.punctuation))\n",
    "no_stop_tokens = [word for word in text.tokens if word not in stops]\n",
    "text_no_stops = Text(no_stop_tokens)\n",
    "text_no_stops.vocab().most_common(10)"
   ]
  },
  {
   "cell_type": "markdown",
   "metadata": {},
   "source": [
    "Oh!  And we can easily plot this!\n",
    "\n",
    "<b>Fun notebook tip:</b> The plots all use matplotlib.  IPython Notebook gives you the option to display plots inline, which most prefer.  You can do so with '%matplotlib inline'.  You can also make plots prettier with matplotlib.style.use('ggplot')."
   ]
  },
  {
   "cell_type": "code",
   "execution_count": 163,
   "metadata": {
    "collapsed": false
   },
   "outputs": [
    {
     "data": {
      "image/png": "[encoded data removed]",
      "text/plain": [
       "<matplotlib.figure.Figure at 0x1209b1668>"
      ]
     },
     "metadata": {},
     "output_type": "display_data"
    }
   ],
   "source": [
    "plt.figure(figsize=(15,7))\n",
    "\n",
    "text_no_stops.vocab().plot(50, cumulative=True, title='Cumulative Distribution of Vocabulary')"
   ]
  },
  {
   "cell_type": "markdown",
   "metadata": {},
   "source": [
    "### How do I learn more about the seemingly significant words in my text?\n",
    "Back to the Text object, there are several methods that allow us to learn more about the role of a word in a text. "
   ]
  },
  {
   "cell_type": "markdown",
   "metadata": {},
   "source": [
    "### Where do my top words appear?\n",
    "The <b>Text.concordance()</b> method allows us to see a word as it appears in the text.  Let's look at some of the top words in our text to see how they appear."
   ]
  },
  {
   "cell_type": "code",
   "execution_count": 109,
   "metadata": {
    "collapsed": false
   },
   "outputs": [
    {
     "name": "stdout",
     "output_type": "stream",
     "text": [
      "Displaying 6 of 6 matches:\n",
      "t to suggest to the speaker that the house should be summoned today . at the en\n",
      "proceedings , the adjournment of the house will be proposed until may 21 with p\n",
      "liest opportunity . i now invite the house by a resolution to record its approv\n",
      "ment . the resolution : '' that this house welcomes the formation of a governme\n",
      " be pardoned if 1 do not address the house at any length today , and i hope tha\n",
      "been necessary to act . i say to the house as i said to ministers who have join\n"
     ]
    }
   ],
   "source": [
    "text.concordance('house')"
   ]
  },
  {
   "cell_type": "code",
   "execution_count": 110,
   "metadata": {
    "collapsed": false
   },
   "outputs": [
    {
     "name": "stdout",
     "output_type": "stream",
     "text": [
      "Displaying 5 of 5 matches:\n",
      " ? i can answer in one word . it is victory . victory at all costs - victory in\n",
      "nswer in one word . it is victory . victory at all costs - victory in spite of \n",
      "is victory . victory at all costs - victory in spite of all terrors - victory ,\n",
      "- victory in spite of all terrors - victory , however long and hard the road ma\n",
      " hard the road may be , for without victory there is no survival . let that be \n"
     ]
    }
   ],
   "source": [
    "text.concordance('victory')"
   ]
  },
  {
   "cell_type": "code",
   "execution_count": 111,
   "metadata": {
    "collapsed": false,
    "scrolled": true
   },
   "outputs": [
    {
     "name": "stdout",
     "output_type": "stream",
     "text": [
      "Displaying 5 of 5 matches:\n",
      " most important part of this task . a war cabinet has been formed of five membe\n",
      "esolve of the nation to prosecute the war with germany to a victorious conclusi\n",
      "t is our policy ? i say it is to wage war by land , sea , and air . war with al\n",
      "to wage war by land , sea , and air . war with all our might and with all the s\n",
      "rength god has given us , and to wage war against a monstrous tyranny never sur\n"
     ]
    }
   ],
   "source": [
    "text.concordance('war')"
   ]
  },
  {
   "cell_type": "markdown",
   "metadata": {},
   "source": [
    "We can also see when these words appear in the text to get an idea of their sequence and relationships using the <b>Text.dispersion_plot()</b> method."
   ]
  },
  {
   "cell_type": "code",
   "execution_count": 154,
   "metadata": {
    "collapsed": false
   },
   "outputs": [
    {
     "data": {
      "image/png": "[encoded data removed]",
      "text/plain": [
       "<matplotlib.figure.Figure at 0x1204acc18>"
      ]
     },
     "metadata": {},
     "output_type": "display_data"
    }
   ],
   "source": [
    "text.dispersion_plot(['house','victory','war'])"
   ]
  },
  {
   "cell_type": "markdown",
   "metadata": {},
   "source": [
    "### What words are used in similar ways?\n",
    "#### Contexts\n",
    "In nltk, the 'context' of a word signifies the words that surround it when it occurs.\n",
    "For learning purposes, let's call concordance on 'house' and then see how our context lines up."
   ]
  },
  {
   "cell_type": "code",
   "execution_count": 135,
   "metadata": {
    "collapsed": false
   },
   "outputs": [
    {
     "name": "stdout",
     "output_type": "stream",
     "text": [
      "Displaying 6 of 6 matches:\n",
      "t to suggest to the speaker that the house should be summoned today . at the en\n",
      "proceedings , the adjournment of the house will be proposed until may 21 with p\n",
      "liest opportunity . i now invite the house by a resolution to record its approv\n",
      "ment . the resolution : '' that this house welcomes the formation of a governme\n",
      " be pardoned if 1 do not address the house at any length today , and i hope tha\n",
      "been necessary to act . i say to the house as i said to ministers who have join\n"
     ]
    }
   ],
   "source": [
    "text.concordance('house')"
   ]
  },
  {
   "cell_type": "code",
   "execution_count": 136,
   "metadata": {
    "collapsed": false
   },
   "outputs": [
    {
     "data": {
      "text/plain": [
       "FreqDist({('the', 'as'): 1,\n",
       "          ('the', 'at'): 1,\n",
       "          ('the', 'by'): 1,\n",
       "          ('the', 'should'): 1,\n",
       "          ('the', 'will'): 1,\n",
       "          ('this', 'welcomes'): 1})"
      ]
     },
     "execution_count": 136,
     "metadata": {},
     "output_type": "execute_result"
    }
   ],
   "source": [
    "contexts = nltk.ContextIndex(text.tokens)\n",
    "contexts._word_to_contexts['house']"
   ]
  },
  {
   "cell_type": "markdown",
   "metadata": {},
   "source": [
    "The <b>Text.similar()</b> method can help us find words that might not appear as frequently as our word, but they appear in a similar context and thus might be related."
   ]
  },
  {
   "cell_type": "code",
   "execution_count": 137,
   "metadata": {
    "collapsed": false
   },
   "outputs": [
    {
     "name": "stdout",
     "output_type": "stream",
     "text": [
      "administration evident\n"
     ]
    }
   ],
   "source": [
    "text.similar('house')"
   ]
  },
  {
   "cell_type": "code",
   "execution_count": 144,
   "metadata": {
    "collapsed": false
   },
   "outputs": [
    {
     "name": "stdout",
     "output_type": "stream",
     "text": [
      "Displaying 3 of 3 matches:\n",
      "                                administration . it was the evident will of ' \n",
      " will be completed and that the administration will be complete in all respect\n",
      "ious conclusion . '' to form an administration of this scale and complexity is\n",
      "None\n",
      "\n",
      "dict_items([(('the', 'will'), 1), (('an', 'of'), 1), (('new', '.'), 1)])\n"
     ]
    }
   ],
   "source": [
    "print(text.concordance('administration'))\n",
    "print()\n",
    "print(contexts._word_to_contexts['administration'].items())"
   ]
  },
  {
   "cell_type": "code",
   "execution_count": 145,
   "metadata": {
    "collapsed": false
   },
   "outputs": [
    {
     "name": "stdout",
     "output_type": "stream",
     "text": [
      "Displaying 1 of 1 matches:\n",
      "m a new administration . it was the evident will of ' parliament and the nation\n",
      "None\n",
      "\n",
      "dict_items([(('the', 'will'), 1)])\n"
     ]
    }
   ],
   "source": [
    "print(text.concordance('evident'))\n",
    "print()\n",
    "print(contexts._word_to_contexts['evident'].items())"
   ]
  },
  {
   "cell_type": "markdown",
   "metadata": {},
   "source": [
    "This shows how while the similar command is very interesting, it doesn't always tell you something useful.  Both of these words were considered similar to 'house' because they also had the context ('the','will').  But here is a <b>great</b> example of a huge challenge in natural language processing.  <i>Will</i> can be a noun or a verb.  When we got 'administration' as a similar word, it was truly found in the same context; the administration was acting.  But evident was actually an adjective describing the noun will.  Sorting out these differences is <i>very</i> difficult."
   ]
  },
  {
   "cell_type": "markdown",
   "metadata": {},
   "source": [
    "Another method that uses context is <b>Text.common_contexts()</b>.  This is sort of the inverse of Text.similar().  common_contexts will return the common context of a list of words."
   ]
  },
  {
   "cell_type": "code",
   "execution_count": 147,
   "metadata": {
    "collapsed": false
   },
   "outputs": [
    {
     "name": "stdout",
     "output_type": "stream",
     "text": [
      "the_will\n"
     ]
    }
   ],
   "source": [
    "text.common_contexts(['evident','house'])"
   ]
  },
  {
   "cell_type": "code",
   "execution_count": 148,
   "metadata": {
    "collapsed": false
   },
   "outputs": [
    {
     "name": "stdout",
     "output_type": "stream",
     "text": [
      "the_will\n"
     ]
    }
   ],
   "source": [
    "text.common_contexts(['evident','house','administration'])"
   ]
  },
  {
   "cell_type": "markdown",
   "metadata": {},
   "source": [
    "### What are some signifcant phrases I should know?\n",
    "My favorite method of nltk.Text is <b>Text.collocations</b>.  Collocations are expressions of multiple words which commonly co-occur.  The Text has a pretty simple collocations() method, though in reality, it wraps around a highly customizable object, nltk.BigramCollocationFinder.\n",
    "\n",
    "Text.collocations() will look for words that commonly occur in the same window, skipping stop words (thanks!).  The default window size is 2.  If we call the basic method, we get a pretty useful output."
   ]
  },
  {
   "cell_type": "code",
   "execution_count": 165,
   "metadata": {
    "collapsed": false
   },
   "outputs": [
    {
     "name": "stdout",
     "output_type": "stream",
     "text": [
      "british empire; wage war\n"
     ]
    }
   ],
   "source": [
    "text.collocations()"
   ]
  },
  {
   "cell_type": "markdown",
   "metadata": {},
   "source": [
    "Crazy!  We immediately get two incredibly relevant bigrams out of this.  We can extend the window to get more information."
   ]
  },
  {
   "cell_type": "code",
   "execution_count": 166,
   "metadata": {
    "collapsed": false
   },
   "outputs": [
    {
     "name": "stdout",
     "output_type": "stream",
     "text": [
      "many months; british empire; appointment ministers; form\n",
      "administration; part task; wage war\n"
     ]
    }
   ],
   "source": [
    "text.collocations(window_size=4)"
   ]
  },
  {
   "cell_type": "code",
   "execution_count": 168,
   "metadata": {
    "collapsed": false
   },
   "outputs": [
    {
     "name": "stdout",
     "output_type": "stream",
     "text": [
      "friends colleagues; many months; many struggle; british empire;\n",
      "victory costs; appointment ministers; form administration; part task;\n",
      "survival british; wage war; house today; victory victory\n"
     ]
    }
   ],
   "source": [
    "text.collocations(window_size=6)"
   ]
  },
  {
   "cell_type": "markdown",
   "metadata": {},
   "source": [
    "<a href=\"http://www.history.com/this-day-in-history/churchill-announces-i-have-nothing-to-offer-but-blood-toil-tears-and-sweat\">History.com summarizes the speech as such:</a><br>\n",
    "<i>On this day in 1940, as Winston Churchill takes the helm as Great Britain’s new prime minister, he assures Parliament that his new policy will consist of nothing less than “to wage war, by sea, land and air, with all our might and with all the strength that God can give us; to wage war against a monstrous tyranny, never surpassed in the dark, lamentable catalogue of human crime.”</i>\n",
    "\n",
    "How do we line up?"
   ]
  },
  {
   "cell_type": "markdown",
   "metadata": {},
   "source": [
    "## What Have We Learned?"
   ]
  },
  {
   "cell_type": "code",
   "execution_count": 157,
   "metadata": {
    "collapsed": false
   },
   "outputs": [
    {
     "data": {
      "text/plain": [
       "[('house', 6),\n",
       " ('victory', 5),\n",
       " ('war', 5),\n",
       " ('many', 4),\n",
       " ('survival', 4),\n",
       " ('us', 4),\n",
       " ('today', 3),\n",
       " ('hope', 3),\n",
       " ('nation', 3),\n",
       " ('administration', 3)]"
      ]
     },
     "execution_count": 157,
     "metadata": {},
     "output_type": "execute_result"
    }
   ],
   "source": [
    "text_no_stops.vocab().most_common(10)"
   ]
  },
  {
   "cell_type": "code",
   "execution_count": 14,
   "metadata": {
    "collapsed": false
   },
   "outputs": [
    {
     "name": "stdout",
     "output_type": "stream",
     "text": [
      "british empire; wage war\n"
     ]
    }
   ],
   "source": [
    "text.collocations()"
   ]
  },
  {
   "cell_type": "code",
   "execution_count": 25,
   "metadata": {
    "collapsed": false
   },
   "outputs": [
    {
     "name": "stdout",
     "output_type": "stream",
     "text": [
      "many months; british empire; appointment ministers; form\n",
      "administration; part task; wage war\n"
     ]
    }
   ],
   "source": [
    "text.collocations(window_size=4)"
   ]
  },
  {
   "cell_type": "code",
   "execution_count": 17,
   "metadata": {
    "collapsed": false
   },
   "outputs": [
    {
     "name": "stdout",
     "output_type": "stream",
     "text": [
      "No matches\n"
     ]
    }
   ],
   "source": [
    "text.concordance('british empire')"
   ]
  },
  {
   "cell_type": "code",
   "execution_count": 18,
   "metadata": {
    "collapsed": false
   },
   "outputs": [
    {
     "name": "stdout",
     "output_type": "stream",
     "text": [
      "Displaying 2 of 2 matches:\n",
      "lized . no survival for the british empire , no survival for all that the brit\n",
      "o survival for all that the british empire has stood for , no survival for the\n"
     ]
    }
   ],
   "source": [
    "text.concordance('empire')"
   ]
  },
  {
   "cell_type": "code",
   "execution_count": 12,
   "metadata": {
    "collapsed": true
   },
   "outputs": [],
   "source": [
    "import pandas as pd\n",
    "\n",
    "sent_id = 0\n",
    "rows = []\n",
    "for sentence in sentences:\n",
    "    for word in word_tokenize(sentence):\n",
    "        is_stop = word in stops\n",
    "        values = {'word':word, 'sent_id':sent_id, 'is_stop':is_stop}\n",
    "        rows.append(values)\n",
    "\n",
    "speech = pd.DataFrame(rows)"
   ]
  },
  {
   "cell_type": "code",
   "execution_count": 13,
   "metadata": {
    "collapsed": false
   },
   "outputs": [
    {
     "data": {
      "text/html": [
       "<div>\n",
       "<table border=\"1\" class=\"dataframe\">\n",
       "  <thead>\n",
       "    <tr style=\"text-align: right;\">\n",
       "      <th></th>\n",
       "      <th>is_stop</th>\n",
       "      <th>sent_id</th>\n",
       "      <th>word</th>\n",
       "    </tr>\n",
       "  </thead>\n",
       "  <tbody>\n",
       "    <tr>\n",
       "      <th>0</th>\n",
       "      <td>True</td>\n",
       "      <td>0</td>\n",
       "      <td>on</td>\n",
       "    </tr>\n",
       "    <tr>\n",
       "      <th>1</th>\n",
       "      <td>False</td>\n",
       "      <td>0</td>\n",
       "      <td>friday</td>\n",
       "    </tr>\n",
       "    <tr>\n",
       "      <th>2</th>\n",
       "      <td>False</td>\n",
       "      <td>0</td>\n",
       "      <td>evening</td>\n",
       "    </tr>\n",
       "    <tr>\n",
       "      <th>3</th>\n",
       "      <td>False</td>\n",
       "      <td>0</td>\n",
       "      <td>last</td>\n",
       "    </tr>\n",
       "    <tr>\n",
       "      <th>4</th>\n",
       "      <td>True</td>\n",
       "      <td>0</td>\n",
       "      <td>i</td>\n",
       "    </tr>\n",
       "    <tr>\n",
       "      <th>5</th>\n",
       "      <td>False</td>\n",
       "      <td>0</td>\n",
       "      <td>received</td>\n",
       "    </tr>\n",
       "    <tr>\n",
       "      <th>6</th>\n",
       "      <td>True</td>\n",
       "      <td>0</td>\n",
       "      <td>from</td>\n",
       "    </tr>\n",
       "    <tr>\n",
       "      <th>7</th>\n",
       "      <td>True</td>\n",
       "      <td>0</td>\n",
       "      <td>his</td>\n",
       "    </tr>\n",
       "    <tr>\n",
       "      <th>8</th>\n",
       "      <td>False</td>\n",
       "      <td>0</td>\n",
       "      <td>majesty</td>\n",
       "    </tr>\n",
       "    <tr>\n",
       "      <th>9</th>\n",
       "      <td>True</td>\n",
       "      <td>0</td>\n",
       "      <td>the</td>\n",
       "    </tr>\n",
       "    <tr>\n",
       "      <th>10</th>\n",
       "      <td>False</td>\n",
       "      <td>0</td>\n",
       "      <td>mission</td>\n",
       "    </tr>\n",
       "    <tr>\n",
       "      <th>11</th>\n",
       "      <td>True</td>\n",
       "      <td>0</td>\n",
       "      <td>to</td>\n",
       "    </tr>\n",
       "    <tr>\n",
       "      <th>12</th>\n",
       "      <td>False</td>\n",
       "      <td>0</td>\n",
       "      <td>form</td>\n",
       "    </tr>\n",
       "    <tr>\n",
       "      <th>13</th>\n",
       "      <td>True</td>\n",
       "      <td>0</td>\n",
       "      <td>a</td>\n",
       "    </tr>\n",
       "    <tr>\n",
       "      <th>14</th>\n",
       "      <td>False</td>\n",
       "      <td>0</td>\n",
       "      <td>new</td>\n",
       "    </tr>\n",
       "    <tr>\n",
       "      <th>15</th>\n",
       "      <td>False</td>\n",
       "      <td>0</td>\n",
       "      <td>administration</td>\n",
       "    </tr>\n",
       "    <tr>\n",
       "      <th>16</th>\n",
       "      <td>False</td>\n",
       "      <td>0</td>\n",
       "      <td>.</td>\n",
       "    </tr>\n",
       "    <tr>\n",
       "      <th>17</th>\n",
       "      <td>True</td>\n",
       "      <td>0</td>\n",
       "      <td>it</td>\n",
       "    </tr>\n",
       "    <tr>\n",
       "      <th>18</th>\n",
       "      <td>True</td>\n",
       "      <td>0</td>\n",
       "      <td>was</td>\n",
       "    </tr>\n",
       "    <tr>\n",
       "      <th>19</th>\n",
       "      <td>True</td>\n",
       "      <td>0</td>\n",
       "      <td>the</td>\n",
       "    </tr>\n",
       "    <tr>\n",
       "      <th>20</th>\n",
       "      <td>False</td>\n",
       "      <td>0</td>\n",
       "      <td>evident</td>\n",
       "    </tr>\n",
       "    <tr>\n",
       "      <th>21</th>\n",
       "      <td>True</td>\n",
       "      <td>0</td>\n",
       "      <td>will</td>\n",
       "    </tr>\n",
       "    <tr>\n",
       "      <th>22</th>\n",
       "      <td>True</td>\n",
       "      <td>0</td>\n",
       "      <td>of</td>\n",
       "    </tr>\n",
       "    <tr>\n",
       "      <th>23</th>\n",
       "      <td>False</td>\n",
       "      <td>0</td>\n",
       "      <td>'</td>\n",
       "    </tr>\n",
       "    <tr>\n",
       "      <th>24</th>\n",
       "      <td>False</td>\n",
       "      <td>0</td>\n",
       "      <td>parliament</td>\n",
       "    </tr>\n",
       "    <tr>\n",
       "      <th>25</th>\n",
       "      <td>True</td>\n",
       "      <td>0</td>\n",
       "      <td>and</td>\n",
       "    </tr>\n",
       "    <tr>\n",
       "      <th>26</th>\n",
       "      <td>True</td>\n",
       "      <td>0</td>\n",
       "      <td>the</td>\n",
       "    </tr>\n",
       "    <tr>\n",
       "      <th>27</th>\n",
       "      <td>False</td>\n",
       "      <td>0</td>\n",
       "      <td>nation</td>\n",
       "    </tr>\n",
       "    <tr>\n",
       "      <th>28</th>\n",
       "      <td>True</td>\n",
       "      <td>0</td>\n",
       "      <td>that</td>\n",
       "    </tr>\n",
       "    <tr>\n",
       "      <th>29</th>\n",
       "      <td>True</td>\n",
       "      <td>0</td>\n",
       "      <td>this</td>\n",
       "    </tr>\n",
       "    <tr>\n",
       "      <th>...</th>\n",
       "      <td>...</td>\n",
       "      <td>...</td>\n",
       "      <td>...</td>\n",
       "    </tr>\n",
       "    <tr>\n",
       "      <th>668</th>\n",
       "      <td>False</td>\n",
       "      <td>0</td>\n",
       "      <td>,</td>\n",
       "    </tr>\n",
       "    <tr>\n",
       "      <th>669</th>\n",
       "      <td>True</td>\n",
       "      <td>0</td>\n",
       "      <td>at</td>\n",
       "    </tr>\n",
       "    <tr>\n",
       "      <th>670</th>\n",
       "      <td>True</td>\n",
       "      <td>0</td>\n",
       "      <td>this</td>\n",
       "    </tr>\n",
       "    <tr>\n",
       "      <th>671</th>\n",
       "      <td>False</td>\n",
       "      <td>0</td>\n",
       "      <td>time</td>\n",
       "    </tr>\n",
       "    <tr>\n",
       "      <th>672</th>\n",
       "      <td>False</td>\n",
       "      <td>0</td>\n",
       "      <td>,</td>\n",
       "    </tr>\n",
       "    <tr>\n",
       "      <th>673</th>\n",
       "      <td>True</td>\n",
       "      <td>0</td>\n",
       "      <td>to</td>\n",
       "    </tr>\n",
       "    <tr>\n",
       "      <th>674</th>\n",
       "      <td>False</td>\n",
       "      <td>0</td>\n",
       "      <td>claim</td>\n",
       "    </tr>\n",
       "    <tr>\n",
       "      <th>675</th>\n",
       "      <td>True</td>\n",
       "      <td>0</td>\n",
       "      <td>the</td>\n",
       "    </tr>\n",
       "    <tr>\n",
       "      <th>676</th>\n",
       "      <td>False</td>\n",
       "      <td>0</td>\n",
       "      <td>aid</td>\n",
       "    </tr>\n",
       "    <tr>\n",
       "      <th>677</th>\n",
       "      <td>True</td>\n",
       "      <td>0</td>\n",
       "      <td>of</td>\n",
       "    </tr>\n",
       "    <tr>\n",
       "      <th>678</th>\n",
       "      <td>True</td>\n",
       "      <td>0</td>\n",
       "      <td>all</td>\n",
       "    </tr>\n",
       "    <tr>\n",
       "      <th>679</th>\n",
       "      <td>True</td>\n",
       "      <td>0</td>\n",
       "      <td>and</td>\n",
       "    </tr>\n",
       "    <tr>\n",
       "      <th>680</th>\n",
       "      <td>True</td>\n",
       "      <td>0</td>\n",
       "      <td>to</td>\n",
       "    </tr>\n",
       "    <tr>\n",
       "      <th>681</th>\n",
       "      <td>False</td>\n",
       "      <td>0</td>\n",
       "      <td>say</td>\n",
       "    </tr>\n",
       "    <tr>\n",
       "      <th>682</th>\n",
       "      <td>False</td>\n",
       "      <td>0</td>\n",
       "      <td>,</td>\n",
       "    </tr>\n",
       "    <tr>\n",
       "      <th>683</th>\n",
       "      <td>False</td>\n",
       "      <td>0</td>\n",
       "      <td>``</td>\n",
       "    </tr>\n",
       "    <tr>\n",
       "      <th>684</th>\n",
       "      <td>False</td>\n",
       "      <td>0</td>\n",
       "      <td>come</td>\n",
       "    </tr>\n",
       "    <tr>\n",
       "      <th>685</th>\n",
       "      <td>True</td>\n",
       "      <td>0</td>\n",
       "      <td>then</td>\n",
       "    </tr>\n",
       "    <tr>\n",
       "      <th>686</th>\n",
       "      <td>False</td>\n",
       "      <td>0</td>\n",
       "      <td>,</td>\n",
       "    </tr>\n",
       "    <tr>\n",
       "      <th>687</th>\n",
       "      <td>False</td>\n",
       "      <td>0</td>\n",
       "      <td>let</td>\n",
       "    </tr>\n",
       "    <tr>\n",
       "      <th>688</th>\n",
       "      <td>False</td>\n",
       "      <td>0</td>\n",
       "      <td>us</td>\n",
       "    </tr>\n",
       "    <tr>\n",
       "      <th>689</th>\n",
       "      <td>False</td>\n",
       "      <td>0</td>\n",
       "      <td>go</td>\n",
       "    </tr>\n",
       "    <tr>\n",
       "      <th>690</th>\n",
       "      <td>False</td>\n",
       "      <td>0</td>\n",
       "      <td>forward</td>\n",
       "    </tr>\n",
       "    <tr>\n",
       "      <th>691</th>\n",
       "      <td>False</td>\n",
       "      <td>0</td>\n",
       "      <td>together</td>\n",
       "    </tr>\n",
       "    <tr>\n",
       "      <th>692</th>\n",
       "      <td>True</td>\n",
       "      <td>0</td>\n",
       "      <td>with</td>\n",
       "    </tr>\n",
       "    <tr>\n",
       "      <th>693</th>\n",
       "      <td>True</td>\n",
       "      <td>0</td>\n",
       "      <td>our</td>\n",
       "    </tr>\n",
       "    <tr>\n",
       "      <th>694</th>\n",
       "      <td>False</td>\n",
       "      <td>0</td>\n",
       "      <td>united</td>\n",
       "    </tr>\n",
       "    <tr>\n",
       "      <th>695</th>\n",
       "      <td>False</td>\n",
       "      <td>0</td>\n",
       "      <td>strength</td>\n",
       "    </tr>\n",
       "    <tr>\n",
       "      <th>696</th>\n",
       "      <td>False</td>\n",
       "      <td>0</td>\n",
       "      <td>.</td>\n",
       "    </tr>\n",
       "    <tr>\n",
       "      <th>697</th>\n",
       "      <td>False</td>\n",
       "      <td>0</td>\n",
       "      <td>''</td>\n",
       "    </tr>\n",
       "  </tbody>\n",
       "</table>\n",
       "<p>698 rows × 3 columns</p>\n",
       "</div>"
      ],
      "text/plain": [
       "    is_stop  sent_id            word\n",
       "0      True        0              on\n",
       "1     False        0          friday\n",
       "2     False        0         evening\n",
       "3     False        0            last\n",
       "4      True        0               i\n",
       "5     False        0        received\n",
       "6      True        0            from\n",
       "7      True        0             his\n",
       "8     False        0         majesty\n",
       "9      True        0             the\n",
       "10    False        0         mission\n",
       "11     True        0              to\n",
       "12    False        0            form\n",
       "13     True        0               a\n",
       "14    False        0             new\n",
       "15    False        0  administration\n",
       "16    False        0               .\n",
       "17     True        0              it\n",
       "18     True        0             was\n",
       "19     True        0             the\n",
       "20    False        0         evident\n",
       "21     True        0            will\n",
       "22     True        0              of\n",
       "23    False        0               '\n",
       "24    False        0      parliament\n",
       "25     True        0             and\n",
       "26     True        0             the\n",
       "27    False        0          nation\n",
       "28     True        0            that\n",
       "29     True        0            this\n",
       "..      ...      ...             ...\n",
       "668   False        0               ,\n",
       "669    True        0              at\n",
       "670    True        0            this\n",
       "671   False        0            time\n",
       "672   False        0               ,\n",
       "673    True        0              to\n",
       "674   False        0           claim\n",
       "675    True        0             the\n",
       "676   False        0             aid\n",
       "677    True        0              of\n",
       "678    True        0             all\n",
       "679    True        0             and\n",
       "680    True        0              to\n",
       "681   False        0             say\n",
       "682   False        0               ,\n",
       "683   False        0              ``\n",
       "684   False        0            come\n",
       "685    True        0            then\n",
       "686   False        0               ,\n",
       "687   False        0             let\n",
       "688   False        0              us\n",
       "689   False        0              go\n",
       "690   False        0         forward\n",
       "691   False        0        together\n",
       "692    True        0            with\n",
       "693    True        0             our\n",
       "694   False        0          united\n",
       "695   False        0        strength\n",
       "696   False        0               .\n",
       "697   False        0              ''\n",
       "\n",
       "[698 rows x 3 columns]"
      ]
     },
     "execution_count": 13,
     "metadata": {},
     "output_type": "execute_result"
    }
   ],
   "source": [
    "speech"
   ]
  },
  {
   "cell_type": "code",
   "execution_count": null,
   "metadata": {
    "collapsed": true
   },
   "outputs": [],
   "source": []
  }
 ],
 "metadata": {
  "kernelspec": {
   "display_name": "Python 3",
   "language": "python",
   "name": "python3"
  },
  "language_info": {
   "codemirror_mode": {
    "name": "ipython",
    "version": 3
   },
   "file_extension": ".py",
   "mimetype": "text/x-python",
   "name": "python",
   "nbconvert_exporter": "python",
   "pygments_lexer": "ipython3",
   "version": "3.5.1"
  }
 },
 "nbformat": 4,
 "nbformat_minor": 0
}
