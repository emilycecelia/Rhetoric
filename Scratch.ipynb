{
 "cells": [
  {
   "cell_type": "code",
   "execution_count": 1,
   "metadata": {
    "collapsed": false,
    "slideshow": {
     "slide_type": "slide"
    }
   },
   "outputs": [],
   "source": [
    "import nltk\n",
    "import os\n",
    "import pandas as pd\n",
    "from nltk import word_tokenize,sent_tokenize\n",
    "from nltk import PorterStemmer\n",
    "from operator import itemgetter"
   ]
  },
  {
   "cell_type": "code",
   "execution_count": 63,
   "metadata": {
    "collapsed": false
   },
   "outputs": [],
   "source": [
    "fp = 'data/plato_apology.txt'\n",
    "#apology = open(fp).read().lower()\n",
    "mlk = 'i am happy to join with you today in what will go down in history as  the greatest demonstration for freedom in the history of our nation. five score years ago,       a great american, in whose symbolic shadow we  stand today, signed the       emancipation proclamation. this momentous decree came as a great  beacon light of hope to millions of negro slaves who had been seared in the flames of  withering injustice. it came as a joyous daybreak to end the long night of their  captivity. but one hundred years later, the negro still is not free. one  hundred years later, the life of the negro is still sadly crippled by the manacles of  segregation and the chains of discrimination. one hundred years later, the negro lives on a  lonely island of poverty in the midst of a vast ocean of material prosperity. one hundred  years later, the negro is still languished in the corners of american society and finds  himself an exile in his own land. and so we\\'ve come here today to dramatize a shameful  condition. in a sense we\\'ve come to our nation\\'s capital to cash a check.  when the architects of our republic wrote the magnificent words of the constitution and  the  declaration of independence, they were signing a promissory note to which every  american was to fall heir. this note was a promise that all men, yes, black men as well as  white men, would be guaranteed the \"unalienable rights\" of \"life, liberty and the pursuit of      happiness.\" it is obvious today that america has defaulted on this promissory note, insofar  as her citizens of color are concerned. instead of honoring this sacred obligation,  america has given the negro people a bad check, a check which has come back marked  \"insufficient funds.\" but we refuse to believe that the bank of justice is bankrupt. we  refuse to believe that there are insufficient funds in the great vaults of opportunity of  this nation. and so, we\\'ve come to cash this check, a check that will give us upon demand  the riches of freedom and the security of justice. we have also come to this hallowed spot to remind america of the  fierce urgency of now. this is no time to engage in the luxury of cooling off or to take  the tranquilizing drug of gradualism. now is the time to make real the promises of  democracy. now is the time to rise from the dark and desolate valley of segregation to the  sunlit path of racial justice. now is the time to lift our nation from the quicksands of  racial injustice to the solid rock of brotherhood. now is the time to make justice a  reality for all of god\\'s children. it would be fatal for the nation to overlook the urgency of the  moment. this sweltering summer of the negro\\'s legitimate discontent will not pass until  there is an invigorating autumn of freedom and equality. nineteen sixty-three is not an  end, but a beginning. and those who hope that the negro needed to blow off steam and will now  be content will have a rude awakening if the nation returns to business as usual.     and there will be neither rest nor tranquility in america until the negro is granted his  citizenship rights. the whirlwinds of revolt will continue to shake the foundations of our  nation until the bright day of justice emerges. but there is something that i must say to my people, who stand on the  warm threshold which leads into the palace of justice: in the process of gaining our  rightful place, we must not be guilty of wrongful deeds. let us not seek to satisfy our  thirst for freedom by drinking from the cup of bitterness and hatred. we must      forever conduct  our struggle on the high plane of dignity and discipline. we must not allow our creative  protest to degenerate into physical violence. again and again, we must rise to the majestic  heights of meeting physical force with soul force. the marvelous new militancy which has engulfed the negro community  must not lead us to a distrust of all white people, for many of our white brothers, as  evidenced by their presence here today, have come to realize that their destiny is tied up  with our destiny. and they have come to realize that their freedom is inextricably bound  to our freedom. we cannot walk alone. and as we walk, we must make the pledge that we shall always march  ahead. we cannot turn back. there are those who are asking the devotees of civil rights,  \"when will you be satisfied?\" we can never be satisfied as long as the negro is  the victim of the unspeakable horrors of police brutality. we can never be satisfied as  long as our bodies, heavy with the fatigue of travel, cannot gain lodging in the motels of  the highways and the hotels of the cities. *we      cannot be satisfied as long as the negro\\'s basic mobility is from a      smaller ghetto to a larger one. we can never be satisfied as long as      our children are stripped of their self-hood and robbed of their      dignity by signs stating: \"for whites only.\"*      we cannot be satisfied as long as a negro in  mississippi cannot vote and a negro in new york believes he has nothing for which to vote.  no, no, we are not satisfied, and we will not be satisfied until \"justice rolls down like  waters, and righteousness like a mighty stream.\" i am not unmindful that some of you have come here out of great  trials and tribulations. some of you have come fresh from narrow jail cells. and      some of you  have come from areas where your quest -- quest for freedom left you battered by the storms of  persecution and staggered by the winds of police brutality. you have been the veterans of  creative suffering. continue to work with the faith that unearned suffering is redemptive.  go back to mississippi, go back to alabama, go back to south carolina, go back to georgia,  go back to louisiana, go back to the slums and ghettos of our northern cities, knowing  that somehow this situation can and will be changed. let us not wallow in the valley of  despair, i say to you today, my friends. and so even though we face the difficulties of  today and tomorrow, i still have a dream. it is a dream deeply rooted in the american  dream. i have a dream that one day this nation will rise up and live out  the true meaning of its creed: \"we hold these truths to be self-evident, that all men are  created equal.\" i have a dream that one day on the red hills of georgia, the sons of  former slaves and the sons of former slave owners will be able to sit down together at the  table of brotherhood. i have a dream that one day even the state of mississippi, a state  sweltering with the heat of injustice, sweltering with the heat of oppression, will be  transformed into an oasis of freedom and justice. i have a dream that my four little children will one day live in a  nation where they will not be judged by the color of their skin but by the content of  their character. i have a dream today! i have a dream that one day,      down in alabama, with its  vicious racists, with its governor having his lips dripping with the words of     \"interposition\" and \"nullification\" -- one day right there in alabama little black boys and black  girls will be able to join hands with little white boys and white girls as sisters and  brothers. i have a dream today! i have a dream that one day every valley shall be exalted, and every  hill and mountain shall be made low, the rough places will be made plain, and      the crooked places will be made straight; \"and the glory of the lord shall be revealed and all flesh  shall see it together.\" this is our hope, and      this is the faith that i go back to the south  with. with this faith, we will be able to hew out of the mountain of despair a stone of  hope. with this faith, we will be able to transform the jangling discords of our nation  into a beautiful symphony of brotherhood. with this faith, we will be able to work  together, to pray together, to struggle together, to go to jail together, to stand up for  freedom together, knowing that we will be free one day. and this will be the day      -- this will be the day when all of god\\'s children will be able to      sing with new meaning: and if  america is to be a great nation, this must become true. and so let freedom ring from the prodigious hilltops of new hampshire. let freedom ring from the mighty mountains of new york. let freedom ring from the heightening alleghenies of  pennsylvania. let freedom ring from the snow-capped rockies of colorado. let freedom ring from the curvaceous slopes of california. but not only that: let freedom ring from stone mountain of georgia. let freedom ring from lookout mountain of tennessee. let freedom ring from every hill and molehill of mississippi. from every mountainside, let freedom ring. and when this happens,      and when we allow freedom ring,  when we let it ring from every village and every hamlet, from every state and every city,  we will be able to speed up that day when all of god\\'s children, black men and  white men, jews and gentiles, protestants and catholics, will be able to join hands and  sing in the words of the old negro spiritual: free at last! free at last! thank god almighty, we are free at last!'\n",
    "words = nltk.word_tokenize(mlk)\n",
    "sents = nltk.sent_tokenize(mlk)\n",
    "text = nltk.Text(words)\n"
   ]
  },
  {
   "cell_type": "code",
   "execution_count": 4,
   "metadata": {
    "collapsed": false
   },
   "outputs": [
    {
     "name": "stdout",
     "output_type": "stream",
     "text": [
      "let ring; freedom ring; let freedom; one day; hundred later; satisfied\n",
      "long; years later; hundred years; one hundred; free last; dream one;\n",
      "one years; god children; never satisfied; 've come; insufficient\n",
      "funds; police brutality; refuse believe; sons former; join hands;\n",
      "little boys; promissory note; negro still; cash check; new york; time\n",
      "make; every hill; come realize; able join; black men\n"
     ]
    }
   ],
   "source": [
    "text.collocations(num=30, window_size=3)"
   ]
  },
  {
   "cell_type": "code",
   "execution_count": 5,
   "metadata": {
    "collapsed": false
   },
   "outputs": [
    {
     "name": "stdout",
     "output_type": "stream",
     "text": [
      ",_men little_boys and_girls\n"
     ]
    }
   ],
   "source": [
    "text.common_contexts(['black'])"
   ]
  },
  {
   "cell_type": "code",
   "execution_count": 6,
   "metadata": {
    "collapsed": false
   },
   "outputs": [],
   "source": [
    "text.dispersion_plot(['freedom','ring'])"
   ]
  },
  {
   "cell_type": "code",
   "execution_count": 7,
   "metadata": {
    "collapsed": false
   },
   "outputs": [
    {
     "name": "stdout",
     "output_type": "stream",
     "text": [
      "destiny persecution segregation bitterness today dignity nation it\n"
     ]
    }
   ],
   "source": [
    "text.similar('freedom')"
   ]
  },
  {
   "cell_type": "code",
   "execution_count": 60,
   "metadata": {
    "collapsed": false
   },
   "outputs": [],
   "source": [
    "top_words = sorted(text.vocab().items(), reverse=True, key=itemgetter(1))"
   ]
  },
  {
   "cell_type": "code",
   "execution_count": 61,
   "metadata": {
    "collapsed": false
   },
   "outputs": [
    {
     "name": "stdout",
     "output_type": "stream",
     "text": [
      "80\n"
     ]
    }
   ],
   "source": [
    "num_sents = print(len(sents))"
   ]
  },
  {
   "cell_type": "code",
   "execution_count": 10,
   "metadata": {
    "collapsed": false
   },
   "outputs": [
    {
     "name": "stdout",
     "output_type": "stream",
     "text": [
      "30\n",
      "60\n"
     ]
    }
   ],
   "source": [
    "\"\"\"\n",
    "pos_tagged_sent = []\n",
    "sent_count = 0\n",
    "\n",
    "pos_tags = pd.DataFrame()\n",
    "for sent in sents:\n",
    "    sent_count += 1\n",
    "    if sent_count % 30 == 0:\n",
    "        print(sent_count)\n",
    "    tagged_words = nltk.pos_tag(nltk.word_tokenize(sent))\n",
    "    #pos_tags = [x[1] for x in tagged_words]\n",
    "    pos_tagged_sent.append(tagged_words)\n",
    "\"\"\""
   ]
  },
  {
   "cell_type": "code",
   "execution_count": 62,
   "metadata": {
    "collapsed": true
   },
   "outputs": [],
   "source": [
    "def analyze_text(a_string):\n",
    "    some_sentences = nltk.sent_tokenize(a_string)\n",
    "    stemmer = PorterStemmer()\n",
    "    data = []\n",
    "    sent_count = 0\n",
    "    for sent in some_sentences:\n",
    "        print(sent_count,'/',len(sents),end=',')\n",
    "        for word in word_tokenize(sent):\n",
    "                word = word.strip()\n",
    "                d = {}\n",
    "                d['word'] = word\n",
    "                d['pos'] = nltk.pos_tag([word])[0][1]\n",
    "                d['stem'] = stemmer.stem(word)\n",
    "                d['length'] = len(word)\n",
    "                d['sent_id'] = sent_count\n",
    "                data.append(d)\n",
    "        sent_count += 1\n",
    "\n",
    "\n",
    "    word_features = pd.DataFrame(data)\n",
    "    return word_features"
   ]
  },
  {
   "cell_type": "code",
   "execution_count": 66,
   "metadata": {
    "collapsed": false
   },
   "outputs": [
    {
     "name": "stdout",
     "output_type": "stream",
     "text": [
      "0 / 80,1 / 80,2 / 80,3 / 80,4 / 80,5 / 80,6 / 80,7 / 80,8 / 80,9 / 80,10 / 80,11 / 80,12 / 80,13 / 80,14 / 80,15 / 80,16 / 80,17 / 80,18 / 80,19 / 80,20 / 80,21 / 80,22 / 80,23 / 80,24 / 80,25 / 80,26 / 80,27 / 80,28 / 80,29 / 80,30 / 80,31 / 80,32 / 80,33 / 80,34 / 80,35 / 80,36 / 80,37 / 80,38 / 80,39 / 80,40 / 80,41 / 80,42 / 80,43 / 80,44 / 80,45 / 80,46 / 80,47 / 80,48 / 80,49 / 80,50 / 80,51 / 80,52 / 80,53 / 80,54 / 80,55 / 80,56 / 80,57 / 80,58 / 80,59 / 80,60 / 80,61 / 80,62 / 80,63 / 80,64 / 80,65 / 80,66 / 80,67 / 80,68 / 80,69 / 80,70 / 80,71 / 80,72 / 80,73 / 80,74 / 80,75 / 80,76 / 80,77 / 80,78 / 80,79 / 80,80 / 80,81 / 80,82 / 80,83 / 80,84 / 80,85 / 80,86 / 80,87 / 80,88 / 80,89 / 80,90 / 80,91 / 80,92 / 80,93 / 80,94 / 80,95 / 80,96 / 80,97 / 80,98 / 80,99 / 80,100 / 80,101 / 80,102 / 80,103 / 80,104 / 80,105 / 80,106 / 80,107 / 80,108 / 80,109 / 80,110 / 80,111 / 80,112 / 80,113 / 80,114 / 80,115 / 80,116 / 80,117 / 80,118 / 80,119 / 80,120 / 80,121 / 80,122 / 80,123 / 80,124 / 80,125 / 80,126 / 80,127 / 80,128 / 80,129 / 80,130 / 80,131 / 80,132 / 80,133 / 80,134 / 80,135 / 80,136 / 80,137 / 80,138 / 80,139 / 80,140 / 80,141 / 80,142 / 80,143 / 80,144 / 80,145 / 80,146 / 80,147 / 80,148 / 80,149 / 80,150 / 80,151 / 80,152 / 80,153 / 80,154 / 80,155 / 80,156 / 80,157 / 80,158 / 80,159 / 80,160 / 80,161 / 80,162 / 80,163 / 80,164 / 80,165 / 80,166 / 80,167 / 80,168 / 80,169 / 80,170 / 80,171 / 80,172 / 80,173 / 80,174 / 80,175 / 80,176 / 80,177 / 80,178 / 80,179 / 80,180 / 80,181 / 80,182 / 80,183 / 80,184 / 80,185 / 80,186 / 80,187 / 80,188 / 80,189 / 80,190 / 80,191 / 80,192 / 80,193 / 80,194 / 80,195 / 80,196 / 80,197 / 80,198 / 80,199 / 80,200 / 80,201 / 80,202 / 80,203 / 80,204 / 80,205 / 80,206 / 80,207 / 80,208 / 80,209 / 80,210 / 80,211 / 80,212 / 80,213 / 80,214 / 80,215 / 80,216 / 80,217 / 80,218 / 80,219 / 80,220 / 80,221 / 80,222 / 80,223 / 80,224 / 80,225 / 80,226 / 80,227 / 80,228 / 80,229 / 80,230 / 80,231 / 80,232 / 80,233 / 80,234 / 80,235 / 80,236 / 80,237 / 80,238 / 80,239 / 80,240 / 80,241 / 80,242 / 80,243 / 80,244 / 80,245 / 80,246 / 80,247 / 80,248 / 80,249 / 80,250 / 80,251 / 80,252 / 80,253 / 80,254 / 80,255 / 80,256 / 80,257 / 80,258 / 80,259 / 80,260 / 80,261 / 80,262 / 80,263 / 80,264 / 80,265 / 80,266 / 80,267 / 80,268 / 80,269 / 80,270 / 80,271 / 80,272 / 80,273 / 80,274 / 80,275 / 80,276 / 80,277 / 80,278 / 80,279 / 80,280 / 80,281 / 80,282 / 80,283 / 80,284 / 80,285 / 80,286 / 80,287 / 80,288 / 80,289 / 80,290 / 80,291 / 80,292 / 80,293 / 80,294 / 80,295 / 80,296 / 80,297 / 80,298 / 80,299 / 80,300 / 80,301 / 80,302 / 80,303 / 80,304 / 80,305 / 80,306 / 80,307 / 80,308 / 80,309 / 80,310 / 80,311 / 80,312 / 80,313 / 80,314 / 80,315 / 80,316 / 80,317 / 80,318 / 80,319 / 80,320 / 80,321 / 80,322 / 80,323 / 80,324 / 80,325 / 80,326 / 80,327 / 80,328 / 80,329 / 80,330 / 80,331 / 80,332 / 80,333 / 80,334 / 80,335 / 80,336 / 80,337 / 80,338 / 80,339 / 80,340 / 80,341 / 80,342 / 80,343 / 80,344 / 80,345 / 80,346 / 80,347 / 80,348 / 80,349 / 80,350 / 80,351 / 80,352 / 80,353 / 80,354 / 80,355 / 80,356 / 80,357 / 80,358 / 80,359 / 80,360 / 80,361 / 80,362 / 80,363 / 80,364 / 80,365 / 80,366 / 80,367 / 80,368 / 80,369 / 80,370 / 80,371 / 80,372 / 80,373 / 80,374 / 80,375 / 80,376 / 80,377 / 80,378 / 80,379 / 80,380 / 80,381 / 80,382 / 80,383 / 80,384 / 80,385 / 80,386 / 80,387 / 80,388 / 80,389 / 80,390 / 80,391 / 80,"
     ]
    }
   ],
   "source": [
    "plato = None\n",
    "with open(fp) as f:\n",
    "    apology = f.read().lower()\n",
    "    plato = analyze_text(apology)"
   ]
  },
  {
   "cell_type": "code",
   "execution_count": 84,
   "metadata": {
    "collapsed": false
   },
   "outputs": [
    {
     "data": {
      "text/html": [
       "<div>\n",
       "<table border=\"1\" class=\"dataframe\">\n",
       "  <thead>\n",
       "    <tr style=\"text-align: right;\">\n",
       "      <th></th>\n",
       "      <th>length</th>\n",
       "      <th>pos</th>\n",
       "      <th>sent_id</th>\n",
       "      <th>stem</th>\n",
       "      <th>word</th>\n",
       "    </tr>\n",
       "  </thead>\n",
       "  <tbody>\n",
       "    <tr>\n",
       "      <th>0</th>\n",
       "      <td>3</td>\n",
       "      <td>WRB</td>\n",
       "      <td>0</td>\n",
       "      <td>how</td>\n",
       "      <td>how</td>\n",
       "    </tr>\n",
       "    <tr>\n",
       "      <th>1</th>\n",
       "      <td>3</td>\n",
       "      <td>PRP</td>\n",
       "      <td>0</td>\n",
       "      <td>you</td>\n",
       "      <td>you</td>\n",
       "    </tr>\n",
       "    <tr>\n",
       "      <th>2</th>\n",
       "      <td>4</td>\n",
       "      <td>VB</td>\n",
       "      <td>0</td>\n",
       "      <td>have</td>\n",
       "      <td>have</td>\n",
       "    </tr>\n",
       "    <tr>\n",
       "      <th>3</th>\n",
       "      <td>4</td>\n",
       "      <td>NN</td>\n",
       "      <td>0</td>\n",
       "      <td>felt</td>\n",
       "      <td>felt</td>\n",
       "    </tr>\n",
       "    <tr>\n",
       "      <th>4</th>\n",
       "      <td>1</td>\n",
       "      <td>,</td>\n",
       "      <td>0</td>\n",
       "      <td>,</td>\n",
       "      <td>,</td>\n",
       "    </tr>\n",
       "  </tbody>\n",
       "</table>\n",
       "</div>"
      ],
      "text/plain": [
       "   length  pos  sent_id  stem  word\n",
       "0       3  WRB        0   how   how\n",
       "1       3  PRP        0   you   you\n",
       "2       4   VB        0  have  have\n",
       "3       4   NN        0  felt  felt\n",
       "4       1    ,        0     ,     ,"
      ]
     },
     "execution_count": 84,
     "metadata": {},
     "output_type": "execute_result"
    }
   ],
   "source": [
    "plato.head()"
   ]
  },
  {
   "cell_type": "code",
   "execution_count": 85,
   "metadata": {
    "collapsed": true
   },
   "outputs": [],
   "source": [
    "import os\n",
    "os.mkdir('speech_analysis')"
   ]
  },
  {
   "cell_type": "code",
   "execution_count": 86,
   "metadata": {
    "collapsed": true
   },
   "outputs": [],
   "source": [
    "#plato.to_csv('speech_analysis/plato.csv')\n",
    "#word_features.to_csv('speech_analysis/mlk.csv')"
   ]
  },
  {
   "cell_type": "code",
   "execution_count": 14,
   "metadata": {
    "collapsed": false
   },
   "outputs": [
    {
     "name": "stdout",
     "output_type": "stream",
     "text": [
      "0 / 80,1 / 80,2 / 80,3 / 80,4 / 80,5 / 80,6 / 80,7 / 80,8 / 80,9 / 80,10 / 80,11 / 80,12 / 80,13 / 80,14 / 80,15 / 80,16 / 80,17 / 80,18 / 80,19 / 80,20 / 80,21 / 80,22 / 80,23 / 80,24 / 80,25 / 80,26 / 80,27 / 80,28 / 80,29 / 80,30 / 80,31 / 80,32 / 80,33 / 80,34 / 80,35 / 80,36 / 80,37 / 80,38 / 80,39 / 80,40 / 80,41 / 80,42 / 80,43 / 80,44 / 80,45 / 80,46 / 80,47 / 80,48 / 80,49 / 80,50 / 80,51 / 80,52 / 80,53 / 80,54 / 80,55 / 80,56 / 80,57 / 80,58 / 80,59 / 80,60 / 80,61 / 80,62 / 80,63 / 80,64 / 80,65 / 80,66 / 80,67 / 80,68 / 80,69 / 80,70 / 80,71 / 80,72 / 80,73 / 80,74 / 80,75 / 80,76 / 80,77 / 80,78 / 80,79 / 80,"
     ]
    }
   ],
   "source": [
    "\n",
    "stemmer = PorterStemmer()\n",
    "data = []\n",
    "sent_count = 0\n",
    "for sent in sents:\n",
    "    print(sent_count,'/',len(sents),end=',')\n",
    "    for word in word_tokenize(sent):\n",
    "            word = word.strip()\n",
    "            d = {}\n",
    "            d['word'] = word\n",
    "            d['pos'] = nltk.pos_tag([word])[0][1]\n",
    "            d['stem'] = stemmer.stem(word)\n",
    "            d['length'] = len(word)\n",
    "            d['sent_id'] = sent_count\n",
    "            data.append(d)\n",
    "    sent_count += 1\n",
    "\n",
    "    \n",
    "word_features = pd.DataFrame(data)\n",
    "\n",
    "    \n",
    "    "
   ]
  },
  {
   "cell_type": "code",
   "execution_count": 59,
   "metadata": {
    "collapsed": false
   },
   "outputs": [
    {
     "data": {
      "text/html": [
       "<div>\n",
       "<table border=\"1\" class=\"dataframe\">\n",
       "  <thead>\n",
       "    <tr style=\"text-align: right;\">\n",
       "      <th></th>\n",
       "      <th>length</th>\n",
       "      <th>pos</th>\n",
       "      <th>sent_id</th>\n",
       "      <th>stem</th>\n",
       "      <th>word</th>\n",
       "    </tr>\n",
       "  </thead>\n",
       "  <tbody>\n",
       "    <tr>\n",
       "      <th>0</th>\n",
       "      <td>1</td>\n",
       "      <td>NN</td>\n",
       "      <td>0</td>\n",
       "      <td>i</td>\n",
       "      <td>i</td>\n",
       "    </tr>\n",
       "    <tr>\n",
       "      <th>1</th>\n",
       "      <td>2</td>\n",
       "      <td>VBP</td>\n",
       "      <td>0</td>\n",
       "      <td>am</td>\n",
       "      <td>am</td>\n",
       "    </tr>\n",
       "    <tr>\n",
       "      <th>2</th>\n",
       "      <td>5</td>\n",
       "      <td>JJ</td>\n",
       "      <td>0</td>\n",
       "      <td>happi</td>\n",
       "      <td>happy</td>\n",
       "    </tr>\n",
       "    <tr>\n",
       "      <th>3</th>\n",
       "      <td>2</td>\n",
       "      <td>TO</td>\n",
       "      <td>0</td>\n",
       "      <td>to</td>\n",
       "      <td>to</td>\n",
       "    </tr>\n",
       "    <tr>\n",
       "      <th>4</th>\n",
       "      <td>4</td>\n",
       "      <td>NN</td>\n",
       "      <td>0</td>\n",
       "      <td>join</td>\n",
       "      <td>join</td>\n",
       "    </tr>\n",
       "    <tr>\n",
       "      <th>5</th>\n",
       "      <td>4</td>\n",
       "      <td>IN</td>\n",
       "      <td>0</td>\n",
       "      <td>with</td>\n",
       "      <td>with</td>\n",
       "    </tr>\n",
       "    <tr>\n",
       "      <th>6</th>\n",
       "      <td>3</td>\n",
       "      <td>PRP</td>\n",
       "      <td>0</td>\n",
       "      <td>you</td>\n",
       "      <td>you</td>\n",
       "    </tr>\n",
       "    <tr>\n",
       "      <th>7</th>\n",
       "      <td>5</td>\n",
       "      <td>NN</td>\n",
       "      <td>0</td>\n",
       "      <td>today</td>\n",
       "      <td>today</td>\n",
       "    </tr>\n",
       "    <tr>\n",
       "      <th>8</th>\n",
       "      <td>2</td>\n",
       "      <td>IN</td>\n",
       "      <td>0</td>\n",
       "      <td>in</td>\n",
       "      <td>in</td>\n",
       "    </tr>\n",
       "    <tr>\n",
       "      <th>9</th>\n",
       "      <td>4</td>\n",
       "      <td>WP</td>\n",
       "      <td>0</td>\n",
       "      <td>what</td>\n",
       "      <td>what</td>\n",
       "    </tr>\n",
       "  </tbody>\n",
       "</table>\n",
       "</div>"
      ],
      "text/plain": [
       "   length  pos  sent_id   stem   word\n",
       "0       1   NN        0      i      i\n",
       "1       2  VBP        0     am     am\n",
       "2       5   JJ        0  happi  happy\n",
       "3       2   TO        0     to     to\n",
       "4       4   NN        0   join   join\n",
       "5       4   IN        0   with   with\n",
       "6       3  PRP        0    you    you\n",
       "7       5   NN        0  today  today\n",
       "8       2   IN        0     in     in\n",
       "9       4   WP        0   what   what"
      ]
     },
     "execution_count": 59,
     "metadata": {},
     "output_type": "execute_result"
    }
   ],
   "source": [
    "word_features.head(10)"
   ]
  },
  {
   "cell_type": "code",
   "execution_count": 58,
   "metadata": {
    "collapsed": false
   },
   "outputs": [],
   "source": [
    "pos_counts = word_features.pos.value_counts()"
   ]
  },
  {
   "cell_type": "code",
   "execution_count": 57,
   "metadata": {
    "collapsed": false
   },
   "outputs": [],
   "source": [
    "word_length_counts = word_features.length.value_counts()\n",
    "word_length_mean = word_features.length.mean()\n",
    "word_length_median = word_features.length.median()"
   ]
  },
  {
   "cell_type": "code",
   "execution_count": 56,
   "metadata": {
    "collapsed": false
   },
   "outputs": [],
   "source": [
    "#first gets the number of words in each sentence\n",
    "#second gets the count of each sentence length\n",
    "sent_lengths = word_features.sent_id.value_counts()\n",
    "sent_length_counts = sent_lengths.value_counts()\n",
    "sent_length_mean = sent_lengths.mean()\n",
    "sent_length_median = sent_lengths.median()"
   ]
  },
  {
   "cell_type": "code",
   "execution_count": 55,
   "metadata": {
    "collapsed": false
   },
   "outputs": [],
   "source": [
    "top_nouns = word_features[word_features.pos == 'NN'].stem.value_counts().head(10)"
   ]
  },
  {
   "cell_type": "code",
   "execution_count": 54,
   "metadata": {
    "collapsed": false
   },
   "outputs": [],
   "source": [
    "pronoun_counts = word_features[(word_features.pos == 'PRP') | (word_features.word == 'i')].stem.value_counts()"
   ]
  },
  {
   "cell_type": "code",
   "execution_count": 25,
   "metadata": {
    "collapsed": false
   },
   "outputs": [],
   "source": [
    "sent_ind = list(range(len(pos_tagged_sent)))\n",
    "sent_lengths = [len(sent) for sent in pos_tagged_sent]"
   ]
  },
  {
   "cell_type": "code",
   "execution_count": 27,
   "metadata": {
    "collapsed": true
   },
   "outputs": [],
   "source": [
    "from bokeh.charts import Line, output_file, show\n",
    "import pandas as pd\n",
    "%matplotlib inline"
   ]
  },
  {
   "cell_type": "code",
   "execution_count": 28,
   "metadata": {
    "collapsed": false
   },
   "outputs": [
    {
     "data": {
      "text/plain": [
       "<matplotlib.axes._subplots.AxesSubplot at 0x11db03cc0>"
      ]
     },
     "execution_count": 28,
     "metadata": {},
     "output_type": "execute_result"
    },
    {
     "data": {
      "image/png": "[encoded data removed]",
      "text/plain": [
       "<matplotlib.figure.Figure at 0x11dbff470>"
      ]
     },
     "metadata": {},
     "output_type": "display_data"
    }
   ],
   "source": [
    "l = pd.Series(sent_lengths)\n",
    "l.plot()"
   ]
  },
  {
   "cell_type": "code",
   "execution_count": 30,
   "metadata": {
    "collapsed": false
   },
   "outputs": [
    {
     "data": {
      "text/plain": [
       "[(('will', 'be'), 16),\n",
       " (('the', 'negro'), 11),\n",
       " (('.', 'and'), 11),\n",
       " (('in', 'the'), 11),\n",
       " (('of', 'the'), 11),\n",
       " (('freedom', 'ring'), 10),\n",
       " (('have', 'a'), 10),\n",
       " (('a', 'dream'), 10),\n",
       " ((',', 'we'), 10),\n",
       " (('let', 'freedom'), 9)]"
      ]
     },
     "execution_count": 30,
     "metadata": {},
     "output_type": "execute_result"
    }
   ],
   "source": [
    "bigram_counter = Counter()\n",
    "bigrams = nltk.ngrams(text.tokens, n=2)\n",
    "bigram_counter.update(bigrams)\n",
    "sorted(bigram_counter.items(), key=itemgetter(1), reverse=True)[0:10]"
   ]
  },
  {
   "cell_type": "code",
   "execution_count": 31,
   "metadata": {
    "collapsed": false
   },
   "outputs": [
    {
     "ename": "SyntaxError",
     "evalue": "invalid syntax (<ipython-input-31-36b2ed8b01d0>, line 8)",
     "output_type": "error",
     "traceback": [
      "\u001b[0;36m  File \u001b[0;32m\"<ipython-input-31-36b2ed8b01d0>\"\u001b[0;36m, line \u001b[0;32m8\u001b[0m\n\u001b[0;31m    ---Boxer---\u001b[0m\n\u001b[0m               ^\u001b[0m\n\u001b[0;31mSyntaxError\u001b[0m\u001b[0;31m:\u001b[0m invalid syntax\n"
     ]
    }
   ],
   "source": [
    "dir(nltk)\n",
    "#Interesting\n",
    "BigramAssocMeasures\n",
    "BigramCollocationFinder (from_words)\n",
    "BigramTagger\n",
    "BinaryMaxentFeatureEncoding\n",
    "BottomUpChartParser\n",
    "---Boxer---\n",
    "CRFTagger\n",
    "nltk.inference.discourse\n",
    "ConditionalFreqDist\n",
    "LineTokenizer\n",
    "MWETokenizer\n",
    "PorterStemmer\n",
    "SnowballStemmer\n",
    "Text\n",
    "TrigramTagger\n",
    "TweetTokenizer\n",
    "WordPunctTokenizer\n",
    "\n",
    "bigrams\n",
    "---cluster---\n",
    "demo\n",
    "discourse\n",
    "everygrams\n",
    "sent_tokenize\n",
    "word_tokenize"
   ]
  },
  {
   "cell_type": "code",
   "execution_count": null,
   "metadata": {
    "collapsed": true
   },
   "outputs": [],
   "source": []
  },
  {
   "cell_type": "code",
   "execution_count": null,
   "metadata": {
    "collapsed": true
   },
   "outputs": [],
   "source": []
  },
  {
   "cell_type": "code",
   "execution_count": null,
   "metadata": {
    "collapsed": true
   },
   "outputs": [],
   "source": []
  },
  {
   "cell_type": "code",
   "execution_count": null,
   "metadata": {
    "collapsed": true
   },
   "outputs": [],
   "source": []
  },
  {
   "cell_type": "code",
   "execution_count": null,
   "metadata": {
    "collapsed": true
   },
   "outputs": [],
   "source": []
  },
  {
   "cell_type": "code",
   "execution_count": null,
   "metadata": {
    "collapsed": true
   },
   "outputs": [],
   "source": []
  },
  {
   "cell_type": "code",
   "execution_count": null,
   "metadata": {
    "collapsed": true
   },
   "outputs": [],
   "source": []
  },
  {
   "cell_type": "code",
   "execution_count": null,
   "metadata": {
    "collapsed": true
   },
   "outputs": [],
   "source": []
  },
  {
   "cell_type": "code",
   "execution_count": 83,
   "metadata": {
    "collapsed": false,
    "slideshow": {
     "slide_type": "slide"
    }
   },
   "outputs": [
    {
     "name": "stdout",
     "output_type": "stream",
     "text": [
      "{0: 0, 1: 1, 2: 4, 3: 9, 4: 16, 5: 25, 6: 36, 7: 49, 8: 64, 9: 81}\n",
      "0 0\n",
      "2 4\n",
      "4 16\n",
      "6 36\n",
      "8 64\n"
     ]
    }
   ],
   "source": [
    "\n",
    "square_dict = {}\n",
    "\n",
    "for n in range(0,10):\n",
    "    square_dict[n] = n**2\n",
    "\n",
    "print(square_dict)\n",
    "    \n",
    "for eenie,meenie in square_dict.items():\n",
    "    if eenie % 2 == 0:\n",
    "        print(eenie,meenie)\n",
    "    "
   ]
  }
 ],
 "metadata": {
  "celltoolbar": "Slideshow",
  "kernelspec": {
   "display_name": "Python 3",
   "language": "python",
   "name": "python3"
  },
  "language_info": {
   "codemirror_mode": {
    "name": "ipython",
    "version": 3
   },
   "file_extension": ".py",
   "mimetype": "text/x-python",
   "name": "python",
   "nbconvert_exporter": "python",
   "pygments_lexer": "ipython3",
   "version": "3.5.1"
  }
 },
 "nbformat": 4,
 "nbformat_minor": 0
}
